{
 "cells": [
  {
   "cell_type": "code",
   "execution_count": 1,
   "id": "21dd2dc6-0e11-45a1-8a9d-71eb7df4db3b",
   "metadata": {},
   "outputs": [],
   "source": [
    "scene_path = \"../data/train/cloud/BH_RAF08MAY2024038491010700053SSANSTUC00GTDA\""
   ]
  },
  {
   "cell_type": "code",
   "execution_count": 2,
   "id": "ac946dc8-c951-4025-bcd1-774410ecc694",
   "metadata": {},
   "outputs": [
    {
     "name": "stdout",
     "output_type": "stream",
     "text": [
      "yes\n"
     ]
    }
   ],
   "source": [
    "import os\n",
    "import numpy as np\n",
    "import rasterio\n",
    "import matplotlib.pyplot as plt\n",
    "from glob import glob\n",
    "print(\"yes\")\n"
   ]
  },
  {
   "cell_type": "code",
   "execution_count": 3,
   "id": "24f25c3a-675c-4f87-8f59-101be60b7074",
   "metadata": {},
   "outputs": [
    {
     "name": "stdout",
     "output_type": "stream",
     "text": [
      "yes\n"
     ]
    }
   ],
   "source": [
    "# === Metadata Constants ===\n",
    "sun_elevation = 69.011613\n",
    "sun_zenith_angle = 90 - sun_elevation\n",
    "theta_rad = np.deg2rad(sun_zenith_angle)\n",
    "d = 0.983  # Earth–Sun distance (AU)\n",
    "\n",
    "# Lmin, Lmax for RS-2A LISS-4 (Green, Red, NIR)\n",
    "Lmin = [0.0, 0.0, 0.0]\n",
    "Lmax = [52.0, 47.0, 31.5]\n",
    "\n",
    "# Esun values for RS-2A (Green, Red, NIR)\n",
    "Esun = [185.347, 158.262, 110.81]\n",
    "print(\"yes\")"
   ]
  },
  {
   "cell_type": "code",
   "execution_count": 4,
   "id": "dbb22360-507a-4d90-97b6-c9f1474c094d",
   "metadata": {},
   "outputs": [],
   "source": [
    "def dn_to_radiance(dn_band, lmin, lmax):\n",
    "    return lmin + (dn_band / 255.0) * (lmax - lmin)\n",
    "\n",
    "def radiance_to_reflectance(L, esun, d, theta_rad):\n",
    "    return (np.pi * L * d**2) / (esun * np.cos(theta_rad))\n"
   ]
  },
  {
   "cell_type": "code",
   "execution_count": 5,
   "id": "99bbc1fe-05a3-4437-91d9-873517c83dd9",
   "metadata": {},
   "outputs": [
    {
     "name": "stdout",
     "output_type": "stream",
     "text": [
      "Found 0 images\n"
     ]
    }
   ],
   "source": [
    "# Make sure paths are correct based on where your notebook is\n",
    "input_folder = \"CLOUD/data/train/cloudimages\"\n",
    "output_folder = \"CLOUD/data/train/reflectance\"\n",
    "\n",
    "\n",
    "# Get all .tif images\n",
    "image_paths = glob(os.path.join(input_folder, \"*.tif\"))\n",
    "print(\"Found\", len(image_paths), \"images\")\n",
    "\n",
    "# Print image names to verify\n",
    "for img in image_paths:\n",
    "    print(\" -\", img)\n"
   ]
  },
  {
   "cell_type": "code",
   "execution_count": 6,
   "id": "e47e8ecd-9b54-4e0e-9805-c5d91805ecd8",
   "metadata": {},
   "outputs": [],
   "source": [
    "from PIL import Image\n",
    "import os\n",
    "from glob import glob\n",
    "\n",
    "input_folder = \"../data/train/cloudimages\"\n",
    "output_folder = \"../data/train/cloudimages_tiff\"\n",
    "os.makedirs(output_folder, exist_ok=True)\n",
    "\n",
    "# Convert all JPGs to TIFFs\n",
    "jpg_paths = glob(os.path.join(input_folder, \"*.jpg\"))\n",
    "\n",
    "for path in jpg_paths:\n",
    "    img = Image.open(path).convert(\"RGB\")  # Ensure 3-channel\n",
    "    filename = os.path.basename(path).replace(\".jpg\", \".tif\")\n",
    "    output_path = os.path.join(output_folder, filename)\n",
    "    img.save(output_path, format=\"TIFF\")\n",
    "    print(f\"Saved: {output_path}\")\n"
   ]
  },
  {
   "cell_type": "code",
   "execution_count": 8,
   "id": "34bf1a86-2146-4783-9a07-1b707edf1a0a",
   "metadata": {},
   "outputs": [],
   "source": [
    "import rasterio\n",
    "import numpy as np\n",
    "import os\n",
    "\n",
    "def read_bands(scene_path):\n",
    "    band_paths = {\n",
    "        \"BAND2\": os.path.join(scene_path, \"BAND2.tif\"),\n",
    "        \"BAND3\": os.path.join(scene_path, \"BAND3.tif\"),\n",
    "        \"BAND4\": os.path.join(scene_path, \"BAND4.tif\")\n",
    "    }\n",
    "\n",
    "    bands = {}\n",
    "    for band_name, path in band_paths.items():\n",
    "        with rasterio.open(path) as src:\n",
    "            bands[band_name] = src.read(1).astype(np.float32)\n",
    "            meta = src.meta  # use BAND2's metadata for writing later\n",
    "\n",
    "    return bands, meta\n",
    "\n"
   ]
  },
  {
   "cell_type": "code",
   "execution_count": 9,
   "id": "ae2a05a6-521c-446d-9011-286bc66ad7b3",
   "metadata": {},
   "outputs": [
    {
     "name": "stdout",
     "output_type": "stream",
     "text": [
      "✅ Bands loaded:\n",
      "BAND2: shape = (16735, 17891), dtype = float32\n",
      "BAND3: shape = (16735, 17891), dtype = float32\n",
      "BAND4: shape = (16735, 17891), dtype = float32\n"
     ]
    }
   ],
   "source": [
    "bands, meta = read_bands(scene_path)\n",
    "\n",
    "print(\"✅ Bands loaded:\")\n",
    "for k in bands:\n",
    "    print(f\"{k}: shape = {bands[k].shape}, dtype = {bands[k].dtype}\")"
   ]
  },
  {
   "cell_type": "code",
   "execution_count": 10,
   "id": "6371f6d0-5429-4308-b09d-aa673da6e3c5",
   "metadata": {},
   "outputs": [],
   "source": [
    "meta_path = \"../data/train/cloud/BH_RAF08MAY2024038491010700053SSANSTUC00GTDA/BAND_META.txt\""
   ]
  },
  {
   "cell_type": "code",
   "execution_count": 11,
   "id": "0e5e70bc-6e6a-45e3-a28d-b82149e87157",
   "metadata": {},
   "outputs": [
    {
     "name": "stdout",
     "output_type": "stream",
     "text": [
      "✅ Sun Elevation: 70.708525\n",
      "✅ Lmin: {'B2': 0.0, 'B3': 0.0, 'B4': 0.0}\n",
      "✅ Lmax: {'B2': 52.0, 'B3': 47.0, 'B4': 31.5}\n"
     ]
    }
   ],
   "source": [
    "def read_metadata(meta_path):\n",
    "    sun_elevation = None\n",
    "    Lmin = {}\n",
    "    Lmax = {}\n",
    "\n",
    "    with open(meta_path, \"r\") as f:\n",
    "        for line in f:\n",
    "            if \"SunElevationAtCenter\" in line:\n",
    "                sun_elevation = float(line.split(\"=\")[-1].strip())\n",
    "            for band in [\"B2\", \"B3\", \"B4\"]:\n",
    "                if f\"{band}_Lmin\" in line:\n",
    "                    Lmin[band] = float(line.split(\"=\")[-1].strip())\n",
    "                elif f\"{band}_Lmax\" in line:\n",
    "                    Lmax[band] = float(line.split(\"=\")[-1].strip())\n",
    "                    \n",
    "    return sun_elevation, Lmin, Lmax\n",
    "\n",
    "# Call it\n",
    "meta_path = os.path.join(scene_path, \"BAND_META.txt\")\n",
    "sun_elev, Lmin, Lmax = read_metadata(meta_path)\n",
    "\n",
    "print(\"✅ Sun Elevation:\", sun_elev)\n",
    "print(\"✅ Lmin:\", Lmin)\n",
    "print(\"✅ Lmax:\", Lmax)\n"
   ]
  },
  {
   "cell_type": "code",
   "execution_count": 12,
   "id": "9c1957d2-6436-4fcd-b447-bbf271c23bce",
   "metadata": {},
   "outputs": [
    {
     "name": "stdout",
     "output_type": "stream",
     "text": [
      "✅ Reflectance computed.\n",
      "BAND2: min=0.000, max=1.000\n",
      "BAND3: min=0.000, max=1.000\n",
      "BAND4: min=0.000, max=1.000\n"
     ]
    }
   ],
   "source": [
    "from math import pi, radians, cos\n",
    "\n",
    "def dn_to_radiance(dn, lmin, lmax):\n",
    "    return lmin + (dn / 255.0) * (lmax - lmin)\n",
    "\n",
    "def radiance_to_reflectance(L, Esun, d, theta_rad):\n",
    "    return (pi * L * d**2) / (Esun * cos(theta_rad))\n",
    "\n",
    "def convert_to_reflectance(bands, sun_elevation, Lmin, Lmax):\n",
    "    Esun = {\n",
    "        \"BAND2\": 185.347,\n",
    "        \"BAND3\": 158.262,\n",
    "        \"BAND4\": 110.81\n",
    "    }\n",
    "    d = 1.0  # Earth-Sun distance (can be taken from CSV later)\n",
    "    theta_rad = radians(90 - sun_elevation)\n",
    "\n",
    "    reflectance = {}\n",
    "    for band in bands:\n",
    "        band_key = band.replace(\"BAND\", \"B\")  # e.g., BAND2 → B2\n",
    "        L = dn_to_radiance(bands[band], Lmin[band_key], Lmax[band_key])\n",
    "        reflectance[band] = np.clip(\n",
    "            radiance_to_reflectance(L, Esun[band], d, theta_rad),\n",
    "            0, 1\n",
    "        )\n",
    "\n",
    "    return reflectance\n",
    "\n",
    "# Call it\n",
    "reflectance = convert_to_reflectance(bands, sun_elev, Lmin, Lmax)\n",
    "\n",
    "print(\"✅ Reflectance computed.\")\n",
    "for k in reflectance:\n",
    "    print(f\"{k}: min={reflectance[k].min():.3f}, max={reflectance[k].max():.3f}\")"
   ]
  },
  {
   "cell_type": "code",
   "execution_count": 13,
   "id": "4d9922ae-233a-429e-8d31-803d69b12ddc",
   "metadata": {},
   "outputs": [],
   "source": [
    "def classify_pixels_temp(reflectance):\n",
    "    b2 = reflectance[\"BAND2\"]\n",
    "    b3 = reflectance[\"BAND3\"]\n",
    "    b4 = reflectance[\"BAND4\"]\n",
    "\n",
    "    mask = np.zeros_like(b2, dtype=np.uint8)\n",
    "\n",
    "    # Optional: ignore zero-value pixels (probably nodata)\n",
    "    valid = (b2 > 0) & (b3 > 0) & (b4 > 0)\n",
    "\n",
    "    # 🌥️ CLOUD: very bright in all visible bands\n",
    "    cloud = (b2 > 0.35) & (b3 > 0.23) & (b4 > 0.22)\n",
    "\n",
    "    # 🌑 SHADOW: very dark in all bands + valid NDVI filtering\n",
    "   \n",
    "    ndvi = (b4 - b3) / (b4 + b3 + 1e-6)\n",
    "    shadow = (\n",
    "    (b2 < 0.1) & (b3 < 0.1) & (b4 < 0.12) & \n",
    "    (ndvi < 0.15)\n",
    "    )\n",
    "\n",
    "\n",
    "\n",
    "    mask[cloud] = 1\n",
    "    mask[shadow] = 2\n",
    "\n",
    "    return mask"
   ]
  },
  {
   "cell_type": "code",
   "execution_count": 14,
   "id": "146e3ba6-5422-44df-91d5-1e4ff293b760",
   "metadata": {},
   "outputs": [],
   "source": [
    "mask = classify_pixels_temp(reflectance)"
   ]
  },
  {
   "cell_type": "code",
   "execution_count": 15,
   "id": "593ef859-6b0a-4ca1-a443-3b1b436173b7",
   "metadata": {},
   "outputs": [],
   "source": [
    "import matplotlib.pyplot as plt\n",
    "import numpy as np\n",
    "\n",
    "def analyze_reflectance_by_class(reflectance, mask):\n",
    "    classes = {\n",
    "        0: \"NOCLOUD\",\n",
    "        1: \"CLOUD\",\n",
    "        2: \"SHADOW\"\n",
    "    }\n",
    "\n",
    "    bands = [\"BAND2\", \"BAND3\", \"BAND4\"]\n",
    "    colors = {0: \"gray\", 1: \"red\", 2: \"blue\"}\n",
    "\n",
    "    plt.figure(figsize=(18, 4))\n",
    "\n",
    "    for i, band in enumerate(bands):\n",
    "        band_data = reflectance[band].flatten()\n",
    "        band_mask = mask.flatten()\n",
    "\n",
    "        plt.subplot(1, 3, i + 1)\n",
    "        for cls in [0, 1, 2]:\n",
    "            class_vals = band_data[band_mask == cls]\n",
    "            if len(class_vals) > 0:\n",
    "                plt.hist(class_vals, bins=100, alpha=0.6,\n",
    "                         label=f\"{classes[cls]}\", color=colors[cls])\n",
    "        \n",
    "        plt.title(f\"{band} Reflectance Histogram\")\n",
    "        plt.xlabel(\"Reflectance\")\n",
    "        plt.ylabel(\"Pixel Count\")\n",
    "        plt.legend()\n",
    "\n",
    "    plt.tight_layout()\n",
    "    plt.show()\n",
    "\n",
    "    print(\"📊 Class-wise Reflectance Statistics:\")\n",
    "    for cls in [0, 1, 2]:\n",
    "        print(f\"\\n--- {classes[cls]} ---\")\n",
    "        for band in bands:\n",
    "            vals = reflectance[band][mask == cls]\n",
    "            if len(vals) == 0:\n",
    "                print(f\"{band}: [no pixels]\")\n",
    "            else:\n",
    "                print(f\"{band}: min={vals.min():.3f}, mean={vals.mean():.3f}, max={vals.max():.3f}\")"
   ]
  },
  {
   "cell_type": "code",
   "execution_count": 16,
   "id": "646aae20-0c6b-4915-8e6b-c19ae61388bb",
   "metadata": {},
   "outputs": [
    {
     "name": "stdout",
     "output_type": "stream",
     "text": [
      "Mask class counts: {np.uint8(0): np.int64(176), np.uint8(1): np.int64(236866731), np.uint8(2): np.int64(62538978)}\n"
     ]
    }
   ],
   "source": [
    "unique, counts = np.unique(mask, return_counts=True)\n",
    "print(\"Mask class counts:\", dict(zip(unique, counts)))"
   ]
  },
  {
   "cell_type": "code",
   "execution_count": 17,
   "id": "f6571c03-a937-46a5-9889-2ad7f04ad665",
   "metadata": {},
   "outputs": [
    {
     "data": {
      "image/png": "[encoded data removed]",
      "text/plain": [
       "<Figure size 1800x400 with 3 Axes>"
      ]
     },
     "metadata": {},
     "output_type": "display_data"
    },
    {
     "name": "stdout",
     "output_type": "stream",
     "text": [
      "📊 Class-wise Reflectance Statistics:\n",
      "\n",
      "--- NOCLOUD ---\n",
      "BAND2: min=0.341, mean=0.347, max=0.348\n",
      "BAND3: min=0.267, mean=0.397, max=0.585\n",
      "BAND4: min=0.701, mean=0.871, max=1.000\n",
      "\n",
      "--- CLOUD ---\n",
      "BAND2: min=0.352, mean=0.966, max=1.000\n",
      "BAND3: min=0.248, mean=0.961, max=1.000\n",
      "BAND4: min=0.505, mean=0.997, max=1.000\n",
      "\n",
      "--- SHADOW ---\n",
      "BAND2: min=0.000, mean=0.000, max=0.000\n",
      "BAND3: min=0.000, mean=0.000, max=0.000\n",
      "BAND4: min=0.000, mean=0.000, max=0.000\n"
     ]
    }
   ],
   "source": [
    "analyze_reflectance_by_class(reflectance, mask)"
   ]
  },
  {
   "cell_type": "code",
   "execution_count": 18,
   "id": "f039f09b-96e5-42eb-a539-7c1bcfbb9fb0",
   "metadata": {},
   "outputs": [
    {
     "name": "stdout",
     "output_type": "stream",
     "text": [
      "✅ Mask Class Distribution:\n",
      "NOCLOUD (0): 176 pixels\n",
      "CLOUD (1): 236866731 pixels\n",
      "SHADOW (2): 62538978 pixels\n"
     ]
    }
   ],
   "source": [
    "mask = classify_pixels_temp(reflectance)\n",
    "\n",
    "unique, counts = np.unique(mask, return_counts=True)\n",
    "label_map = {0: \"NOCLOUD\", 1: \"CLOUD\", 2: \"SHADOW\"}\n",
    "print(\"✅ Mask Class Distribution:\")\n",
    "for u, c in zip(unique, counts):\n",
    "    print(f\"{label_map[u]} ({u}): {c} pixels\")\n"
   ]
  },
  {
   "cell_type": "code",
   "execution_count": 19,
   "id": "aefce2d1-190f-419f-80ce-21118c63c7c1",
   "metadata": {},
   "outputs": [],
   "source": [
    "import os\n",
    "\n",
    "def save_mask(mask, meta, scene_path, output_root=\"../outputs/masks\"):\n",
    "    \"\"\"\n",
    "    Save a georeferenced mask with scene name in the output folder.\n",
    "    - mask: numpy array (HxW)\n",
    "    - meta: rasterio metadata\n",
    "    - scene_path: full path to the scene folder\n",
    "    - output_root: folder where masks will be stored\n",
    "    \"\"\"\n",
    "\n",
    "    # Ensure output folder exists\n",
    "    os.makedirs(output_root, exist_ok=True)\n",
    "\n",
    "    # Extract scene name and set output path\n",
    "    scene_name = os.path.basename(scene_path.rstrip(\"/\"))\n",
    "    output_path = os.path.join(output_root, f\"{scene_name}_mask.tif\")\n",
    "\n",
    "    # Update metadata and write\n",
    "    meta.update({\n",
    "        \"count\": 1,\n",
    "        \"dtype\": \"uint8\"\n",
    "    })\n",
    "\n",
    "    with rasterio.open(output_path, \"w\", **meta) as dst:\n",
    "        dst.write(mask, 1)\n",
    "\n",
    "    print(f\"✅ Saved georeferenced mask: {output_path}\")\n"
   ]
  },
  {
   "cell_type": "code",
   "execution_count": 20,
   "id": "9fce7a6c-ec87-4344-b2a7-738c7c280fe2",
   "metadata": {},
   "outputs": [
    {
     "name": "stdout",
     "output_type": "stream",
     "text": [
      "✅ Saved georeferenced mask: ../outputs/masks/BH_RAF08MAY2024038491010700053SSANSTUC00GTDA_mask.tif\n"
     ]
    }
   ],
   "source": [
    "save_mask(mask, meta, scene_path, output_root=\"../outputs/masks\")"
   ]
  },
  {
   "cell_type": "code",
   "execution_count": 21,
   "id": "77ba9960-bf62-400f-8d57-0a625691ae30",
   "metadata": {},
   "outputs": [],
   "source": [
    " # We'll use BAND3 (Red), BAND2 (Green), BAND4 (NIR) to simulate RGB\n",
    "r = reflectance[\"BAND3\"]\n",
    "g = reflectance[\"BAND2\"]\n",
    "b = reflectance[\"BAND4\"]\n",
    "\n",
    "# Stack into RGB and clip to [0,1] for display\n",
    "rgb = np.stack([r, g, b], axis=-1)\n",
    "rgb = np.clip(rgb, 0, 1)\n"
   ]
  },
  {
   "cell_type": "code",
   "execution_count": 24,
   "id": "e05612a7-9ff3-44d8-abf1-5296648096e2",
   "metadata": {},
   "outputs": [],
   "source": [
    "import os\n",
    "import matplotlib.pyplot as plt\n",
    "from skimage.transform import resize\n",
    "\n",
    "def save_mask_overlay_png(rgb, mask, scene_name, output_dir=\"../outputs/previews\", crop=None, scale=None):\n",
    "    \"\"\"\n",
    "    Saves a PNG of the reflectance RGB image with cloud/shadow mask overlay.\n",
    "    \n",
    "    Parameters:\n",
    "    - rgb: np.array (HxWx3) reflectance image\n",
    "    - mask: np.array (HxW) mask with values {0: NOCLOUD, 1: CLOUD, 2: SHADOW}\n",
    "    - scene_name: name of the scene (used in filename)\n",
    "    - output_dir: where to save the PNG\n",
    "    - crop: tuple of slices (rows, cols) to crop region\n",
    "    - scale: int factor to downsample full image\n",
    "    \"\"\"\n",
    "    \n",
    "    print(\"🎬 Starting PNG save for:\", scene_name)\n",
    "    os.makedirs(output_dir, exist_ok=True)\n",
    "\n",
    "    if crop:\n",
    "        rgb = rgb[crop]\n",
    "        mask = mask[crop]\n",
    "        suffix = \"crop\"\n",
    "    elif scale:\n",
    "        new_shape = (rgb.shape[0] // scale, rgb.shape[1] // scale)\n",
    "        rgb = resize(rgb, new_shape, anti_aliasing=True)\n",
    "        mask = resize(mask, new_shape, order=0, preserve_range=True).astype(np.uint8)\n",
    "        suffix = f\"scale{scale}\"\n",
    "    else:\n",
    "        raise ValueError(\"❌ You must provide either `crop` or `scale` argument.\")\n",
    "\n",
    "    # Plot and save PNG\n",
    "    plt.figure(figsize=(8, 8))\n",
    "    plt.imshow(rgb, alpha=0.7)\n",
    "    plt.imshow(mask, cmap=\"coolwarm\", alpha=0.3)\n",
    "    plt.axis(\"off\")\n",
    "    plt.title(f\"Mask Overlay - {scene_name} ({suffix})\")\n",
    "\n",
    "    save_path = os.path.join(output_dir, f\"{scene_name}_{suffix}.png\")\n",
    "    plt.savefig(save_path, bbox_inches=\"tight\", dpi=150)\n",
    "    plt.close()\n",
    "\n",
    "    print(f\"✅ Preview saved at: {save_path}\")\n"
   ]
  },
  {
   "cell_type": "code",
   "execution_count": 25,
   "id": "0aeb0814-dc83-4568-af12-8a1aca82ed4b",
   "metadata": {},
   "outputs": [
    {
     "name": "stdout",
     "output_type": "stream",
     "text": [
      "🎬 Starting PNG save for: BH_RAF08MAY2024\n",
      "✅ Preview saved at: ../outputs/previews/BH_RAF08MAY2024_scale10.png\n"
     ]
    }
   ],
   "source": [
    "save_mask_overlay_png(rgb, mask, scene_name=\"BH_RAF08MAY2024\", scale=10)\n"
   ]
  },
  {
   "cell_type": "code",
   "execution_count": 26,
   "id": "c6b4b004-7200-4e23-a7b1-809ef3206e0a",
   "metadata": {},
   "outputs": [
    {
     "name": "stdout",
     "output_type": "stream",
     "text": [
      "CRS: EPSG:32642\n",
      "Transform: | 5.00, 0.00, 538098.94|\n",
      "| 0.00,-5.00, 2851177.50|\n",
      "| 0.00, 0.00, 1.00|\n"
     ]
    }
   ],
   "source": [
    "import rasterio\n",
    "\n",
    "with rasterio.open(\"../outputs/masks/BH_RAF16SEP2024040353009000054SSANSTUC00GTDA_mask.tif\") as src:\n",
    "    print(\"CRS:\", src.crs)\n",
    "    print(\"Transform:\", src.transform)\n"
   ]
  },
  {
   "cell_type": "code",
   "execution_count": null,
   "id": "97bac6d5-5c1c-4e1a-a514-4a0f47750e4c",
   "metadata": {},
   "outputs": [],
   "source": []
  }
 ],
 "metadata": {
  "kernelspec": {
   "display_name": "Python (cloudvenv)",
   "language": "python",
   "name": "cloudvenv"
  },
  "language_info": {
   "codemirror_mode": {
    "name": "ipython",
    "version": 3
   },
   "file_extension": ".py",
   "mimetype": "text/x-python",
   "name": "python",
   "nbconvert_exporter": "python",
   "pygments_lexer": "ipython3",
   "version": "3.13.4"
  }
 },
 "nbformat": 4,
 "nbformat_minor": 5
}
