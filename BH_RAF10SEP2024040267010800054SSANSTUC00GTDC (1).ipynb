{
 "cells": [
  {
   "cell_type": "code",
   "execution_count": 5,
   "id": "d314c0c8-2dc7-4814-84ed-b48b289bde05",
   "metadata": {},
   "outputs": [
    {
     "name": "stdout",
     "output_type": "stream",
     "text": [
      "yes\n"
     ]
    }
   ],
   "source": [
    "import os\n",
    "import numpy as np\n",
    "import rasterio\n",
    "import matplotlib.pyplot as plt\n",
    "from glob import glob\n",
    "print(\"yes\")\n"
   ]
  },
  {
   "cell_type": "code",
   "execution_count": 6,
   "id": "c73e6c03-9c5e-4f48-9dcb-7d05d47ca1df",
   "metadata": {},
   "outputs": [
    {
     "name": "stdout",
     "output_type": "stream",
     "text": [
      "yes\n"
     ]
    }
   ],
   "source": [
    "# === Metadata Constants ===\n",
    "sun_elevation = 69.011613\n",
    "sun_zenith_angle = 90 - sun_elevation\n",
    "theta_rad = np.deg2rad(sun_zenith_angle)\n",
    "d = 0.983  # Earth–Sun distance (AU)\n",
    "\n",
    "# Lmin, Lmax for RS-2A LISS-4 (Green, Red, NIR)\n",
    "Lmin = [0.0, 0.0, 0.0]\n",
    "Lmax = [52.0, 47.0, 31.5]\n",
    "\n",
    "# Esun values for RS-2A (Green, Red, NIR)\n",
    "Esun = [185.347, 158.262, 110.81]\n",
    "print(\"yes\")"
   ]
  },
  {
   "cell_type": "code",
   "execution_count": 7,
   "id": "da5bf138-a0dd-4aa0-9aab-4f09f65703f6",
   "metadata": {},
   "outputs": [],
   "source": [
    "def dn_to_radiance(dn_band, lmin, lmax):\n",
    "    return lmin + (dn_band / 255.0) * (lmax - lmin)\n",
    "\n",
    "def radiance_to_reflectance(L, esun, d, theta_rad):\n",
    "    return (np.pi * L * d**2) / (esun * np.cos(theta_rad))\n"
   ]
  },
  {
   "cell_type": "code",
   "execution_count": 8,
   "id": "eeb846d5-8827-44e5-ae88-54cbcb44ab62",
   "metadata": {},
   "outputs": [
    {
     "name": "stdout",
     "output_type": "stream",
     "text": [
      "Found 0 images\n"
     ]
    }
   ],
   "source": [
    "# Make sure paths are correct based on where your notebook is\n",
    "input_folder = \"CLOUD/data/train/cloudimages\"\n",
    "output_folder = \"CLOUD/data/train/reflectance\"\n",
    "\n",
    "\n",
    "# Get all .tif images\n",
    "image_paths = glob(os.path.join(input_folder, \"*.tif\"))\n",
    "print(\"Found\", len(image_paths), \"images\")\n",
    "\n",
    "# Print image names to verify\n",
    "for img in image_paths:\n",
    "    print(\" -\", img)\n"
   ]
  },
  {
   "cell_type": "code",
   "execution_count": 9,
   "id": "de9bd295-c53a-4671-8911-f31206d9f22e",
   "metadata": {},
   "outputs": [
    {
     "name": "stdout",
     "output_type": "stream",
     "text": [
      "Current working directory:\n",
      "/Users/shreya/ CLOUD/notebooks\n"
     ]
    }
   ],
   "source": [
    "import os\n",
    "print(\"Current working directory:\")\n",
    "print(os.getcwd())\n"
   ]
  },
  {
   "cell_type": "code",
   "execution_count": 10,
   "id": "b090c2a3-da06-4541-ac88-5da36ee89cd0",
   "metadata": {},
   "outputs": [],
   "source": [
    "from PIL import Image\n",
    "import os\n",
    "from glob import glob\n",
    "\n",
    "input_folder = \"../data/train/cloudimages\"\n",
    "output_folder = \"../data/train/cloudimages_tiff\"\n",
    "os.makedirs(output_folder, exist_ok=True)\n",
    "\n",
    "# Convert all JPGs to TIFFs\n",
    "jpg_paths = glob(os.path.join(input_folder, \"*.jpg\"))\n",
    "\n",
    "for path in jpg_paths:\n",
    "    img = Image.open(path).convert(\"RGB\")  # Ensure 3-channel\n",
    "    filename = os.path.basename(path).replace(\".jpg\", \".tif\")\n",
    "    output_path = os.path.join(output_folder, filename)\n",
    "    img.save(output_path, format=\"TIFF\")\n",
    "    print(f\"Saved: {output_path}\")\n"
   ]
  },
  {
   "cell_type": "code",
   "execution_count": 11,
   "id": "e0801d6e-d9fa-4c9d-bd19-210af9ba01bd",
   "metadata": {},
   "outputs": [
    {
     "ename": "RasterioIOError",
     "evalue": "../data/train/cloudimages_tiff/R2F01JAN2025071113010900054SSANSTUC00GTDD (1).tif: No such file or directory",
     "output_type": "error",
     "traceback": [
      "\u001b[31m---------------------------------------------------------------------------\u001b[39m",
      "\u001b[31mCPLE_OpenFailedError\u001b[39m                      Traceback (most recent call last)",
      "\u001b[36mFile \u001b[39m\u001b[32mrasterio/_base.pyx:310\u001b[39m, in \u001b[36mrasterio._base.DatasetBase.__init__\u001b[39m\u001b[34m()\u001b[39m\n",
      "\u001b[36mFile \u001b[39m\u001b[32mrasterio/_base.pyx:221\u001b[39m, in \u001b[36mrasterio._base.open_dataset\u001b[39m\u001b[34m()\u001b[39m\n",
      "\u001b[36mFile \u001b[39m\u001b[32mrasterio/_err.pyx:359\u001b[39m, in \u001b[36mrasterio._err.exc_wrap_pointer\u001b[39m\u001b[34m()\u001b[39m\n",
      "\u001b[31mCPLE_OpenFailedError\u001b[39m: ../data/train/cloudimages_tiff/R2F01JAN2025071113010900054SSANSTUC00GTDD (1).tif: No such file or directory",
      "\nDuring handling of the above exception, another exception occurred:\n",
      "\u001b[31mRasterioIOError\u001b[39m                           Traceback (most recent call last)",
      "\u001b[36mCell\u001b[39m\u001b[36m \u001b[39m\u001b[32mIn[11]\u001b[39m\u001b[32m, line 3\u001b[39m\n\u001b[32m      1\u001b[39m \u001b[38;5;28;01mimport\u001b[39;00m\u001b[38;5;250m \u001b[39m\u001b[34;01mrasterio\u001b[39;00m\n\u001b[32m----> \u001b[39m\u001b[32m3\u001b[39m \u001b[38;5;28;01mwith\u001b[39;00m \u001b[43mrasterio\u001b[49m\u001b[43m.\u001b[49m\u001b[43mopen\u001b[49m\u001b[43m(\u001b[49m\u001b[33;43m\"\u001b[39;49m\u001b[33;43m../data/train/cloudimages_tiff/R2F01JAN2025071113010900054SSANSTUC00GTDD (1).tif\u001b[39;49m\u001b[33;43m\"\u001b[39;49m\u001b[43m)\u001b[49m \u001b[38;5;28;01mas\u001b[39;00m src:\n\u001b[32m      4\u001b[39m     crs = src.crs\n\u001b[32m      5\u001b[39m     transform = src.transform\n",
      "\u001b[36mFile \u001b[39m\u001b[32m~/cloudvenv/lib/python3.13/site-packages/rasterio/env.py:463\u001b[39m, in \u001b[36mensure_env_with_credentials.<locals>.wrapper\u001b[39m\u001b[34m(*args, **kwds)\u001b[39m\n\u001b[32m    460\u001b[39m     session = DummySession()\n\u001b[32m    462\u001b[39m \u001b[38;5;28;01mwith\u001b[39;00m env_ctor(session=session):\n\u001b[32m--> \u001b[39m\u001b[32m463\u001b[39m     \u001b[38;5;28;01mreturn\u001b[39;00m \u001b[43mf\u001b[49m\u001b[43m(\u001b[49m\u001b[43m*\u001b[49m\u001b[43margs\u001b[49m\u001b[43m,\u001b[49m\u001b[43m \u001b[49m\u001b[43m*\u001b[49m\u001b[43m*\u001b[49m\u001b[43mkwds\u001b[49m\u001b[43m)\u001b[49m\n",
      "\u001b[36mFile \u001b[39m\u001b[32m~/cloudvenv/lib/python3.13/site-packages/rasterio/__init__.py:356\u001b[39m, in \u001b[36mopen\u001b[39m\u001b[34m(fp, mode, driver, width, height, count, crs, transform, dtype, nodata, sharing, opener, **kwargs)\u001b[39m\n\u001b[32m    353\u001b[39m     path = _parse_path(raw_dataset_path)\n\u001b[32m    355\u001b[39m \u001b[38;5;28;01mif\u001b[39;00m mode == \u001b[33m\"\u001b[39m\u001b[33mr\u001b[39m\u001b[33m\"\u001b[39m:\n\u001b[32m--> \u001b[39m\u001b[32m356\u001b[39m     dataset = \u001b[43mDatasetReader\u001b[49m\u001b[43m(\u001b[49m\u001b[43mpath\u001b[49m\u001b[43m,\u001b[49m\u001b[43m \u001b[49m\u001b[43mdriver\u001b[49m\u001b[43m=\u001b[49m\u001b[43mdriver\u001b[49m\u001b[43m,\u001b[49m\u001b[43m \u001b[49m\u001b[43msharing\u001b[49m\u001b[43m=\u001b[49m\u001b[43msharing\u001b[49m\u001b[43m,\u001b[49m\u001b[43m \u001b[49m\u001b[43m*\u001b[49m\u001b[43m*\u001b[49m\u001b[43mkwargs\u001b[49m\u001b[43m)\u001b[49m\n\u001b[32m    357\u001b[39m \u001b[38;5;28;01melif\u001b[39;00m mode == \u001b[33m\"\u001b[39m\u001b[33mr+\u001b[39m\u001b[33m\"\u001b[39m:\n\u001b[32m    358\u001b[39m     dataset = get_writer_for_path(path, driver=driver)(\n\u001b[32m    359\u001b[39m         path, mode, driver=driver, sharing=sharing, **kwargs\n\u001b[32m    360\u001b[39m     )\n",
      "\u001b[36mFile \u001b[39m\u001b[32mrasterio/_base.pyx:312\u001b[39m, in \u001b[36mrasterio._base.DatasetBase.__init__\u001b[39m\u001b[34m()\u001b[39m\n",
      "\u001b[31mRasterioIOError\u001b[39m: ../data/train/cloudimages_tiff/R2F01JAN2025071113010900054SSANSTUC00GTDD (1).tif: No such file or directory"
     ]
    }
   ],
   "source": [
    "import rasterio\n",
    "\n",
    "with rasterio.open(\"../data/train/cloudimages_tiff/R2F01JAN2025071113010900054SSANSTUC00GTDD (1).tif\") as src:\n",
    "    crs = src.crs\n",
    "    transform = src.transform\n",
    "    meta = src.meta\n"
   ]
  },
  {
   "cell_type": "code",
   "execution_count": 12,
   "id": "e572b3fb-1da7-44bb-bba4-ebdc0eca73af",
   "metadata": {},
   "outputs": [
    {
     "name": "stdout",
     "output_type": "stream",
     "text": [
      "✅ Folder already exists: ../data/train/cloud\n",
      "\n",
      "📦 Now please move your dataset files (from ~/Desktop/clouds) into this folder:\n",
      "👉 Full path: /Users/shreya/ CLOUD/data/train/cloud\n",
      "\n",
      "You can do this by opening a Finder window and dragging files from your Desktop folder into it.\n",
      "\n",
      "📂 Current contents of the folder:\n",
      "['BH_RAF16SEP2024040353009000054SSANSTUC00GTDA', '.DS_Store', 'BH_RAF08MAY2024038491010700053SSANSTUC00GTDA', 'BH_R2F15JUN2024068272009300044SSANSTUC00GTDD', 'R2F02FEB2025071568010100068SSANSTUC00GTDB', 'RAF13NOV2024041177009200044SSANSTUC00GTDC', 'R2F01JAN2025071113010900054SSANSTUC00GTDD', 'R2F01JAN2025071113010900054SSANSTUC00GTDD 2', 'BH_R2F30APR2024067624010300067SSANSTUC00GTDB', 'BH_R2F05AUG2024068996010800054SSANSTUC00GTDD', 'BH_RAF22JUN2024039131009200052SSANSTUC00GTDA', 'RAF18MAY2025043819011000054SSANSTUC00GTDC', 'BH_RAF10SEP2024040267010800054SSANSTUC00GTDC', 'BH_R2F27AUG2024069309009800054SSANSTUC00GTDA', 'BH_R2F01SEP2024069380009900053SSANSTUC00GTDC', 'BH_RAF19JUL2024039514010700054SSANSTUC00GTDD', 'R2F02FEB2025071568010100068SSANSTUC00GTDB 2', 'R2F18JAN2025071363009800054SSANSTUC00GTDA', 'BH_RAF18AUG2024039941008900053SSANSTUC00GTDB']\n"
     ]
    }
   ],
   "source": [
    "import os\n",
    "\n",
    "# Define your target dataset folder inside your Jupyter project\n",
    "project_folder = \"../data/train/cloud\"\n",
    "\n",
    "# Step 1: Check if it exists\n",
    "if os.path.exists(project_folder):\n",
    "    if os.path.isdir(project_folder):\n",
    "        print(f\"✅ Folder already exists: {project_folder}\")\n",
    "    else:\n",
    "        print(f\"⚠️ A file named 'cloud' exists at {project_folder}. Please delete it manually and rerun this cell.\")\n",
    "else:\n",
    "    # Step 2: Create the folder\n",
    "    os.makedirs(project_folder, exist_ok=True)\n",
    "    print(f\"📁 Created folder: {project_folder}\")\n",
    "\n",
    "# Step 3: User instructions to move files\n",
    "print(\"\\n📦 Now please move your dataset files (from ~/Desktop/clouds) into this folder:\")\n",
    "print(f\"👉 Full path: {os.path.abspath(project_folder)}\")\n",
    "print(\"\\nYou can do this by opening a Finder window and dragging files from your Desktop folder into it.\")\n",
    "\n",
    "# Optional: Show current contents of the folder\n",
    "print(\"\\n📂 Current contents of the folder:\")\n",
    "print(os.listdir(project_folder))\n"
   ]
  },
  {
   "cell_type": "code",
   "execution_count": 13,
   "id": "9ccf9c47-5f1d-4bd4-8dcb-8eb2c9b5e0d6",
   "metadata": {},
   "outputs": [
    {
     "data": {
      "text/plain": [
       "0"
      ]
     },
     "execution_count": 13,
     "metadata": {},
     "output_type": "execute_result"
    }
   ],
   "source": [
    "import os\n",
    "folder = \"../data/train/cloud\"\n",
    "os.system(f\"open {folder}\")\n"
   ]
  },
  {
   "cell_type": "code",
   "execution_count": 14,
   "id": "b73c0394-5d99-467a-ab08-e3e9eaafc56a",
   "metadata": {},
   "outputs": [
    {
     "name": "stdout",
     "output_type": "stream",
     "text": [
      "🔍 Reading metadata from: ../data/train/cloud/BH_RAF16SEP2024040353009000054SSANSTUC00GTDA/BAND_META.txt\n",
      "✅ Sun Elevation: 60.786925\n",
      "✅ Band2 Lmin/Lmax: 0.0 / 52.0\n",
      "✅ Band3 Lmin/Lmax: 0.0 / 47.0\n",
      "✅ Band4 Lmin/Lmax: 0.0 / 31.5\n",
      "🔍 Reading metadata from: ../data/train/cloud/BH_RAF08MAY2024038491010700053SSANSTUC00GTDA/BAND_META.txt\n",
      "✅ Sun Elevation: 70.708525\n",
      "✅ Band2 Lmin/Lmax: 0.0 / 52.0\n",
      "✅ Band3 Lmin/Lmax: 0.0 / 47.0\n",
      "✅ Band4 Lmin/Lmax: 0.0 / 31.5\n",
      "🔍 Reading metadata from: ../data/train/cloud/BH_R2F15JUN2024068272009300044SSANSTUC00GTDD/BAND_META.txt\n",
      "✅ Sun Elevation: 65.32242\n",
      "✅ Band2 Lmin/Lmax: 0.0 / 52.0\n",
      "✅ Band3 Lmin/Lmax: 0.0 / 47.0\n",
      "✅ Band4 Lmin/Lmax: 0.0 / 31.5\n",
      "🔍 Reading metadata from: ../data/train/cloud/R2F02FEB2025071568010100068SSANSTUC00GTDB/BAND_META.txt\n",
      "✅ Sun Elevation: 46.170577\n",
      "✅ Band2 Lmin/Lmax: 0.0 / 52.0\n",
      "✅ Band3 Lmin/Lmax: 0.0 / 47.0\n",
      "✅ Band4 Lmin/Lmax: 0.0 / 31.5\n",
      "🔍 Reading metadata from: ../data/train/cloud/RAF13NOV2024041177009200044SSANSTUC00GTDC/BAND_META.txt\n",
      "✅ Sun Elevation: 33.591415\n",
      "✅ Band2 Lmin/Lmax: 0.0 / 52.0\n",
      "✅ Band3 Lmin/Lmax: 0.0 / 47.0\n",
      "✅ Band4 Lmin/Lmax: 0.0 / 31.5\n",
      "🔍 Reading metadata from: ../data/train/cloud/R2F01JAN2025071113010900054SSANSTUC00GTDD/BAND_META.txt\n",
      "✅ Sun Elevation: 33.944899\n",
      "✅ Band2 Lmin/Lmax: 0.0 / 52.0\n",
      "✅ Band3 Lmin/Lmax: 0.0 / 47.0\n",
      "✅ Band4 Lmin/Lmax: 0.0 / 31.5\n",
      "🔍 Reading metadata from: ../data/train/cloud/R2F01JAN2025071113010900054SSANSTUC00GTDD 2/BAND_META.txt\n",
      "✅ Sun Elevation: 33.944899\n",
      "✅ Band2 Lmin/Lmax: 0.0 / 52.0\n",
      "✅ Band3 Lmin/Lmax: 0.0 / 47.0\n",
      "✅ Band4 Lmin/Lmax: 0.0 / 31.5\n",
      "🔍 Reading metadata from: ../data/train/cloud/BH_R2F30APR2024067624010300067SSANSTUC00GTDB/BAND_META.txt\n",
      "✅ Sun Elevation: 62.315206\n",
      "✅ Band2 Lmin/Lmax: 0.0 / 52.0\n",
      "✅ Band3 Lmin/Lmax: 0.0 / 47.0\n",
      "✅ Band4 Lmin/Lmax: 0.0 / 31.5\n",
      "🔍 Reading metadata from: ../data/train/cloud/BH_R2F05AUG2024068996010800054SSANSTUC00GTDD/BAND_META.txt\n",
      "✅ Sun Elevation: 62.034208\n",
      "✅ Band2 Lmin/Lmax: 0.0 / 52.0\n",
      "✅ Band3 Lmin/Lmax: 0.0 / 47.0\n",
      "✅ Band4 Lmin/Lmax: 0.0 / 31.5\n",
      "🔍 Reading metadata from: ../data/train/cloud/BH_RAF22JUN2024039131009200052SSANSTUC00GTDA/BAND_META.txt\n",
      "✅ Sun Elevation: 71.795867\n",
      "✅ Band2 Lmin/Lmax: 0.0 / 52.0\n",
      "✅ Band3 Lmin/Lmax: 0.0 / 47.0\n",
      "✅ Band4 Lmin/Lmax: 0.0 / 31.5\n",
      "🔍 Reading metadata from: ../data/train/cloud/RAF18MAY2025043819011000054SSANSTUC00GTDC/BAND_META.txt\n",
      "✅ Sun Elevation: 69.542931\n",
      "✅ Band2 Lmin/Lmax: 0.0 / 52.0\n",
      "✅ Band3 Lmin/Lmax: 0.0 / 47.0\n",
      "✅ Band4 Lmin/Lmax: 0.0 / 31.5\n",
      "🔍 Reading metadata from: ../data/train/cloud/BH_RAF10SEP2024040267010800054SSANSTUC00GTDC/BAND_META.txt\n",
      "✅ Sun Elevation: 62.659743\n",
      "✅ Band2 Lmin/Lmax: 0.0 / 52.0\n",
      "✅ Band3 Lmin/Lmax: 0.0 / 47.0\n",
      "✅ Band4 Lmin/Lmax: 0.0 / 31.5\n",
      "🔍 Reading metadata from: ../data/train/cloud/BH_R2F27AUG2024069309009800054SSANSTUC00GTDA/BAND_META.txt\n",
      "✅ Sun Elevation: 58.855629\n",
      "✅ Band2 Lmin/Lmax: 0.0 / 52.0\n",
      "✅ Band3 Lmin/Lmax: 0.0 / 47.0\n",
      "✅ Band4 Lmin/Lmax: 0.0 / 31.5\n",
      "🔍 Reading metadata from: ../data/train/cloud/BH_R2F01SEP2024069380009900053SSANSTUC00GTDC/BAND_META.txt\n",
      "✅ Sun Elevation: 57.877902\n",
      "✅ Band2 Lmin/Lmax: 0.0 / 52.0\n",
      "✅ Band3 Lmin/Lmax: 0.0 / 47.0\n",
      "✅ Band4 Lmin/Lmax: 0.0 / 31.5\n",
      "🔍 Reading metadata from: ../data/train/cloud/BH_RAF19JUL2024039514010700054SSANSTUC00GTDD/BAND_META.txt\n",
      "✅ Sun Elevation: 70.500431\n",
      "✅ Band2 Lmin/Lmax: 0.0 / 52.0\n",
      "✅ Band3 Lmin/Lmax: 0.0 / 47.0\n",
      "✅ Band4 Lmin/Lmax: 0.0 / 31.5\n",
      "🔍 Reading metadata from: ../data/train/cloud/R2F02FEB2025071568010100068SSANSTUC00GTDB 2/BAND_META.txt\n",
      "✅ Sun Elevation: 46.170577\n",
      "✅ Band2 Lmin/Lmax: 0.0 / 52.0\n",
      "✅ Band3 Lmin/Lmax: 0.0 / 47.0\n",
      "✅ Band4 Lmin/Lmax: 0.0 / 31.5\n",
      "🔍 Reading metadata from: ../data/train/cloud/R2F18JAN2025071363009800054SSANSTUC00GTDA/BAND_META.txt\n",
      "✅ Sun Elevation: 34.051967\n",
      "✅ Band2 Lmin/Lmax: 0.0 / 52.0\n",
      "✅ Band3 Lmin/Lmax: 0.0 / 47.0\n",
      "✅ Band4 Lmin/Lmax: 0.0 / 31.5\n",
      "🔍 Reading metadata from: ../data/train/cloud/BH_RAF18AUG2024039941008900053SSANSTUC00GTDB/BAND_META.txt\n",
      "✅ Sun Elevation: 66.892428\n",
      "✅ Band2 Lmin/Lmax: 0.0 / 52.0\n",
      "✅ Band3 Lmin/Lmax: 0.0 / 47.0\n",
      "✅ Band4 Lmin/Lmax: 0.0 / 31.5\n"
     ]
    }
   ],
   "source": [
    "import os\n",
    "\n",
    "base_path = \"../data/train/cloud/\"\n",
    "scene_folders = [f.path for f in os.scandir(base_path) if f.is_dir()]\n",
    "\n",
    "for scene in scene_folders:\n",
    "    meta_path = os.path.join(scene, \"BAND_META.txt\")\n",
    "    print(f\"🔍 Reading metadata from: {meta_path}\")\n",
    "    \n",
    "    if os.path.exists(meta_path):\n",
    "        with open(meta_path, \"r\") as f:\n",
    "            for line in f:\n",
    "                if \"SunElevationAtCenter\" in line:\n",
    "                    sun_elevation = float(line.split(\"=\")[-1].strip())\n",
    "                elif \"B2_Lmin\" in line:\n",
    "                    B2_Lmin = float(line.split(\"=\")[-1].strip())\n",
    "                elif \"B2_Lmax\" in line:\n",
    "                    B2_Lmax = float(line.split(\"=\")[-1].strip())\n",
    "                elif \"B3_Lmin\" in line:\n",
    "                    B3_Lmin = float(line.split(\"=\")[-1].strip())\n",
    "                elif \"B3_Lmax\" in line:\n",
    "                    B3_Lmax = float(line.split(\"=\")[-1].strip())\n",
    "                elif \"B4_Lmin\" in line:\n",
    "                    B4_Lmin = float(line.split(\"=\")[-1].strip())\n",
    "                elif \"B4_Lmax\" in line:\n",
    "                    B4_Lmax = float(line.split(\"=\")[-1].strip())\n",
    "        \n",
    "        print(f\"✅ Sun Elevation: {sun_elevation}\")\n",
    "        print(f\"✅ Band2 Lmin/Lmax: {B2_Lmin} / {B2_Lmax}\")\n",
    "        print(f\"✅ Band3 Lmin/Lmax: {B3_Lmin} / {B3_Lmax}\")\n",
    "        print(f\"✅ Band4 Lmin/Lmax: {B4_Lmin} / {B4_Lmax}\")\n",
    "    else:\n",
    "        print(\"❌ BAND_META.txt not found.\")\n"
   ]
  },
  {
   "cell_type": "code",
   "execution_count": 15,
   "id": "ee4a0182-dd58-42ff-90bc-21255e6461cf",
   "metadata": {},
   "outputs": [],
   "source": [
    "import rasterio\n",
    "import numpy as np\n",
    "import os\n",
    "\n",
    "def read_bands(scene_path):\n",
    "    band_paths = {\n",
    "        \"BAND2\": os.path.join(scene_path, \"BAND2.tif\"),\n",
    "        \"BAND3\": os.path.join(scene_path, \"BAND3.tif\"),\n",
    "        \"BAND4\": os.path.join(scene_path, \"BAND4.tif\")\n",
    "    }\n",
    "\n",
    "    bands = {}\n",
    "    for band_name, path in band_paths.items():\n",
    "        with rasterio.open(path) as src:\n",
    "            bands[band_name] = src.read(1).astype(np.float32)\n",
    "            meta = src.meta  # use BAND2's metadata for writing later\n",
    "\n",
    "    return bands, meta\n",
    "\n"
   ]
  },
  {
   "cell_type": "code",
   "execution_count": 16,
   "id": "4692064b-db1d-4553-9478-23d896b4b1bd",
   "metadata": {},
   "outputs": [],
   "source": [
    "from math import cos, pi, radians\n",
    "\n",
    "def read_metadata(meta_path):\n",
    "    sun_elevation = None\n",
    "    Lmin = {}\n",
    "    Lmax = {}\n",
    "\n",
    "    with open(meta_path, \"r\") as f:\n",
    "        for line in f:\n",
    "            line = line.strip()\n",
    "            if \"SunElevationAtCenter\" in line:\n",
    "                sun_elevation = float(line.split(\"=\")[1])\n",
    "            for band in [\"B2\", \"B3\", \"B4\"]:\n",
    "                if f\"{band}_Lmin\" in line:\n",
    "                    Lmin[band] = float(line.split(\"=\")[1])\n",
    "                elif f\"{band}_Lmax\" in line:\n",
    "                    Lmax[band] = float(line.split(\"=\")[1])\n",
    "    return sun_elevation, Lmin, Lmax\n",
    "\n",
    "def dn_to_radiance(dn, lmin, lmax):\n",
    "    return lmin + (dn / 255.0) * (lmax - lmin)\n",
    "\n",
    "def radiance_to_reflectance(L, Esun, d, theta_rad):\n",
    "    return (pi * L * d**2) / (Esun * cos(theta_rad))\n",
    "\n",
    "def convert_to_reflectance(bands, sun_elevation, Lmin, Lmax):\n",
    "    d = 1.0  # assume average Earth-Sun distance in AU\n",
    "    theta_rad = radians(90 - sun_elevation)\n",
    "\n",
    "    Esun = {\n",
    "        \"BAND2\": 185.347,\n",
    "        \"BAND3\": 158.262,\n",
    "        \"BAND4\": 110.81\n",
    "    }\n",
    "\n",
    "    reflectance = {}\n",
    "    for band in bands:\n",
    "        L = dn_to_radiance(bands[band], Lmin[band.replace(\"BAND\", \"B\")], Lmax[band.replace(\"BAND\", \"B\")])\n",
    "        reflectance[band] = radiance_to_reflectance(L, Esun[band], d, theta_rad)\n",
    "        reflectance[band] = np.clip(reflectance[band], 0, 1)  # for safety\n",
    "\n",
    "    return reflectance\n"
   ]
  },
  {
   "cell_type": "code",
   "execution_count": 17,
   "id": "d55e55c6-1a0e-4faa-92bd-cca05c7060e2",
   "metadata": {},
   "outputs": [],
   "source": [
    "import matplotlib.pyplot as plt\n",
    "import numpy as np\n",
    "\n",
    "def analyze_reflectance_by_class(reflectance, mask):\n",
    "    classes = {\n",
    "        0: \"NOCLOUD\",\n",
    "        1: \"CLOUD\",\n",
    "        2: \"SHADOW\"\n",
    "    }\n",
    "\n",
    "    bands = [\"BAND2\", \"BAND3\", \"BAND4\"]\n",
    "    colors = {0: \"gray\", 1: \"red\", 2: \"blue\"}\n",
    "\n",
    "    plt.figure(figsize=(18, 4))\n",
    "\n",
    "    for i, band in enumerate(bands):\n",
    "        band_data = reflectance[band].flatten()\n",
    "        band_mask = mask.flatten()\n",
    "\n",
    "        plt.subplot(1, 3, i + 1)\n",
    "        for cls in [0, 1, 2]:\n",
    "            class_vals = band_data[band_mask == cls]\n",
    "            plt.hist(class_vals, bins=100, alpha=0.6, label=f\"{classes[cls]}\", color=colors[cls])\n",
    "        \n",
    "        plt.title(f\"{band} Reflectance Histogram\")\n",
    "        plt.xlabel(\"Reflectance\")\n",
    "        plt.ylabel(\"Pixel Count\")\n",
    "        plt.legend()\n",
    "\n",
    "    plt.tight_layout()\n",
    "    plt.show()\n",
    "\n",
    "    print(\"📊 Class-wise Reflectance Statistics:\")\n",
    "    for cls in [0, 1, 2]:\n",
    "        print(f\"\\n--- {classes[cls]} ---\")\n",
    "        for band in bands:\n",
    "            vals = reflectance[band][mask == cls]\n",
    "            if len(vals) == 0:\n",
    "                print(f\"{band}: [no pixels]\")\n",
    "                continue\n",
    "            print(f\"{band}: min={vals.min():.3f}, mean={vals.mean():.3f}, max={vals.max():.3f}\")\n"
   ]
  },
  {
   "cell_type": "code",
   "execution_count": 18,
   "id": "e5849226-82fa-4b6a-9cdd-f1f379b61f00",
   "metadata": {},
   "outputs": [],
   "source": [
    "def classify_pixels(reflectance):\n",
    "    b2 = reflectance[\"BAND2\"]\n",
    "    b3 = reflectance[\"BAND3\"]\n",
    "    b4 = reflectance[\"BAND4\"]\n",
    "\n",
    "    mask = np.zeros_like(b2, dtype=np.uint8)\n",
    "\n",
    "    # 1 = CLOUD: bright in Band2 (green), dark in Band4 (NIR)\n",
    "    cloud = (b2 > 0.2) & (b4 < 0.15)\n",
    "\n",
    "    # 2 = SHADOW: dark in all bands\n",
    "    shadow = (b2 < 0.07) & (b3 < 0.07) & (b4 < 0.07)\n",
    "\n",
    "    mask[cloud] = 1\n",
    "    mask[shadow] = 2\n",
    "\n",
    "    return mask\n"
   ]
  },
  {
   "cell_type": "code",
   "execution_count": 19,
   "id": "628a035a-0619-4fab-a754-74afa43961f2",
   "metadata": {},
   "outputs": [],
   "source": [
    "def save_mask(mask, meta, output_path):\n",
    "    meta.update({\n",
    "        \"count\": 1,\n",
    "        \"dtype\": \"uint8\"\n",
    "    })\n",
    "\n",
    "    with rasterio.open(output_path, \"w\", **meta) as dst:\n",
    "        dst.write(mask, 1)\n",
    "\n",
    "    print(f\"✅ Saved mask to: {output_path}\")\n"
   ]
  },
  {
   "cell_type": "code",
   "execution_count": 20,
   "id": "de3ce78a-444d-4a08-9486-078ca95a71e1",
   "metadata": {},
   "outputs": [
    {
     "name": "stdout",
     "output_type": "stream",
     "text": [
      "✅ Saved mask to: ../data/train/cloud/BH_RAF10SEP2024040267010800054SSANSTUC00GTDC/mask.tif\n"
     ]
    }
   ],
   "source": [
    "scene_path = \"../data/train/cloud/BH_RAF10SEP2024040267010800054SSANSTUC00GTDC\"\n",
    "\n",
    "# Step 1: Read Bands\n",
    "bands, meta = read_bands(scene_path)\n",
    "\n",
    "# Step 2: Metadata → Reflectance\n",
    "meta_path = os.path.join(scene_path, \"BAND_META.txt\")\n",
    "sun_elevation, Lmin, Lmax = read_metadata(meta_path)\n",
    "reflectance = convert_to_reflectance(bands, sun_elevation, Lmin, Lmax)\n",
    "\n",
    "# Step 3: Classify Pixels\n",
    "mask = classify_pixels(reflectance)\n",
    "\n",
    "# Step 4: Save Mask\n",
    "save_mask(mask, meta, os.path.join(scene_path, \"mask.tif\"))\n"
   ]
  },
  {
   "cell_type": "code",
   "execution_count": 21,
   "id": "c7838541-298f-4a61-acd6-8ad91f96246c",
   "metadata": {},
   "outputs": [],
   "source": [
    "scene_path = \"../data/train/cloud/BH_RAF10SEP2024040267010800054SSANSTUC00GTDC\"\n"
   ]
  },
  {
   "cell_type": "code",
   "execution_count": 22,
   "id": "63c8dc86-3631-4397-a5c2-0d6b55544817",
   "metadata": {},
   "outputs": [
    {
     "name": "stdout",
     "output_type": "stream",
     "text": [
      "Folder exists: True\n",
      "Files in folder: ['ACC_REP.txt', 'BAND_META.txt', 'RAF10SEP2024040267010800054SSANSTUC00GTDC.jpg.aux.xml', 'RAF10SEP2024040267010800054SSANSTUC00GTDC.jpg', 'RAF10SEP2024040267010800054SSANSTUC00GTDC.meta', 'BAND4.tif', 'mask.tif', 'BAND2.tif', 'BAND3.tif']\n"
     ]
    }
   ],
   "source": [
    "import os\n",
    "\n",
    "print(\"Folder exists:\", os.path.exists(scene_path))\n",
    "print(\"Files in folder:\", os.listdir(scene_path))\n"
   ]
  },
  {
   "cell_type": "code",
   "execution_count": 23,
   "id": "b4eaf831-9f75-4553-930f-3eb3768209fc",
   "metadata": {},
   "outputs": [
    {
     "name": "stdout",
     "output_type": "stream",
     "text": [
      "✅ Bands loaded:\n",
      "BAND2: shape = (16722, 17761), dtype = float32\n",
      "BAND3: shape = (16722, 17761), dtype = float32\n",
      "BAND4: shape = (16722, 17761), dtype = float32\n"
     ]
    }
   ],
   "source": [
    "bands, meta = read_bands(scene_path)\n",
    "\n",
    "print(\"✅ Bands loaded:\")\n",
    "for k in bands:\n",
    "    print(f\"{k}: shape = {bands[k].shape}, dtype = {bands[k].dtype}\")\n"
   ]
  },
  {
   "cell_type": "code",
   "execution_count": 24,
   "id": "c9974b81-8bf5-401a-b558-750f24c2789b",
   "metadata": {},
   "outputs": [
    {
     "name": "stdout",
     "output_type": "stream",
     "text": [
      "✅ Sun Elevation: 62.659743\n",
      "✅ Lmin: {'B2': 0.0, 'B3': 0.0, 'B4': 0.0}\n",
      "✅ Lmax: {'B2': 52.0, 'B3': 47.0, 'B4': 31.5}\n"
     ]
    }
   ],
   "source": [
    "def read_metadata(meta_path):\n",
    "    sun_elevation = None\n",
    "    Lmin = {}\n",
    "    Lmax = {}\n",
    "\n",
    "    with open(meta_path, \"r\") as f:\n",
    "        for line in f:\n",
    "            if \"SunElevationAtCenter\" in line:\n",
    "                sun_elevation = float(line.split(\"=\")[-1].strip())\n",
    "            for band in [\"B2\", \"B3\", \"B4\"]:\n",
    "                if f\"{band}_Lmin\" in line:\n",
    "                    Lmin[band] = float(line.split(\"=\")[-1].strip())\n",
    "                elif f\"{band}_Lmax\" in line:\n",
    "                    Lmax[band] = float(line.split(\"=\")[-1].strip())\n",
    "                    \n",
    "    return sun_elevation, Lmin, Lmax\n",
    "\n",
    "# Call it\n",
    "meta_path = os.path.join(scene_path, \"BAND_META.txt\")\n",
    "sun_elev, Lmin, Lmax = read_metadata(meta_path)\n",
    "\n",
    "print(\"✅ Sun Elevation:\", sun_elev)\n",
    "print(\"✅ Lmin:\", Lmin)\n",
    "print(\"✅ Lmax:\", Lmax)\n"
   ]
  },
  {
   "cell_type": "code",
   "execution_count": 25,
   "id": "db9e7918-a022-440e-b249-e15b5666cc4a",
   "metadata": {},
   "outputs": [
    {
     "name": "stdout",
     "output_type": "stream",
     "text": [
      "✅ Reflectance computed.\n",
      "BAND2: min=0.000, max=1.000\n",
      "BAND3: min=0.000, max=1.000\n",
      "BAND4: min=0.000, max=1.000\n"
     ]
    }
   ],
   "source": [
    "from math import pi, radians, cos\n",
    "\n",
    "def dn_to_radiance(dn, lmin, lmax):\n",
    "    return lmin + (dn / 255.0) * (lmax - lmin)\n",
    "\n",
    "def radiance_to_reflectance(L, Esun, d, theta_rad):\n",
    "    return (pi * L * d**2) / (Esun * cos(theta_rad))\n",
    "\n",
    "def convert_to_reflectance(bands, sun_elevation, Lmin, Lmax):\n",
    "    Esun = {\n",
    "        \"BAND2\": 185.347,\n",
    "        \"BAND3\": 158.262,\n",
    "        \"BAND4\": 110.81\n",
    "    }\n",
    "    d = 1.0  # Earth-Sun distance (can be taken from CSV later)\n",
    "    theta_rad = radians(90 - sun_elevation)\n",
    "\n",
    "    reflectance = {}\n",
    "    for band in bands:\n",
    "        band_key = band.replace(\"BAND\", \"B\")  # e.g., BAND2 → B2\n",
    "        L = dn_to_radiance(bands[band], Lmin[band_key], Lmax[band_key])\n",
    "        reflectance[band] = np.clip(\n",
    "            radiance_to_reflectance(L, Esun[band], d, theta_rad),\n",
    "            0, 1\n",
    "        )\n",
    "\n",
    "    return reflectance\n",
    "\n",
    "# Call it\n",
    "reflectance = convert_to_reflectance(bands, sun_elev, Lmin, Lmax)\n",
    "\n",
    "print(\"✅ Reflectance computed.\")\n",
    "for k in reflectance:\n",
    "    print(f\"{k}: min={reflectance[k].min():.3f}, max={reflectance[k].max():.3f}\")\n"
   ]
  },
  {
   "cell_type": "code",
   "execution_count": 25,
   "id": "db0c1cec-6ae2-482c-9887-6d5679269750",
   "metadata": {},
   "outputs": [
    {
     "name": "stdout",
     "output_type": "stream",
     "text": [
      "✅ Reflectance computed.\n",
      "BAND2: min=0.000, max=1.000\n",
      "BAND3: min=0.000, max=1.000\n",
      "BAND4: min=0.000, max=1.000\n"
     ]
    }
   ],
   "source": [
    "from math import pi, radians, cos\n",
    "\n",
    "def dn_to_radiance(dn, lmin, lmax):\n",
    "    return lmin + (dn / 255.0) * (lmax - lmin)\n",
    "\n",
    "def radiance_to_reflectance(L, Esun, d, theta_rad):\n",
    "    return (pi * L * d**2) / (Esun * cos(theta_rad))\n",
    "\n",
    "def convert_to_reflectance(bands, sun_elevation, Lmin, Lmax):\n",
    "    Esun = {\n",
    "        \"BAND2\": 185.347,\n",
    "        \"BAND3\": 158.262,\n",
    "        \"BAND4\": 110.81\n",
    "    }\n",
    "    d = 1.0  # Earth-Sun distance (can be taken from CSV later)\n",
    "    theta_rad = radians(90 - sun_elevation)\n",
    "\n",
    "    reflectance = {}\n",
    "    for band in bands:\n",
    "        band_key = band.replace(\"BAND\", \"B\")  # e.g., BAND2 → B2\n",
    "        L = dn_to_radiance(bands[band], Lmin[band_key], Lmax[band_key])\n",
    "        reflectance[band] = np.clip(\n",
    "            radiance_to_reflectance(L, Esun[band], d, theta_rad),\n",
    "            0, 1\n",
    "        )\n",
    "\n",
    "    return reflectance\n",
    "\n",
    "# Call it\n",
    "reflectance = convert_to_reflectance(bands, sun_elev, Lmin, Lmax)\n",
    "\n",
    "print(\"✅ Reflectance computed.\")\n",
    "for k in reflectance:\n",
    "    print(f\"{k}: min={reflectance[k].min():.3f}, max={reflectance[k].max():.3f}\")\n"
   ]
  },
  {
   "cell_type": "code",
   "execution_count": null,
   "id": "f1be77d1-0ffd-4886-a7e6-174e42821d62",
   "metadata": {},
   "outputs": [],
   "source": [
    "def classify_pixels_temp(reflectance):\n",
    "    b2 = reflectance[\"BAND2\"]\n",
    "    b3 = reflectance[\"BAND3\"]\n",
    "    b4 = reflectance[\"BAND4\"]\n",
    "\n",
    "    mask = np.zeros_like(b2, dtype=np.uint8)\n",
    "\n",
    "    # Optional: ignore zero-value pixels (probably nodata)\n",
    "    valid = (b2 > 0) & (b3 > 0) & (b4 > 0)\n",
    "\n",
    "    # 🌥️ CLOUD: very bright in all visible bands\n",
    "    cloud = (b2 > 0.35) & (b3 > 0.23) & (b4 > 0.22)\n",
    "\n",
    "    # 🌑 SHADOW: very dark in all bands + valid NDVI filtering\n",
    "   \n",
    "    ndvi = (b4 - b3) / (b4 + b3 + 1e-6)\n",
    "    shadow = (\n",
    "    (b2 < 0.1) & (b3 < 0.1) & (b4 < 0.12) & \n",
    "    (ndvi < 0.15)\n",
    "    )\n",
    "\n",
    "\n",
    "\n",
    "    mask[cloud] = 1\n",
    "    mask[shadow] = 2\n",
    "\n",
    "    return mask\n"
   ]
  },
  {
   "cell_type": "code",
   "execution_count": null,
   "id": "9086aa65-e5c8-4a10-81db-16d028034abe",
   "metadata": {},
   "outputs": [],
   "source": [
    "mask = classify_pixels_temp(reflectance)"
   ]
  },
  {
   "cell_type": "code",
   "execution_count": null,
   "id": "64ab127d-3c17-4937-88d1-fe01b7b901fd",
   "metadata": {},
   "outputs": [],
   "source": [
    "import matplotlib.pyplot as plt\n",
    "import numpy as np\n",
    "\n",
    "def analyze_reflectance_by_class(reflectance, mask):\n",
    "    classes = {\n",
    "        0: \"NOCLOUD\",\n",
    "        1: \"CLOUD\",\n",
    "        2: \"SHADOW\"\n",
    "    }\n",
    "\n",
    "    bands = [\"BAND2\", \"BAND3\", \"BAND4\"]\n",
    "    colors = {0: \"gray\", 1: \"red\", 2: \"blue\"}\n",
    "\n",
    "    plt.figure(figsize=(18, 4))\n",
    "\n",
    "    for i, band in enumerate(bands):\n",
    "        band_data = reflectance[band].flatten()\n",
    "        band_mask = mask.flatten()\n",
    "\n",
    "        plt.subplot(1, 3, i + 1)\n",
    "        for cls in [0, 1, 2]:\n",
    "            class_vals = band_data[band_mask == cls]\n",
    "            if len(class_vals) > 0:\n",
    "                plt.hist(class_vals, bins=100, alpha=0.6,\n",
    "                         label=f\"{classes[cls]}\", color=colors[cls])\n",
    "        \n",
    "        plt.title(f\"{band} Reflectance Histogram\")\n",
    "        plt.xlabel(\"Reflectance\")\n",
    "        plt.ylabel(\"Pixel Count\")\n",
    "        plt.legend()\n",
    "\n",
    "    plt.tight_layout()\n",
    "    plt.show()\n",
    "\n",
    "    print(\"📊 Class-wise Reflectance Statistics:\")\n",
    "    for cls in [0, 1, 2]:\n",
    "        print(f\"\\n--- {classes[cls]} ---\")\n",
    "        for band in bands:\n",
    "            vals = reflectance[band][mask == cls]\n",
    "            if len(vals) == 0:\n",
    "                print(f\"{band}: [no pixels]\")\n",
    "            else:\n",
    "                print(f\"{band}: min={vals.min():.3f}, mean={vals.mean():.3f}, max={vals.max():.3f}\")\n"
   ]
  },
  {
   "cell_type": "code",
   "execution_count": 29,
   "id": "eeb42b0e-5d72-4543-94d1-033b36c8824a",
   "metadata": {},
   "outputs": [
    {
     "name": "stdout",
     "output_type": "stream",
     "text": [
      "Mask class counts: {np.uint8(0): np.int64(2085088), np.uint8(1): np.int64(234360721), np.uint8(2): np.int64(60553633)}\n"
     ]
    }
   ],
   "source": [
    "unique, counts = np.unique(mask, return_counts=True)\n",
    "print(\"Mask class counts:\", dict(zip(unique, counts)))\n"
   ]
  },
  {
   "cell_type": "code",
   "execution_count": 30,
   "id": "bbe3590f-e201-4ae5-9dc8-f6a9c142c66f",
   "metadata": {},
   "outputs": [
    {
     "data": {
      "image/png": "[encoded data removed]",
      "text/plain": [
       "<Figure size 1800x400 with 3 Axes>"
      ]
     },
     "metadata": {},
     "output_type": "display_data"
    },
    {
     "name": "stdout",
     "output_type": "stream",
     "text": [
      "📊 Class-wise Reflectance Statistics:\n",
      "\n",
      "--- NOCLOUD ---\n",
      "BAND2: min=0.233, mean=0.334, max=1.000\n",
      "BAND3: min=0.037, mean=0.244, max=1.000\n",
      "BAND4: min=0.256, mean=0.795, max=1.000\n",
      "\n",
      "--- CLOUD ---\n",
      "BAND2: min=0.350, mean=0.665, max=1.000\n",
      "BAND3: min=0.231, mean=0.606, max=1.000\n",
      "BAND4: min=0.233, mean=0.940, max=1.000\n",
      "\n",
      "--- SHADOW ---\n",
      "BAND2: min=0.000, mean=0.000, max=0.000\n",
      "BAND3: min=0.000, mean=0.000, max=0.000\n",
      "BAND4: min=0.000, mean=0.000, max=0.000\n"
     ]
    }
   ],
   "source": [
    "analyze_reflectance_by_class(reflectance, mask)\n"
   ]
  },
  {
   "cell_type": "code",
   "execution_count": null,
   "id": "f2f71d9e-fab4-4e1e-8bda-5bdb8f6d63e1",
   "metadata": {},
   "outputs": [],
   "source": [
    "mask = classify_pixels_temp(reflectance)\n",
    "\n",
    "unique, counts = np.unique(mask, return_counts=True)\n",
    "label_map = {0: \"NOCLOUD\", 1: \"CLOUD\", 2: \"SHADOW\"}\n",
    "print(\"✅ Mask Class Distribution:\")\n",
    "for u, c in zip(unique, counts):\n",
    "    print(f\"{label_map[u]} ({u}): {c} pixels\")\n"
   ]
  },
  {
   "cell_type": "code",
   "execution_count": 32,
   "id": "f40009c1-8b6c-43f5-b52a-56230a902091",
   "metadata": {},
   "outputs": [
    {
     "ename": "RasterioIOError",
     "evalue": "Attempt to create new tiff file '../data/train/cloud/BH_RAF10SEP2024040267010800054SSANSTUC00GTDC' failed: Is a directory",
     "output_type": "error",
     "traceback": [
      "\u001b[31m---------------------------------------------------------------------------\u001b[39m",
      "\u001b[31mCPLE_OpenFailedError\u001b[39m                      Traceback (most recent call last)",
      "\u001b[36mFile \u001b[39m\u001b[32mrasterio/_io.pyx:1530\u001b[39m, in \u001b[36mrasterio._io.DatasetWriterBase.__init__\u001b[39m\u001b[34m()\u001b[39m\n",
      "\u001b[36mFile \u001b[39m\u001b[32mrasterio/_err.pyx:359\u001b[39m, in \u001b[36mrasterio._err.exc_wrap_pointer\u001b[39m\u001b[34m()\u001b[39m\n",
      "\u001b[31mCPLE_OpenFailedError\u001b[39m: Attempt to create new tiff file '../data/train/cloud/BH_RAF10SEP2024040267010800054SSANSTUC00GTDC' failed: Is a directory",
      "\nDuring handling of the above exception, another exception occurred:\n",
      "\u001b[31mRasterioIOError\u001b[39m                           Traceback (most recent call last)",
      "\u001b[36mCell\u001b[39m\u001b[36m \u001b[39m\u001b[32mIn[32]\u001b[39m\u001b[32m, line 1\u001b[39m\n\u001b[32m----> \u001b[39m\u001b[32m1\u001b[39m \u001b[43msave_mask\u001b[49m\u001b[43m(\u001b[49m\u001b[43mmask\u001b[49m\u001b[43m,\u001b[49m\u001b[43m \u001b[49m\u001b[43mmeta\u001b[49m\u001b[43m,\u001b[49m\u001b[43m \u001b[49m\u001b[43mscene_path\u001b[49m\u001b[43m)\u001b[49m\n",
      "\u001b[36mCell\u001b[39m\u001b[36m \u001b[39m\u001b[32mIn[19]\u001b[39m\u001b[32m, line 7\u001b[39m, in \u001b[36msave_mask\u001b[39m\u001b[34m(mask, meta, output_path)\u001b[39m\n\u001b[32m      1\u001b[39m \u001b[38;5;28;01mdef\u001b[39;00m\u001b[38;5;250m \u001b[39m\u001b[34msave_mask\u001b[39m(mask, meta, output_path):\n\u001b[32m      2\u001b[39m     meta.update({\n\u001b[32m      3\u001b[39m         \u001b[33m\"\u001b[39m\u001b[33mcount\u001b[39m\u001b[33m\"\u001b[39m: \u001b[32m1\u001b[39m,\n\u001b[32m      4\u001b[39m         \u001b[33m\"\u001b[39m\u001b[33mdtype\u001b[39m\u001b[33m\"\u001b[39m: \u001b[33m\"\u001b[39m\u001b[33muint8\u001b[39m\u001b[33m\"\u001b[39m\n\u001b[32m      5\u001b[39m     })\n\u001b[32m----> \u001b[39m\u001b[32m7\u001b[39m     \u001b[38;5;28;01mwith\u001b[39;00m \u001b[43mrasterio\u001b[49m\u001b[43m.\u001b[49m\u001b[43mopen\u001b[49m\u001b[43m(\u001b[49m\u001b[43moutput_path\u001b[49m\u001b[43m,\u001b[49m\u001b[43m \u001b[49m\u001b[33;43m\"\u001b[39;49m\u001b[33;43mw\u001b[39;49m\u001b[33;43m\"\u001b[39;49m\u001b[43m,\u001b[49m\u001b[43m \u001b[49m\u001b[43m*\u001b[49m\u001b[43m*\u001b[49m\u001b[43mmeta\u001b[49m\u001b[43m)\u001b[49m \u001b[38;5;28;01mas\u001b[39;00m dst:\n\u001b[32m      8\u001b[39m         dst.write(mask, \u001b[32m1\u001b[39m)\n\u001b[32m     10\u001b[39m     \u001b[38;5;28mprint\u001b[39m(\u001b[33mf\u001b[39m\u001b[33m\"\u001b[39m\u001b[33m✅ Saved mask to: \u001b[39m\u001b[38;5;132;01m{\u001b[39;00moutput_path\u001b[38;5;132;01m}\u001b[39;00m\u001b[33m\"\u001b[39m)\n",
      "\u001b[36mFile \u001b[39m\u001b[32m~/cloudvenv/lib/python3.13/site-packages/rasterio/env.py:463\u001b[39m, in \u001b[36mensure_env_with_credentials.<locals>.wrapper\u001b[39m\u001b[34m(*args, **kwds)\u001b[39m\n\u001b[32m    460\u001b[39m     session = DummySession()\n\u001b[32m    462\u001b[39m \u001b[38;5;28;01mwith\u001b[39;00m env_ctor(session=session):\n\u001b[32m--> \u001b[39m\u001b[32m463\u001b[39m     \u001b[38;5;28;01mreturn\u001b[39;00m \u001b[43mf\u001b[49m\u001b[43m(\u001b[49m\u001b[43m*\u001b[49m\u001b[43margs\u001b[49m\u001b[43m,\u001b[49m\u001b[43m \u001b[49m\u001b[43m*\u001b[49m\u001b[43m*\u001b[49m\u001b[43mkwds\u001b[49m\u001b[43m)\u001b[49m\n",
      "\u001b[36mFile \u001b[39m\u001b[32m~/cloudvenv/lib/python3.13/site-packages/rasterio/__init__.py:366\u001b[39m, in \u001b[36mopen\u001b[39m\u001b[34m(fp, mode, driver, width, height, count, crs, transform, dtype, nodata, sharing, opener, **kwargs)\u001b[39m\n\u001b[32m    364\u001b[39m writer = get_writer_for_driver(driver)\n\u001b[32m    365\u001b[39m \u001b[38;5;28;01mif\u001b[39;00m writer \u001b[38;5;129;01mis\u001b[39;00m \u001b[38;5;129;01mnot\u001b[39;00m \u001b[38;5;28;01mNone\u001b[39;00m:\n\u001b[32m--> \u001b[39m\u001b[32m366\u001b[39m     dataset = \u001b[43mwriter\u001b[49m\u001b[43m(\u001b[49m\n\u001b[32m    367\u001b[39m \u001b[43m        \u001b[49m\u001b[43mpath\u001b[49m\u001b[43m,\u001b[49m\n\u001b[32m    368\u001b[39m \u001b[43m        \u001b[49m\u001b[43mmode\u001b[49m\u001b[43m,\u001b[49m\n\u001b[32m    369\u001b[39m \u001b[43m        \u001b[49m\u001b[43mdriver\u001b[49m\u001b[43m=\u001b[49m\u001b[43mdriver\u001b[49m\u001b[43m,\u001b[49m\n\u001b[32m    370\u001b[39m \u001b[43m        \u001b[49m\u001b[43mwidth\u001b[49m\u001b[43m=\u001b[49m\u001b[43mwidth\u001b[49m\u001b[43m,\u001b[49m\n\u001b[32m    371\u001b[39m \u001b[43m        \u001b[49m\u001b[43mheight\u001b[49m\u001b[43m=\u001b[49m\u001b[43mheight\u001b[49m\u001b[43m,\u001b[49m\n\u001b[32m    372\u001b[39m \u001b[43m        \u001b[49m\u001b[43mcount\u001b[49m\u001b[43m=\u001b[49m\u001b[43mcount\u001b[49m\u001b[43m,\u001b[49m\n\u001b[32m    373\u001b[39m \u001b[43m        \u001b[49m\u001b[43mcrs\u001b[49m\u001b[43m=\u001b[49m\u001b[43mcrs\u001b[49m\u001b[43m,\u001b[49m\n\u001b[32m    374\u001b[39m \u001b[43m        \u001b[49m\u001b[43mtransform\u001b[49m\u001b[43m=\u001b[49m\u001b[43mtransform\u001b[49m\u001b[43m,\u001b[49m\n\u001b[32m    375\u001b[39m \u001b[43m        \u001b[49m\u001b[43mdtype\u001b[49m\u001b[43m=\u001b[49m\u001b[43mdtype\u001b[49m\u001b[43m,\u001b[49m\n\u001b[32m    376\u001b[39m \u001b[43m        \u001b[49m\u001b[43mnodata\u001b[49m\u001b[43m=\u001b[49m\u001b[43mnodata\u001b[49m\u001b[43m,\u001b[49m\n\u001b[32m    377\u001b[39m \u001b[43m        \u001b[49m\u001b[43msharing\u001b[49m\u001b[43m=\u001b[49m\u001b[43msharing\u001b[49m\u001b[43m,\u001b[49m\n\u001b[32m    378\u001b[39m \u001b[43m        \u001b[49m\u001b[43m*\u001b[49m\u001b[43m*\u001b[49m\u001b[43mkwargs\u001b[49m\n\u001b[32m    379\u001b[39m \u001b[43m    \u001b[49m\u001b[43m)\u001b[49m\n\u001b[32m    380\u001b[39m \u001b[38;5;28;01melse\u001b[39;00m:\n\u001b[32m    381\u001b[39m     \u001b[38;5;28;01mraise\u001b[39;00m DriverCapabilityError(\n\u001b[32m    382\u001b[39m         \u001b[33m\"\u001b[39m\u001b[33mWriter does not exist for driver: \u001b[39m\u001b[38;5;132;01m%s\u001b[39;00m\u001b[33m\"\u001b[39m % \u001b[38;5;28mstr\u001b[39m(driver)\n\u001b[32m    383\u001b[39m     )\n",
      "\u001b[36mFile \u001b[39m\u001b[32mrasterio/_io.pyx:1542\u001b[39m, in \u001b[36mrasterio._io.DatasetWriterBase.__init__\u001b[39m\u001b[34m()\u001b[39m\n",
      "\u001b[31mRasterioIOError\u001b[39m: Attempt to create new tiff file '../data/train/cloud/BH_RAF10SEP2024040267010800054SSANSTUC00GTDC' failed: Is a directory"
     ]
    }
   ],
   "source": [
    "save_mask(mask, meta, scene_path)\n"
   ]
  },
  {
   "cell_type": "code",
   "execution_count": 38,
   "id": "ed9af5b1-c3fe-431a-9861-037b86ce09c6",
   "metadata": {},
   "outputs": [
    {
     "name": "stdout",
     "output_type": "stream",
     "text": [
      "{np.uint8(0): np.int64(2085088), np.uint8(1): np.int64(234360721), np.uint8(2): np.int64(60553633)}\n"
     ]
    }
   ],
   "source": [
    "unique, counts = np.unique(mask, return_counts=True)\n",
    "print(dict(zip(unique, counts)))\n"
   ]
  },
  {
   "cell_type": "code",
   "execution_count": 39,
   "id": "2154954d-b862-4267-9843-8633d5c84058",
   "metadata": {},
   "outputs": [],
   "source": [
    "import os\n",
    "\n",
    "def save_mask(mask, meta, scene_path, output_root=\"../outputs/masks\"):\n",
    "    \"\"\"\n",
    "    Save a georeferenced mask with scene name in the output folder.\n",
    "    - mask: numpy array (HxW)\n",
    "    - meta: rasterio metadata\n",
    "    - scene_path: full path to the scene folder\n",
    "    - output_root: folder where masks will be stored\n",
    "    \"\"\"\n",
    "\n",
    "    # Ensure output folder exists\n",
    "    os.makedirs(output_root, exist_ok=True)\n",
    "\n",
    "    # Extract scene name and set output path\n",
    "    scene_name = os.path.basename(scene_path.rstrip(\"/\"))\n",
    "    output_path = os.path.join(output_root, f\"{scene_name}_mask.tif\")\n",
    "\n",
    "    # Update metadata and write\n",
    "    meta.update({\n",
    "        \"count\": 1,\n",
    "        \"dtype\": \"uint8\"\n",
    "    })\n",
    "\n",
    "    with rasterio.open(output_path, \"w\", **meta) as dst:\n",
    "        dst.write(mask, 1)\n",
    "\n",
    "    print(f\"✅ Saved georeferenced mask: {output_path}\")\n"
   ]
  },
  {
   "cell_type": "code",
   "execution_count": 40,
   "id": "736e6b2b-a7bd-42a4-bc0f-984764140dc3",
   "metadata": {},
   "outputs": [
    {
     "name": "stdout",
     "output_type": "stream",
     "text": [
      "✅ Saved georeferenced mask: ../outputs/masks/BH_RAF10SEP2024040267010800054SSANSTUC00GTDC_mask.tif\n"
     ]
    }
   ],
   "source": [
    "save_mask(mask, meta, scene_path, output_root=\"../outputs/masks\")"
   ]
  },
  {
   "cell_type": "code",
   "execution_count": 69,
   "id": "1d19bd83-5a73-4a48-9ad5-2339f7c6b442",
   "metadata": {},
   "outputs": [],
   "source": [
    " # We'll use BAND3 (Red), BAND2 (Green), BAND4 (NIR) to simulate RGB\n",
    "r = reflectance[\"BAND3\"]\n",
    "g = reflectance[\"BAND2\"]\n",
    "b = reflectance[\"BAND4\"]\n",
    "\n",
    "# Stack into RGB and clip to [0,1] for display\n",
    "rgb = np.stack([r, g, b], axis=-1)\n",
    "rgb = np.clip(rgb, 0, 1)\n"
   ]
  },
  {
   "cell_type": "code",
   "execution_count": 70,
   "id": "1aefb475-010d-4e0b-b8c2-4e712cab4ffa",
   "metadata": {},
   "outputs": [],
   "source": [
    "import rasterio\n",
    "\n",
    "mask_path = \"../outputs/masks/BH_RAF10SEP2024040267010800054SSANSTUC00GTDC_mask.tif\"\n",
    "\n",
    "with rasterio.open(mask_path) as src:\n",
    "    mask = src.read(1)\n"
   ]
  },
  {
   "cell_type": "code",
   "execution_count": 71,
   "id": "aef4d948-c331-4a9c-b905-67010799f06e",
   "metadata": {},
   "outputs": [
    {
     "name": "stdout",
     "output_type": "stream",
     "text": [
      "Previews folder exists: True\n"
     ]
    }
   ],
   "source": [
    "import os\n",
    "print(\"Previews folder exists:\", os.path.exists(\"../outputs/previews\"))\n"
   ]
  },
  {
   "cell_type": "code",
   "execution_count": 72,
   "id": "17a64c2d-6e44-4ef5-bde4-f07affab4cf7",
   "metadata": {},
   "outputs": [],
   "source": [
    "import os\n",
    "import matplotlib.pyplot as plt\n",
    "from skimage.transform import resize\n",
    "\n",
    "def save_mask_overlay_png(rgb, mask, scene_name, output_dir=\"../outputs/previews\", crop=None, scale=None):\n",
    "    \"\"\"\n",
    "    Saves a PNG of the reflectance RGB image with cloud/shadow mask overlay.\n",
    "    \n",
    "    Parameters:\n",
    "    - rgb: np.array (HxWx3) reflectance image\n",
    "    - mask: np.array (HxW) mask with values {0: NOCLOUD, 1: CLOUD, 2: SHADOW}\n",
    "    - scene_name: name of the scene (used in filename)\n",
    "    - output_dir: where to save the PNG\n",
    "    - crop: tuple of slices (rows, cols) to crop region\n",
    "    - scale: int factor to downsample full image\n",
    "    \"\"\"\n",
    "    \n",
    "    print(\"🎬 Starting PNG save for:\", scene_name)\n",
    "    os.makedirs(output_dir, exist_ok=True)\n",
    "\n",
    "    if crop:\n",
    "        rgb = rgb[crop]\n",
    "        mask = mask[crop]\n",
    "        suffix = \"crop\"\n",
    "    elif scale:\n",
    "        new_shape = (rgb.shape[0] // scale, rgb.shape[1] // scale)\n",
    "        rgb = resize(rgb, new_shape, anti_aliasing=True)\n",
    "        mask = resize(mask, new_shape, order=0, preserve_range=True).astype(np.uint8)\n",
    "        suffix = f\"scale{scale}\"\n",
    "    else:\n",
    "        raise ValueError(\"❌ You must provide either `crop` or `scale` argument.\")\n",
    "\n",
    "    # Plot and save PNG\n",
    "    plt.figure(figsize=(8, 8))\n",
    "    plt.imshow(rgb, alpha=0.7)\n",
    "    plt.imshow(mask, cmap=\"coolwarm\", alpha=0.3)\n",
    "    plt.axis(\"off\")\n",
    "    plt.title(f\"Mask Overlay - {scene_name} ({suffix})\")\n",
    "\n",
    "    save_path = os.path.join(output_dir, f\"{scene_name}_{suffix}.png\")\n",
    "    plt.savefig(save_path, bbox_inches=\"tight\", dpi=150)\n",
    "    plt.close()\n",
    "\n",
    "    print(f\"✅ Preview saved at: {save_path}\")\n"
   ]
  },
  {
   "cell_type": "code",
   "execution_count": 73,
   "id": "998e725a-ff7f-4ce4-b58e-3a8df534e08b",
   "metadata": {},
   "outputs": [
    {
     "name": "stdout",
     "output_type": "stream",
     "text": [
      "🎬 Starting PNG save for: BH_RAF10SEP2024\n",
      "✅ Preview saved at: ../outputs/previews/BH_RAF10SEP2024_crop.png\n"
     ]
    }
   ],
   "source": [
    "crop = (slice(3000, 3500), slice(3000, 3500))  # (rows, cols)\n",
    "save_mask_overlay_png(rgb, mask, scene_name=\"BH_RAF10SEP2024\", crop=crop)\n"
   ]
  },
  {
   "cell_type": "code",
   "execution_count": 74,
   "id": "7db2b0ef-2358-44b3-bbf1-85249884c3f9",
   "metadata": {},
   "outputs": [
    {
     "name": "stdout",
     "output_type": "stream",
     "text": [
      "🎬 Starting PNG save for: BH_RAF10SEP2024\n",
      "✅ Preview saved at: ../outputs/previews/BH_RAF10SEP2024_scale10.png\n"
     ]
    }
   ],
   "source": [
    "save_mask_overlay_png(rgb, mask, scene_name=\"BH_RAF10SEP2024\", scale=10)\n"
   ]
  },
  {
   "cell_type": "code",
   "execution_count": 75,
   "id": "4527098d-bb36-4023-99ac-3376038d29ec",
   "metadata": {},
   "outputs": [
    {
     "name": "stdout",
     "output_type": "stream",
     "text": [
      "CRS: EPSG:32642\n",
      "Transform: | 5.00, 0.00, 538098.94|\n",
      "| 0.00,-5.00, 2851177.50|\n",
      "| 0.00, 0.00, 1.00|\n"
     ]
    }
   ],
   "source": [
    "import rasterio\n",
    "\n",
    "with rasterio.open(\"../outputs/masks/BH_RAF10SEP2024040267010800054SSANSTUC00GTDC_mask.tif\") as src:\n",
    "    print(\"CRS:\", src.crs)\n",
    "    print(\"Transform:\", src.transform)\n"
   ]
  },
  {
   "cell_type": "code",
   "execution_count": 1,
   "id": "6fadba2e-bf55-4899-9603-cdfca4553e92",
   "metadata": {},
   "outputs": [
    {
     "name": "stdout",
     "output_type": "stream",
     "text": [
      "\n",
      "📁 Folder: ../data/train/cloud\n",
      "   └── .DS_Store\n",
      "\n",
      "📁 Folder: ../data/train/cloud/BH_RAF16SEP2024040353009000054SSANSTUC00GTDA\n",
      "   └── ACC_REP.txt\n",
      "   └── BAND_META.txt\n",
      "   └── RAF16SEP2024040353009000054SSANSTUC00GTDA.jpg\n",
      "   └── RAF16SEP2024040353009000054SSANSTUC00GTDA.meta\n",
      "   └── BAND4.tif\n",
      "   └── BAND2.tif\n",
      "   └── BAND3.tif\n",
      "   └── RAF16SEP2024040353009000054SSANSTUC00GTDA.jpg.aux.xml\n",
      "\n",
      "📁 Folder: ../data/train/cloud/BH_RAF08MAY2024038491010700053SSANSTUC00GTDA\n",
      "   └── ACC_REP.txt\n",
      "   └── RAF08MAY2024038491010700053SSANSTUC00GTDA.jpg\n",
      "   └── .DS_Store\n",
      "   └── BAND_META.txt\n",
      "   └── BAND4.tif\n",
      "   └── BAND2.tif\n",
      "   └── BAND3.tif\n",
      "   └── RAF08MAY2024038491010700053SSANSTUC00GTDA.meta\n",
      "   └── RAF08MAY2024038491010700053SSANSTUC00GTDA.jpg.aux.xml\n",
      "\n",
      "📁 Folder: ../data/train/cloud/BH_RAF08MAY2024038491010700053SSANSTUC00GTDA/BH_RAF16SEP2024040353009000054SSANSTUC00GTDA\n",
      "   └── ACC_REP.txt\n",
      "   └── BAND_META.txt\n",
      "   └── RAF16SEP2024040353009000054SSANSTUC00GTDA.jpg\n",
      "   └── RAF16SEP2024040353009000054SSANSTUC00GTDA.meta\n",
      "   └── BAND4.tif\n",
      "   └── BAND2.tif\n",
      "   └── BAND3.tif\n",
      "   └── RAF16SEP2024040353009000054SSANSTUC00GTDA.jpg.aux.xml\n",
      "\n",
      "📁 Folder: ../data/train/cloud/BH_RAF08MAY2024038491010700053SSANSTUC00GTDA/RAF13NOV2024041177009200044SSANSTUC00GTDC\n",
      "   └── ACC_REP.txt\n",
      "   └── RAF13NOV2024041177009200044SSANSTUC00GTDC.jpg.aux.xml\n",
      "   └── BAND_META.txt\n",
      "   └── BAND4.tif\n",
      "   └── BAND2.tif\n",
      "   └── BAND3.tif\n",
      "   └── RAF13NOV2024041177009200044SSANSTUC00GTDC.meta\n",
      "   └── RAF13NOV2024041177009200044SSANSTUC00GTDC.jpg\n",
      "\n",
      "📁 Folder: ../data/train/cloud/BH_RAF08MAY2024038491010700053SSANSTUC00GTDA/BH_RAF22JUN2024039131009200052SSANSTUC00GTDA\n",
      "   └── ACC_REP.txt\n",
      "   └── RAF22JUN2024039131009200052SSANSTUC00GTDA.jpg\n",
      "   └── BAND_META.txt\n",
      "   └── BAND4.tif\n",
      "   └── BAND2.tif\n",
      "   └── BAND3.tif\n",
      "   └── RAF22JUN2024039131009200052SSANSTUC00GTDA.jpg.aux.xml\n",
      "   └── RAF22JUN2024039131009200052SSANSTUC00GTDA.meta\n",
      "\n",
      "📁 Folder: ../data/train/cloud/BH_RAF08MAY2024038491010700053SSANSTUC00GTDA/RAF18MAY2025043819011000054SSANSTUC00GTDC\n",
      "   └── ACC_REP.txt\n",
      "   └── RAF18MAY2025043819011000054SSANSTUC00GTDC.meta\n",
      "   └── BAND_META.txt\n",
      "   └── BAND4.tif\n",
      "   └── RAF18MAY2025043819011000054SSANSTUC00GTDC.jpg.aux.xml\n",
      "   └── BAND2.tif\n",
      "   └── RAF18MAY2025043819011000054SSANSTUC00GTDC.jpg\n",
      "   └── BAND3.tif\n",
      "\n",
      "📁 Folder: ../data/train/cloud/BH_RAF08MAY2024038491010700053SSANSTUC00GTDA/BH_RAF19JUL2024039514010700054SSANSTUC00GTDD\n",
      "   └── ACC_REP.txt\n",
      "   └── BAND_META.txt\n",
      "   └── RAF19JUL2024039514010700054SSANSTUC00GTDD.jpg.aux.xml\n",
      "   └── RAF19JUL2024039514010700054SSANSTUC00GTDD.jpg\n",
      "   └── BAND4.tif\n",
      "   └── BAND2.tif\n",
      "   └── BAND3.tif\n",
      "   └── RAF19JUL2024039514010700054SSANSTUC00GTDD.meta\n",
      "\n",
      "📁 Folder: ../data/train/cloud/BH_RAF08MAY2024038491010700053SSANSTUC00GTDA/BH_RAF18AUG2024039941008900053SSANSTUC00GTDB\n",
      "   └── ACC_REP.txt\n",
      "   └── BAND_META.txt\n",
      "   └── RAF18AUG2024039941008900053SSANSTUC00GTDB.jpg\n",
      "   └── BAND4.tif\n",
      "   └── RAF18AUG2024039941008900053SSANSTUC00GTDB.meta\n",
      "   └── BAND2.tif\n",
      "   └── BAND3.tif\n",
      "   └── RAF18AUG2024039941008900053SSANSTUC00GTDB.jpg.aux.xml\n",
      "\n",
      "📁 Folder: ../data/train/cloud/BH_R2F15JUN2024068272009300044SSANSTUC00GTDD\n",
      "   └── ACC_REP.txt\n",
      "   └── R2F15JUN2024068272009300044SSANSTUC00GTDD.jpg.aux.xml\n",
      "   └── BAND_META.txt\n",
      "   └── BAND4.tif\n",
      "   └── BAND2.tif\n",
      "   └── BAND3.tif\n",
      "   └── R2F15JUN2024068272009300044SSANSTUC00GTDD.meta\n",
      "   └── R2F15JUN2024068272009300044SSANSTUC00GTDD.jpg\n",
      "\n",
      "📁 Folder: ../data/train/cloud/R2F02FEB2025071568010100068SSANSTUC00GTDB\n",
      "   └── ACC_REP.txt\n",
      "   └── BAND_META.txt\n",
      "   └── R2F02FEB2025071568010100068SSANSTUC00GTDB.jpg\n",
      "   └── BAND4.tif\n",
      "   └── BAND2.tif\n",
      "   └── BAND3.tif\n",
      "   └── R2F02FEB2025071568010100068SSANSTUC00GTDB.jpg.aux.xml\n",
      "   └── R2F02FEB2025071568010100068SSANSTUC00GTDB.meta\n",
      "\n",
      "📁 Folder: ../data/train/cloud/RAF13NOV2024041177009200044SSANSTUC00GTDC\n",
      "   └── ACC_REP.txt\n",
      "   └── RAF13NOV2024041177009200044SSANSTUC00GTDC.jpg.aux.xml\n",
      "   └── BAND_META.txt\n",
      "   └── BAND4.tif\n",
      "   └── BAND2.tif\n",
      "   └── BAND3.tif\n",
      "   └── RAF13NOV2024041177009200044SSANSTUC00GTDC.meta\n",
      "   └── RAF13NOV2024041177009200044SSANSTUC00GTDC.jpg\n",
      "\n",
      "📁 Folder: ../data/train/cloud/R2F01JAN2025071113010900054SSANSTUC00GTDD\n",
      "   └── ACC_REP.txt\n",
      "   └── BAND_META.txt\n",
      "   └── R2F01JAN2025071113010900054SSANSTUC00GTDD.meta\n",
      "   └── BAND4.tif\n",
      "   └── BAND2.tif\n",
      "   └── BAND3.tif\n",
      "   └── R2F01JAN2025071113010900054SSANSTUC00GTDD.jpg.aux.xml\n",
      "   └── R2F01JAN2025071113010900054SSANSTUC00GTDD.jpg\n",
      "\n",
      "📁 Folder: ../data/train/cloud/R2F01JAN2025071113010900054SSANSTUC00GTDD 2\n",
      "   └── ACC_REP.txt\n",
      "   └── BAND_META.txt\n",
      "   └── R2F01JAN2025071113010900054SSANSTUC00GTDD.meta\n",
      "   └── BAND4.tif\n",
      "   └── BAND2.tif\n",
      "   └── BAND3.tif\n",
      "   └── R2F01JAN2025071113010900054SSANSTUC00GTDD.jpg.aux.xml\n",
      "   └── R2F01JAN2025071113010900054SSANSTUC00GTDD.jpg\n",
      "\n",
      "📁 Folder: ../data/train/cloud/BH_R2F30APR2024067624010300067SSANSTUC00GTDB\n",
      "   └── ACC_REP.txt\n",
      "   └── BAND_META.txt\n",
      "   └── R2F30APR2024067624010300067SSANSTUC00GTDB.jpg\n",
      "   └── BAND4.tif\n",
      "   └── R2F30APR2024067624010300067SSANSTUC00GTDB.meta\n",
      "   └── BAND2.tif\n",
      "   └── BAND3.tif\n",
      "   └── R2F30APR2024067624010300067SSANSTUC00GTDB.jpg.aux.xml\n",
      "\n",
      "📁 Folder: ../data/train/cloud/BH_R2F05AUG2024068996010800054SSANSTUC00GTDD\n",
      "   └── ACC_REP.txt\n",
      "   └── BAND_META.txt\n",
      "   └── R2F05AUG2024068996010800054SSANSTUC00GTDD.meta\n",
      "   └── BAND4.tif\n",
      "   └── BAND2.tif\n",
      "   └── BAND3.tif\n",
      "   └── R2F05AUG2024068996010800054SSANSTUC00GTDD.jpg.aux.xml\n",
      "   └── R2F05AUG2024068996010800054SSANSTUC00GTDD.jpg\n",
      "\n",
      "📁 Folder: ../data/train/cloud/BH_RAF22JUN2024039131009200052SSANSTUC00GTDA\n",
      "   └── ACC_REP.txt\n",
      "   └── RAF22JUN2024039131009200052SSANSTUC00GTDA.jpg\n",
      "   └── BAND_META.txt\n",
      "   └── BAND4.tif\n",
      "   └── BAND2.tif\n",
      "   └── BAND3.tif\n",
      "   └── RAF22JUN2024039131009200052SSANSTUC00GTDA.jpg.aux.xml\n",
      "   └── RAF22JUN2024039131009200052SSANSTUC00GTDA.meta\n",
      "\n",
      "📁 Folder: ../data/train/cloud/RAF18MAY2025043819011000054SSANSTUC00GTDC\n",
      "   └── ACC_REP.txt\n",
      "   └── RAF18MAY2025043819011000054SSANSTUC00GTDC.meta\n",
      "   └── BAND_META.txt\n",
      "   └── BAND4.tif\n",
      "   └── RAF18MAY2025043819011000054SSANSTUC00GTDC.jpg.aux.xml\n",
      "   └── BAND2.tif\n",
      "   └── RAF18MAY2025043819011000054SSANSTUC00GTDC.jpg\n",
      "   └── BAND3.tif\n",
      "\n",
      "📁 Folder: ../data/train/cloud/BH_RAF10SEP2024040267010800054SSANSTUC00GTDC\n",
      "   └── ACC_REP.txt\n",
      "   └── BAND_META.txt\n",
      "   └── RAF10SEP2024040267010800054SSANSTUC00GTDC.jpg.aux.xml\n",
      "   └── RAF10SEP2024040267010800054SSANSTUC00GTDC.jpg\n",
      "   └── RAF10SEP2024040267010800054SSANSTUC00GTDC.meta\n",
      "   └── BAND4.tif\n",
      "   └── mask.tif\n",
      "   └── BAND2.tif\n",
      "   └── BAND3.tif\n",
      "\n",
      "📁 Folder: ../data/train/cloud/BH_R2F27AUG2024069309009800054SSANSTUC00GTDA\n",
      "   └── ACC_REP.txt\n",
      "   └── BAND_META.txt\n",
      "   └── R2F27AUG2024069309009800054SSANSTUC00GTDA.jpg\n",
      "   └── R2F27AUG2024069309009800054SSANSTUC00GTDA.jpg.aux.xml\n",
      "   └── R2F27AUG2024069309009800054SSANSTUC00GTDA.meta\n",
      "   └── BAND4.tif\n",
      "   └── BAND2.tif\n",
      "   └── BAND3.tif\n",
      "\n",
      "📁 Folder: ../data/train/cloud/BH_R2F01SEP2024069380009900053SSANSTUC00GTDC\n",
      "   └── ACC_REP.txt\n",
      "   └── BAND_META.txt\n",
      "   └── R2F01SEP2024069380009900053SSANSTUC00GTDC.meta\n",
      "   └── R2F01SEP2024069380009900053SSANSTUC00GTDC.jpg.aux.xml\n",
      "   └── R2F01SEP2024069380009900053SSANSTUC00GTDC.jpg\n",
      "   └── BAND4.tif\n",
      "   └── BAND2.tif\n",
      "   └── BAND3.tif\n",
      "\n",
      "📁 Folder: ../data/train/cloud/BH_R2F01SEP2024069380009900053SSANSTUC00GTDC/.ipynb_checkpoints\n",
      "   └── R2F01SEP2024069380009900053SSANSTUC00GTDC-checkpoint.jpg\n",
      "\n",
      "📁 Folder: ../data/train/cloud/BH_RAF19JUL2024039514010700054SSANSTUC00GTDD\n",
      "   └── ACC_REP.txt\n",
      "   └── BAND_META.txt\n",
      "   └── RAF19JUL2024039514010700054SSANSTUC00GTDD.jpg.aux.xml\n",
      "   └── RAF19JUL2024039514010700054SSANSTUC00GTDD.jpg\n",
      "   └── BAND4.tif\n",
      "   └── BAND2.tif\n",
      "   └── BAND3.tif\n",
      "   └── RAF19JUL2024039514010700054SSANSTUC00GTDD.meta\n",
      "\n",
      "📁 Folder: ../data/train/cloud/R2F02FEB2025071568010100068SSANSTUC00GTDB 2\n",
      "   └── ACC_REP.txt\n",
      "   └── BAND_META.txt\n",
      "   └── R2F02FEB2025071568010100068SSANSTUC00GTDB.jpg\n",
      "   └── BAND4.tif\n",
      "   └── BAND2.tif\n",
      "   └── BAND3.tif\n",
      "   └── R2F02FEB2025071568010100068SSANSTUC00GTDB.jpg.aux.xml\n",
      "   └── R2F02FEB2025071568010100068SSANSTUC00GTDB.meta\n",
      "\n",
      "📁 Folder: ../data/train/cloud/R2F18JAN2025071363009800054SSANSTUC00GTDA\n",
      "   └── ACC_REP.txt\n",
      "   └── R2F18JAN2025071363009800054SSANSTUC00GTDA.meta\n",
      "   └── BAND_META.txt\n",
      "   └── BAND4.tif\n",
      "   └── BAND2.tif\n",
      "   └── BAND3.tif\n",
      "   └── R2F18JAN2025071363009800054SSANSTUC00GTDA.jpg.aux.xml\n",
      "   └── R2F18JAN2025071363009800054SSANSTUC00GTDA.jpg\n",
      "\n",
      "📁 Folder: ../data/train/cloud/BH_RAF18AUG2024039941008900053SSANSTUC00GTDB\n",
      "   └── ACC_REP.txt\n",
      "   └── BAND_META.txt\n",
      "   └── RAF18AUG2024039941008900053SSANSTUC00GTDB.jpg\n",
      "   └── BAND4.tif\n",
      "   └── RAF18AUG2024039941008900053SSANSTUC00GTDB.meta\n",
      "   └── BAND2.tif\n",
      "   └── BAND3.tif\n",
      "   └── RAF18AUG2024039941008900053SSANSTUC00GTDB.jpg.aux.xml\n"
     ]
    }
   ],
   "source": [
    "import os\n",
    "\n",
    "def list_all_files(root_dir):\n",
    "    for foldername, subfolders, filenames in os.walk(root_dir):\n",
    "        print(f\"\\n📁 Folder: {foldername}\")\n",
    "        for filename in filenames:\n",
    "            print(\"   └──\", filename)\n",
    "\n",
    "# ✅ Replace with your actual dataset path\n",
    "dataset_path = \"../data/train/cloud\"\n",
    "list_all_files(dataset_path)\n"
   ]
  },
  {
   "cell_type": "code",
   "execution_count": 48,
   "id": "8e1382b2-dcd0-4ccd-82d3-be54794e8a2f",
   "metadata": {},
   "outputs": [],
   "source": [
    "scene_path2 = \"../data/train/cloud/BH_RAF16SEP2024040353009000054SSANSTUC00GTDA\"\n",
    "\n"
   ]
  },
  {
   "cell_type": "code",
   "execution_count": 49,
   "id": "8b63a0a9-2144-4a78-b00c-ab66fca18857",
   "metadata": {},
   "outputs": [
    {
     "name": "stdout",
     "output_type": "stream",
     "text": [
      "✅ Bands loaded:\n",
      "BAND2: shape = (16684, 17901), dtype = float32\n",
      "BAND3: shape = (16684, 17901), dtype = float32\n",
      "BAND4: shape = (16684, 17901), dtype = float32\n"
     ]
    }
   ],
   "source": [
    "bands, meta = read_bands(scene_path2)\n",
    "\n",
    "print(\"✅ Bands loaded:\")\n",
    "for k in bands:\n",
    "    print(f\"{k}: shape = {bands[k].shape}, dtype = {bands[k].dtype}\")\n"
   ]
  },
  {
   "cell_type": "code",
   "execution_count": 53,
   "id": "e84b91b3-5e86-45db-bef9-7fa5ab70e706",
   "metadata": {},
   "outputs": [],
   "source": [
    "meta_path = \"../data/train/cloud/BH_RAF16SEP2024040353009000054SSANSTUC00GTDA/BAND_META.txt\""
   ]
  },
  {
   "cell_type": "code",
   "execution_count": 54,
   "id": "f49dd8a4-382e-46ed-a21f-c8ef1a934cd4",
   "metadata": {},
   "outputs": [
    {
     "name": "stdout",
     "output_type": "stream",
     "text": [
      "✅ Sun Elevation: 62.659743\n",
      "✅ Lmin: {'B2': 0.0, 'B3': 0.0, 'B4': 0.0}\n",
      "✅ Lmax: {'B2': 52.0, 'B3': 47.0, 'B4': 31.5}\n"
     ]
    }
   ],
   "source": [
    "def read_metadata(meta_path):\n",
    "    sun_elevation = None\n",
    "    Lmin = {}\n",
    "    Lmax = {}\n",
    "\n",
    "    with open(meta_path, \"r\") as f:\n",
    "        for line in f:\n",
    "            if \"SunElevationAtCenter\" in line:\n",
    "                sun_elevation = float(line.split(\"=\")[-1].strip())\n",
    "            for band in [\"B2\", \"B3\", \"B4\"]:\n",
    "                if f\"{band}_Lmin\" in line:\n",
    "                    Lmin[band] = float(line.split(\"=\")[-1].strip())\n",
    "                elif f\"{band}_Lmax\" in line:\n",
    "                    Lmax[band] = float(line.split(\"=\")[-1].strip())\n",
    "                    \n",
    "    return sun_elevation, Lmin, Lmax\n",
    "\n",
    "# Call it\n",
    "meta_path = os.path.join(scene_path, \"BAND_META.txt\")\n",
    "sun_elev, Lmin, Lmax = read_metadata(meta_path)\n",
    "\n",
    "print(\"✅ Sun Elevation:\", sun_elev)\n",
    "print(\"✅ Lmin:\", Lmin)\n",
    "print(\"✅ Lmax:\", Lmax)\n"
   ]
  },
  {
   "cell_type": "code",
   "execution_count": 55,
   "id": "7a6b0fd2-1cf7-4cdf-abaf-caeacf069957",
   "metadata": {},
   "outputs": [
    {
     "name": "stdout",
     "output_type": "stream",
     "text": [
      "✅ Sun Elevation: 62.659743\n",
      "✅ Lmin: {'B2': 0.0, 'B3': 0.0, 'B4': 0.0}\n",
      "✅ Lmax: {'B2': 52.0, 'B3': 47.0, 'B4': 31.5}\n"
     ]
    }
   ],
   "source": [
    "def read_metadata(meta_path):\n",
    "    sun_elevation = None\n",
    "    Lmin = {}\n",
    "    Lmax = {}\n",
    "\n",
    "    with open(meta_path, \"r\") as f:\n",
    "        for line in f:\n",
    "            if \"SunElevationAtCenter\" in line:\n",
    "                sun_elevation = float(line.split(\"=\")[-1].strip())\n",
    "            for band in [\"B2\", \"B3\", \"B4\"]:\n",
    "                if f\"{band}_Lmin\" in line:\n",
    "                    Lmin[band] = float(line.split(\"=\")[-1].strip())\n",
    "                elif f\"{band}_Lmax\" in line:\n",
    "                    Lmax[band] = float(line.split(\"=\")[-1].strip())\n",
    "                    \n",
    "    return sun_elevation, Lmin, Lmax\n",
    "\n",
    "# Call it\n",
    "meta_path = os.path.join(scene_path, \"BAND_META.txt\")\n",
    "sun_elev, Lmin, Lmax = read_metadata(meta_path)\n",
    "\n",
    "print(\"✅ Sun Elevation:\", sun_elev)\n",
    "print(\"✅ Lmin:\", Lmin)\n",
    "print(\"✅ Lmax:\", Lmax)\n"
   ]
  },
  {
   "cell_type": "code",
   "execution_count": 56,
   "id": "29da29ee-6538-4f5c-a735-0014291ef001",
   "metadata": {},
   "outputs": [
    {
     "name": "stdout",
     "output_type": "stream",
     "text": [
      "✅ Reflectance computed.\n",
      "BAND2: min=0.000, max=1.000\n",
      "BAND3: min=0.000, max=1.000\n",
      "BAND4: min=0.000, max=1.000\n"
     ]
    }
   ],
   "source": [
    "from math import pi, radians, cos\n",
    "\n",
    "def dn_to_radiance(dn, lmin, lmax):\n",
    "    return lmin + (dn / 255.0) * (lmax - lmin)\n",
    "\n",
    "def radiance_to_reflectance(L, Esun, d, theta_rad):\n",
    "    return (pi * L * d**2) / (Esun * cos(theta_rad))\n",
    "\n",
    "def convert_to_reflectance(bands, sun_elevation, Lmin, Lmax):\n",
    "    Esun = {\n",
    "        \"BAND2\": 185.347,\n",
    "        \"BAND3\": 158.262,\n",
    "        \"BAND4\": 110.81\n",
    "    }\n",
    "    d = 1.0  # Earth-Sun distance (can be taken from CSV later)\n",
    "    theta_rad = radians(90 - sun_elevation)\n",
    "\n",
    "    reflectance = {}\n",
    "    for band in bands:\n",
    "        band_key = band.replace(\"BAND\", \"B\")  # e.g., BAND2 → B2\n",
    "        L = dn_to_radiance(bands[band], Lmin[band_key], Lmax[band_key])\n",
    "        reflectance[band] = np.clip(\n",
    "            radiance_to_reflectance(L, Esun[band], d, theta_rad),\n",
    "            0, 1\n",
    "        )\n",
    "\n",
    "    return reflectance\n",
    "\n",
    "# Call it\n",
    "reflectance = convert_to_reflectance(bands, sun_elev, Lmin, Lmax)\n",
    "\n",
    "print(\"✅ Reflectance computed.\")\n",
    "for k in reflectance:\n",
    "    print(f\"{k}: min={reflectance[k].min():.3f}, max={reflectance[k].max():.3f}\")\n"
   ]
  },
  {
   "cell_type": "code",
   "execution_count": 57,
   "id": "69e7998e-280a-43c4-8a85-6d5ed1330bd1",
   "metadata": {},
   "outputs": [],
   "source": [
    "def classify_pixels_temp(reflectance):\n",
    "    b2 = reflectance[\"BAND2\"]\n",
    "    b3 = reflectance[\"BAND3\"]\n",
    "    b4 = reflectance[\"BAND4\"]\n",
    "\n",
    "    mask = np.zeros_like(b2, dtype=np.uint8)\n",
    "\n",
    "    # Optional: ignore zero-value pixels (probably nodata)\n",
    "    valid = (b2 > 0) & (b3 > 0) & (b4 > 0)\n",
    "\n",
    "    # 🌥️ CLOUD: very bright in all visible bands\n",
    "    cloud = (b2 > 0.35) & (b3 > 0.23) & (b4 > 0.22)\n",
    "\n",
    "    # 🌑 SHADOW: very dark in all bands + valid NDVI filtering\n",
    "   \n",
    "    ndvi = (b4 - b3) / (b4 + b3 + 1e-6)\n",
    "    shadow = (\n",
    "    (b2 < 0.1) & (b3 < 0.1) & (b4 < 0.12) & \n",
    "    (ndvi < 0.15)\n",
    "    )\n",
    "\n",
    "\n",
    "\n",
    "    mask[cloud] = 1\n",
    "    mask[shadow] = 2\n",
    "\n",
    "    return mask\n"
   ]
  },
  {
   "cell_type": "code",
   "execution_count": 58,
   "id": "15f7a307-5527-4f3c-81ac-26f883d32522",
   "metadata": {},
   "outputs": [],
   "source": [
    "mask = classify_pixels_temp(reflectance)"
   ]
  },
  {
   "cell_type": "code",
   "execution_count": 59,
   "id": "ecccc077-adc6-4051-8459-649d5bb2b0ea",
   "metadata": {},
   "outputs": [],
   "source": [
    "import matplotlib.pyplot as plt\n",
    "import numpy as np\n",
    "\n",
    "def analyze_reflectance_by_class(reflectance, mask):\n",
    "    classes = {\n",
    "        0: \"NOCLOUD\",\n",
    "        1: \"CLOUD\",\n",
    "        2: \"SHADOW\"\n",
    "    }\n",
    "\n",
    "    bands = [\"BAND2\", \"BAND3\", \"BAND4\"]\n",
    "    colors = {0: \"gray\", 1: \"red\", 2: \"blue\"}\n",
    "\n",
    "    plt.figure(figsize=(18, 4))\n",
    "\n",
    "    for i, band in enumerate(bands):\n",
    "        band_data = reflectance[band].flatten()\n",
    "        band_mask = mask.flatten()\n",
    "\n",
    "        plt.subplot(1, 3, i + 1)\n",
    "        for cls in [0, 1, 2]:\n",
    "            class_vals = band_data[band_mask == cls]\n",
    "            if len(class_vals) > 0:\n",
    "                plt.hist(class_vals, bins=100, alpha=0.6,\n",
    "                         label=f\"{classes[cls]}\", color=colors[cls])\n",
    "        \n",
    "        plt.title(f\"{band} Reflectance Histogram\")\n",
    "        plt.xlabel(\"Reflectance\")\n",
    "        plt.ylabel(\"Pixel Count\")\n",
    "        plt.legend()\n",
    "\n",
    "    plt.tight_layout()\n",
    "    plt.show()\n",
    "\n",
    "    print(\"📊 Class-wise Reflectance Statistics:\")\n",
    "    for cls in [0, 1, 2]:\n",
    "        print(f\"\\n--- {classes[cls]} ---\")\n",
    "        for band in bands:\n",
    "            vals = reflectance[band][mask == cls]\n",
    "            if len(vals) == 0:\n",
    "                print(f\"{band}: [no pixels]\")\n",
    "            else:\n",
    "                print(f\"{band}: min={vals.min():.3f}, mean={vals.mean():.3f}, max={vals.max():.3f}\")"
   ]
  },
  {
   "cell_type": "code",
   "execution_count": 60,
   "id": "a281e799-bf27-43ef-baa3-0b89bb500bf3",
   "metadata": {},
   "outputs": [
    {
     "name": "stdout",
     "output_type": "stream",
     "text": [
      "Mask class counts: {np.uint8(1): np.int64(236152451), np.uint8(2): np.int64(62507833)}\n"
     ]
    }
   ],
   "source": [
    "unique, counts = np.unique(mask, return_counts=True)\n",
    "print(\"Mask class counts:\", dict(zip(unique, counts)))\n"
   ]
  },
  {
   "cell_type": "code",
   "execution_count": 61,
   "id": "89c65a5f-d322-4d49-bc61-df23aaac7113",
   "metadata": {},
   "outputs": [
    {
     "data": {
      "image/png": "[encoded data removed]",
      "text/plain": [
       "<Figure size 1800x400 with 3 Axes>"
      ]
     },
     "metadata": {},
     "output_type": "display_data"
    },
    {
     "name": "stdout",
     "output_type": "stream",
     "text": [
      "📊 Class-wise Reflectance Statistics:\n",
      "\n",
      "--- NOCLOUD ---\n",
      "BAND2: [no pixels]\n",
      "BAND3: [no pixels]\n",
      "BAND4: [no pixels]\n",
      "\n",
      "--- CLOUD ---\n",
      "BAND2: min=0.420, mean=0.841, max=1.000\n",
      "BAND3: min=0.334, mean=0.828, max=1.000\n",
      "BAND4: min=0.375, mean=0.976, max=1.000\n",
      "\n",
      "--- SHADOW ---\n",
      "BAND2: min=0.000, mean=0.000, max=0.000\n",
      "BAND3: min=0.000, mean=0.000, max=0.000\n",
      "BAND4: min=0.000, mean=0.000, max=0.000\n"
     ]
    }
   ],
   "source": [
    "analyze_reflectance_by_class(reflectance, mask)\n"
   ]
  },
  {
   "cell_type": "code",
   "execution_count": 62,
   "id": "5303d7eb-2399-4ac9-9db6-d9cac0add140",
   "metadata": {},
   "outputs": [
    {
     "name": "stdout",
     "output_type": "stream",
     "text": [
      "✅ Mask Class Distribution:\n",
      "CLOUD (1): 236152451 pixels\n",
      "SHADOW (2): 62507833 pixels\n"
     ]
    }
   ],
   "source": [
    "mask = classify_pixels_temp(reflectance)\n",
    "\n",
    "unique, counts = np.unique(mask, return_counts=True)\n",
    "label_map = {0: \"NOCLOUD\", 1: \"CLOUD\", 2: \"SHADOW\"}\n",
    "print(\"✅ Mask Class Distribution:\")\n",
    "for u, c in zip(unique, counts):\n",
    "    print(f\"{label_map[u]} ({u}): {c} pixels\")\n"
   ]
  },
  {
   "cell_type": "code",
   "execution_count": 63,
   "id": "57be5177-0929-4c09-b5d7-69f550c6a805",
   "metadata": {},
   "outputs": [
    {
     "name": "stdout",
     "output_type": "stream",
     "text": [
      "{np.uint8(1): np.int64(236152451), np.uint8(2): np.int64(62507833)}\n"
     ]
    }
   ],
   "source": [
    "unique, counts = np.unique(mask, return_counts=True)\n",
    "print(dict(zip(unique, counts)))\n"
   ]
  },
  {
   "cell_type": "code",
   "execution_count": 64,
   "id": "bd303244-e124-42a2-9faa-c450d04d22c3",
   "metadata": {},
   "outputs": [],
   "source": [
    "import os\n",
    "\n",
    "def save_mask(mask, meta, scene_path, output_root=\"../outputs/masks\"):\n",
    "    \"\"\"\n",
    "    Save a georeferenced mask with scene name in the output folder.\n",
    "    - mask: numpy array (HxW)\n",
    "    - meta: rasterio metadata\n",
    "    - scene_path: full path to the scene folder\n",
    "    - output_root: folder where masks will be stored\n",
    "    \"\"\"\n",
    "\n",
    "    # Ensure output folder exists\n",
    "    os.makedirs(output_root, exist_ok=True)\n",
    "\n",
    "    # Extract scene name and set output path\n",
    "    scene_name = os.path.basename(scene_path.rstrip(\"/\"))\n",
    "    output_path = os.path.join(output_root, f\"{scene_name}_mask.tif\")\n",
    "\n",
    "    # Update metadata and write\n",
    "    meta.update({\n",
    "        \"count\": 1,\n",
    "        \"dtype\": \"uint8\"\n",
    "    })\n",
    "\n",
    "    with rasterio.open(output_path, \"w\", **meta) as dst:\n",
    "        dst.write(mask, 1)\n",
    "\n",
    "    print(f\"✅ Saved georeferenced mask: {output_path}\")\n"
   ]
  },
  {
   "cell_type": "code",
   "execution_count": 65,
   "id": "7b6fc53c-18ef-4069-a4e3-bde9fc468d4c",
   "metadata": {},
   "outputs": [
    {
     "name": "stdout",
     "output_type": "stream",
     "text": [
      "✅ Saved georeferenced mask: ../outputs/masks/BH_RAF10SEP2024040267010800054SSANSTUC00GTDC_mask.tif\n"
     ]
    }
   ],
   "source": [
    "save_mask(mask, meta, scene_path, output_root=\"../outputs/masks\")"
   ]
  },
  {
   "cell_type": "code",
   "execution_count": 67,
   "id": "c533934e-aa8f-4262-b8f0-0eb4df5acb9a",
   "metadata": {},
   "outputs": [
    {
     "name": "stdout",
     "output_type": "stream",
     "text": [
      "../data/train/cloud/BH_RAF10SEP2024040267010800054SSANSTUC00GTDC/BAND_META.txt\n"
     ]
    }
   ],
   "source": [
    "print(meta_path)"
   ]
  },
  {
   "cell_type": "code",
   "execution_count": 76,
   "id": "03f61cff-1c15-4e6c-98fd-4da21fdd2215",
   "metadata": {},
   "outputs": [
    {
     "name": "stdout",
     "output_type": "stream",
     "text": [
      "\n",
      "📁 Folder: ../data/train/cloud\n",
      "   └── .DS_Store\n",
      "\n",
      "📁 Folder: ../data/train/cloud/BH_RAF16SEP2024040353009000054SSANSTUC00GTDA\n",
      "   └── ACC_REP.txt\n",
      "   └── BAND_META.txt\n",
      "   └── RAF16SEP2024040353009000054SSANSTUC00GTDA.jpg\n",
      "   └── RAF16SEP2024040353009000054SSANSTUC00GTDA.meta\n",
      "   └── BAND4.tif\n",
      "   └── BAND2.tif\n",
      "   └── BAND3.tif\n",
      "   └── RAF16SEP2024040353009000054SSANSTUC00GTDA.jpg.aux.xml\n",
      "\n",
      "📁 Folder: ../data/train/cloud/BH_RAF08MAY2024038491010700053SSANSTUC00GTDA\n",
      "   └── ACC_REP.txt\n",
      "   └── RAF08MAY2024038491010700053SSANSTUC00GTDA.jpg\n",
      "   └── .DS_Store\n",
      "   └── BAND_META.txt\n",
      "   └── BAND4.tif\n",
      "   └── BAND2.tif\n",
      "   └── BAND3.tif\n",
      "   └── RAF08MAY2024038491010700053SSANSTUC00GTDA.meta\n",
      "   └── RAF08MAY2024038491010700053SSANSTUC00GTDA.jpg.aux.xml\n",
      "\n",
      "📁 Folder: ../data/train/cloud/BH_RAF08MAY2024038491010700053SSANSTUC00GTDA/BH_RAF16SEP2024040353009000054SSANSTUC00GTDA\n",
      "   └── ACC_REP.txt\n",
      "   └── BAND_META.txt\n",
      "   └── RAF16SEP2024040353009000054SSANSTUC00GTDA.jpg\n",
      "   └── RAF16SEP2024040353009000054SSANSTUC00GTDA.meta\n",
      "   └── BAND4.tif\n",
      "   └── BAND2.tif\n",
      "   └── BAND3.tif\n",
      "   └── RAF16SEP2024040353009000054SSANSTUC00GTDA.jpg.aux.xml\n",
      "\n",
      "📁 Folder: ../data/train/cloud/BH_RAF08MAY2024038491010700053SSANSTUC00GTDA/RAF13NOV2024041177009200044SSANSTUC00GTDC\n",
      "   └── ACC_REP.txt\n",
      "   └── RAF13NOV2024041177009200044SSANSTUC00GTDC.jpg.aux.xml\n",
      "   └── BAND_META.txt\n",
      "   └── BAND4.tif\n",
      "   └── BAND2.tif\n",
      "   └── BAND3.tif\n",
      "   └── RAF13NOV2024041177009200044SSANSTUC00GTDC.meta\n",
      "   └── RAF13NOV2024041177009200044SSANSTUC00GTDC.jpg\n",
      "\n",
      "📁 Folder: ../data/train/cloud/BH_RAF08MAY2024038491010700053SSANSTUC00GTDA/BH_RAF22JUN2024039131009200052SSANSTUC00GTDA\n",
      "   └── ACC_REP.txt\n",
      "   └── RAF22JUN2024039131009200052SSANSTUC00GTDA.jpg\n",
      "   └── BAND_META.txt\n",
      "   └── BAND4.tif\n",
      "   └── BAND2.tif\n",
      "   └── BAND3.tif\n",
      "   └── RAF22JUN2024039131009200052SSANSTUC00GTDA.jpg.aux.xml\n",
      "   └── RAF22JUN2024039131009200052SSANSTUC00GTDA.meta\n",
      "\n",
      "📁 Folder: ../data/train/cloud/BH_RAF08MAY2024038491010700053SSANSTUC00GTDA/RAF18MAY2025043819011000054SSANSTUC00GTDC\n",
      "   └── ACC_REP.txt\n",
      "   └── RAF18MAY2025043819011000054SSANSTUC00GTDC.meta\n",
      "   └── BAND_META.txt\n",
      "   └── BAND4.tif\n",
      "   └── RAF18MAY2025043819011000054SSANSTUC00GTDC.jpg.aux.xml\n",
      "   └── BAND2.tif\n",
      "   └── RAF18MAY2025043819011000054SSANSTUC00GTDC.jpg\n",
      "   └── BAND3.tif\n",
      "\n",
      "📁 Folder: ../data/train/cloud/BH_RAF08MAY2024038491010700053SSANSTUC00GTDA/BH_RAF19JUL2024039514010700054SSANSTUC00GTDD\n",
      "   └── ACC_REP.txt\n",
      "   └── BAND_META.txt\n",
      "   └── RAF19JUL2024039514010700054SSANSTUC00GTDD.jpg.aux.xml\n",
      "   └── RAF19JUL2024039514010700054SSANSTUC00GTDD.jpg\n",
      "   └── BAND4.tif\n",
      "   └── BAND2.tif\n",
      "   └── BAND3.tif\n",
      "   └── RAF19JUL2024039514010700054SSANSTUC00GTDD.meta\n",
      "\n",
      "📁 Folder: ../data/train/cloud/BH_RAF08MAY2024038491010700053SSANSTUC00GTDA/BH_RAF18AUG2024039941008900053SSANSTUC00GTDB\n",
      "   └── ACC_REP.txt\n",
      "   └── BAND_META.txt\n",
      "   └── RAF18AUG2024039941008900053SSANSTUC00GTDB.jpg\n",
      "   └── BAND4.tif\n",
      "   └── RAF18AUG2024039941008900053SSANSTUC00GTDB.meta\n",
      "   └── BAND2.tif\n",
      "   └── BAND3.tif\n",
      "   └── RAF18AUG2024039941008900053SSANSTUC00GTDB.jpg.aux.xml\n",
      "\n",
      "📁 Folder: ../data/train/cloud/BH_R2F15JUN2024068272009300044SSANSTUC00GTDD\n",
      "   └── ACC_REP.txt\n",
      "   └── R2F15JUN2024068272009300044SSANSTUC00GTDD.jpg.aux.xml\n",
      "   └── BAND_META.txt\n",
      "   └── BAND4.tif\n",
      "   └── BAND2.tif\n",
      "   └── BAND3.tif\n",
      "   └── R2F15JUN2024068272009300044SSANSTUC00GTDD.meta\n",
      "   └── R2F15JUN2024068272009300044SSANSTUC00GTDD.jpg\n",
      "\n",
      "📁 Folder: ../data/train/cloud/R2F02FEB2025071568010100068SSANSTUC00GTDB\n",
      "   └── ACC_REP.txt\n",
      "   └── BAND_META.txt\n",
      "   └── R2F02FEB2025071568010100068SSANSTUC00GTDB.jpg\n",
      "   └── BAND4.tif\n",
      "   └── BAND2.tif\n",
      "   └── BAND3.tif\n",
      "   └── R2F02FEB2025071568010100068SSANSTUC00GTDB.jpg.aux.xml\n",
      "   └── R2F02FEB2025071568010100068SSANSTUC00GTDB.meta\n",
      "\n",
      "📁 Folder: ../data/train/cloud/RAF13NOV2024041177009200044SSANSTUC00GTDC\n",
      "   └── ACC_REP.txt\n",
      "   └── RAF13NOV2024041177009200044SSANSTUC00GTDC.jpg.aux.xml\n",
      "   └── BAND_META.txt\n",
      "   └── BAND4.tif\n",
      "   └── BAND2.tif\n",
      "   └── BAND3.tif\n",
      "   └── RAF13NOV2024041177009200044SSANSTUC00GTDC.meta\n",
      "   └── RAF13NOV2024041177009200044SSANSTUC00GTDC.jpg\n",
      "\n",
      "📁 Folder: ../data/train/cloud/R2F01JAN2025071113010900054SSANSTUC00GTDD\n",
      "   └── ACC_REP.txt\n",
      "   └── BAND_META.txt\n",
      "   └── R2F01JAN2025071113010900054SSANSTUC00GTDD.meta\n",
      "   └── BAND4.tif\n",
      "   └── BAND2.tif\n",
      "   └── BAND3.tif\n",
      "   └── R2F01JAN2025071113010900054SSANSTUC00GTDD.jpg.aux.xml\n",
      "   └── R2F01JAN2025071113010900054SSANSTUC00GTDD.jpg\n",
      "\n",
      "📁 Folder: ../data/train/cloud/R2F01JAN2025071113010900054SSANSTUC00GTDD 2\n",
      "   └── ACC_REP.txt\n",
      "   └── BAND_META.txt\n",
      "   └── R2F01JAN2025071113010900054SSANSTUC00GTDD.meta\n",
      "   └── BAND4.tif\n",
      "   └── BAND2.tif\n",
      "   └── BAND3.tif\n",
      "   └── R2F01JAN2025071113010900054SSANSTUC00GTDD.jpg.aux.xml\n",
      "   └── R2F01JAN2025071113010900054SSANSTUC00GTDD.jpg\n",
      "\n",
      "📁 Folder: ../data/train/cloud/BH_R2F30APR2024067624010300067SSANSTUC00GTDB\n",
      "   └── ACC_REP.txt\n",
      "   └── BAND_META.txt\n",
      "   └── R2F30APR2024067624010300067SSANSTUC00GTDB.jpg\n",
      "   └── BAND4.tif\n",
      "   └── R2F30APR2024067624010300067SSANSTUC00GTDB.meta\n",
      "   └── BAND2.tif\n",
      "   └── BAND3.tif\n",
      "   └── R2F30APR2024067624010300067SSANSTUC00GTDB.jpg.aux.xml\n",
      "\n",
      "📁 Folder: ../data/train/cloud/BH_R2F05AUG2024068996010800054SSANSTUC00GTDD\n",
      "   └── ACC_REP.txt\n",
      "   └── BAND_META.txt\n",
      "   └── R2F05AUG2024068996010800054SSANSTUC00GTDD.meta\n",
      "   └── BAND4.tif\n",
      "   └── BAND2.tif\n",
      "   └── BAND3.tif\n",
      "   └── R2F05AUG2024068996010800054SSANSTUC00GTDD.jpg.aux.xml\n",
      "   └── R2F05AUG2024068996010800054SSANSTUC00GTDD.jpg\n",
      "\n",
      "📁 Folder: ../data/train/cloud/BH_RAF22JUN2024039131009200052SSANSTUC00GTDA\n",
      "   └── ACC_REP.txt\n",
      "   └── RAF22JUN2024039131009200052SSANSTUC00GTDA.jpg\n",
      "   └── BAND_META.txt\n",
      "   └── BAND4.tif\n",
      "   └── BAND2.tif\n",
      "   └── BAND3.tif\n",
      "   └── RAF22JUN2024039131009200052SSANSTUC00GTDA.jpg.aux.xml\n",
      "   └── RAF22JUN2024039131009200052SSANSTUC00GTDA.meta\n",
      "\n",
      "📁 Folder: ../data/train/cloud/RAF18MAY2025043819011000054SSANSTUC00GTDC\n",
      "   └── ACC_REP.txt\n",
      "   └── RAF18MAY2025043819011000054SSANSTUC00GTDC.meta\n",
      "   └── BAND_META.txt\n",
      "   └── BAND4.tif\n",
      "   └── RAF18MAY2025043819011000054SSANSTUC00GTDC.jpg.aux.xml\n",
      "   └── BAND2.tif\n",
      "   └── RAF18MAY2025043819011000054SSANSTUC00GTDC.jpg\n",
      "   └── BAND3.tif\n",
      "\n",
      "📁 Folder: ../data/train/cloud/BH_RAF10SEP2024040267010800054SSANSTUC00GTDC\n",
      "   └── ACC_REP.txt\n",
      "   └── BAND_META.txt\n",
      "   └── RAF10SEP2024040267010800054SSANSTUC00GTDC.jpg.aux.xml\n",
      "   └── RAF10SEP2024040267010800054SSANSTUC00GTDC.jpg\n",
      "   └── RAF10SEP2024040267010800054SSANSTUC00GTDC.meta\n",
      "   └── BAND4.tif\n",
      "   └── mask.tif\n",
      "   └── BAND2.tif\n",
      "   └── BAND3.tif\n",
      "\n",
      "📁 Folder: ../data/train/cloud/BH_R2F27AUG2024069309009800054SSANSTUC00GTDA\n",
      "   └── ACC_REP.txt\n",
      "   └── BAND_META.txt\n",
      "   └── R2F27AUG2024069309009800054SSANSTUC00GTDA.jpg\n",
      "   └── R2F27AUG2024069309009800054SSANSTUC00GTDA.jpg.aux.xml\n",
      "   └── R2F27AUG2024069309009800054SSANSTUC00GTDA.meta\n",
      "   └── BAND4.tif\n",
      "   └── BAND2.tif\n",
      "   └── BAND3.tif\n",
      "\n",
      "📁 Folder: ../data/train/cloud/BH_R2F01SEP2024069380009900053SSANSTUC00GTDC\n",
      "   └── ACC_REP.txt\n",
      "   └── BAND_META.txt\n",
      "   └── R2F01SEP2024069380009900053SSANSTUC00GTDC.meta\n",
      "   └── R2F01SEP2024069380009900053SSANSTUC00GTDC.jpg.aux.xml\n",
      "   └── R2F01SEP2024069380009900053SSANSTUC00GTDC.jpg\n",
      "   └── BAND4.tif\n",
      "   └── BAND2.tif\n",
      "   └── BAND3.tif\n",
      "\n",
      "📁 Folder: ../data/train/cloud/BH_R2F01SEP2024069380009900053SSANSTUC00GTDC/.ipynb_checkpoints\n",
      "   └── R2F01SEP2024069380009900053SSANSTUC00GTDC-checkpoint.jpg\n",
      "\n",
      "📁 Folder: ../data/train/cloud/BH_RAF19JUL2024039514010700054SSANSTUC00GTDD\n",
      "   └── ACC_REP.txt\n",
      "   └── BAND_META.txt\n",
      "   └── RAF19JUL2024039514010700054SSANSTUC00GTDD.jpg.aux.xml\n",
      "   └── RAF19JUL2024039514010700054SSANSTUC00GTDD.jpg\n",
      "   └── BAND4.tif\n",
      "   └── BAND2.tif\n",
      "   └── BAND3.tif\n",
      "   └── RAF19JUL2024039514010700054SSANSTUC00GTDD.meta\n",
      "\n",
      "📁 Folder: ../data/train/cloud/R2F02FEB2025071568010100068SSANSTUC00GTDB 2\n",
      "   └── ACC_REP.txt\n",
      "   └── BAND_META.txt\n",
      "   └── R2F02FEB2025071568010100068SSANSTUC00GTDB.jpg\n",
      "   └── BAND4.tif\n",
      "   └── BAND2.tif\n",
      "   └── BAND3.tif\n",
      "   └── R2F02FEB2025071568010100068SSANSTUC00GTDB.jpg.aux.xml\n",
      "   └── R2F02FEB2025071568010100068SSANSTUC00GTDB.meta\n",
      "\n",
      "📁 Folder: ../data/train/cloud/R2F18JAN2025071363009800054SSANSTUC00GTDA\n",
      "   └── ACC_REP.txt\n",
      "   └── R2F18JAN2025071363009800054SSANSTUC00GTDA.meta\n",
      "   └── BAND_META.txt\n",
      "   └── BAND4.tif\n",
      "   └── BAND2.tif\n",
      "   └── BAND3.tif\n",
      "   └── R2F18JAN2025071363009800054SSANSTUC00GTDA.jpg.aux.xml\n",
      "   └── R2F18JAN2025071363009800054SSANSTUC00GTDA.jpg\n",
      "\n",
      "📁 Folder: ../data/train/cloud/BH_RAF18AUG2024039941008900053SSANSTUC00GTDB\n",
      "   └── ACC_REP.txt\n",
      "   └── BAND_META.txt\n",
      "   └── RAF18AUG2024039941008900053SSANSTUC00GTDB.jpg\n",
      "   └── BAND4.tif\n",
      "   └── RAF18AUG2024039941008900053SSANSTUC00GTDB.meta\n",
      "   └── BAND2.tif\n",
      "   └── BAND3.tif\n",
      "   └── RAF18AUG2024039941008900053SSANSTUC00GTDB.jpg.aux.xml\n"
     ]
    }
   ],
   "source": [
    "import os\n",
    "\n",
    "def list_all_files(root_dir):\n",
    "    for foldername, subfolders, filenames in os.walk(root_dir):\n",
    "        print(f\"\\n📁 Folder: {foldername}\")\n",
    "        for filename in filenames:\n",
    "            print(\"   └──\", filename)\n",
    "\n",
    "# ✅ Replace with your actual dataset path\n",
    "dataset_path = \"../data/train/cloud\"\n",
    "list_all_files(dataset_path)\n"
   ]
  },
  {
   "cell_type": "code",
   "execution_count": null,
   "id": "927ee05e-7a46-48af-bdd6-228dec463dff",
   "metadata": {},
   "outputs": [],
   "source": []
  }
 ],
 "metadata": {
  "kernelspec": {
   "display_name": "Python (cloudvenv)",
   "language": "python",
   "name": "cloudvenv"
  },
  "language_info": {
   "codemirror_mode": {
    "name": "ipython",
    "version": 3
   },
   "file_extension": ".py",
   "mimetype": "text/x-python",
   "name": "python",
   "nbconvert_exporter": "python",
   "pygments_lexer": "ipython3",
   "version": "3.13.4"
  }
 },
 "nbformat": 4,
 "nbformat_minor": 5
}
