{
 "cells": [
  {
   "cell_type": "code",
   "execution_count": 1,
   "id": "c508a404-1a2b-4396-b394-4ffd97146e78",
   "metadata": {},
   "outputs": [],
   "source": [
    "scene_path2 = \"../data/train/cloud/BH_RAF16SEP2024040353009000054SSANSTUC00GTDA\""
   ]
  },
  {
   "cell_type": "code",
   "execution_count": 3,
   "id": "8a781222-f674-46fa-a8e4-38b744657d8f",
   "metadata": {},
   "outputs": [
    {
     "name": "stdout",
     "output_type": "stream",
     "text": [
      "yes\n"
     ]
    }
   ],
   "source": [
    "import os\n",
    "import numpy as np\n",
    "import rasterio\n",
    "import matplotlib.pyplot as plt\n",
    "from glob import glob\n",
    "print(\"yes\")\n"
   ]
  },
  {
   "cell_type": "code",
   "execution_count": 4,
   "id": "104874af-02b8-42bb-b7c6-2aa2de08efc6",
   "metadata": {},
   "outputs": [
    {
     "name": "stdout",
     "output_type": "stream",
     "text": [
      "yes\n"
     ]
    }
   ],
   "source": [
    "# === Metadata Constants ===\n",
    "sun_elevation = 69.011613\n",
    "sun_zenith_angle = 90 - sun_elevation\n",
    "theta_rad = np.deg2rad(sun_zenith_angle)\n",
    "d = 0.983  # Earth–Sun distance (AU)\n",
    "\n",
    "# Lmin, Lmax for RS-2A LISS-4 (Green, Red, NIR)\n",
    "Lmin = [0.0, 0.0, 0.0]\n",
    "Lmax = [52.0, 47.0, 31.5]\n",
    "\n",
    "# Esun values for RS-2A (Green, Red, NIR)\n",
    "Esun = [185.347, 158.262, 110.81]\n",
    "print(\"yes\")"
   ]
  },
  {
   "cell_type": "code",
   "execution_count": 5,
   "id": "2099f1c4-86cd-429a-acc2-548a4776533a",
   "metadata": {},
   "outputs": [],
   "source": [
    "def dn_to_radiance(dn_band, lmin, lmax):\n",
    "    return lmin + (dn_band / 255.0) * (lmax - lmin)\n",
    "\n",
    "def radiance_to_reflectance(L, esun, d, theta_rad):\n",
    "    return (np.pi * L * d**2) / (esun * np.cos(theta_rad))\n"
   ]
  },
  {
   "cell_type": "code",
   "execution_count": 6,
   "id": "3445245b-2783-40c5-a136-a7e41af77580",
   "metadata": {},
   "outputs": [
    {
     "name": "stdout",
     "output_type": "stream",
     "text": [
      "Found 0 images\n"
     ]
    }
   ],
   "source": [
    "# Make sure paths are correct based on where your notebook is\n",
    "input_folder = \"CLOUD/data/train/cloudimages\"\n",
    "output_folder = \"CLOUD/data/train/reflectance\"\n",
    "\n",
    "\n",
    "# Get all .tif images\n",
    "image_paths = glob(os.path.join(input_folder, \"*.tif\"))\n",
    "print(\"Found\", len(image_paths), \"images\")\n",
    "\n",
    "# Print image names to verify\n",
    "for img in image_paths:\n",
    "    print(\" -\", img)\n"
   ]
  },
  {
   "cell_type": "code",
   "execution_count": 7,
   "id": "60af3703-b23f-4a95-a882-0e4915ee61bb",
   "metadata": {},
   "outputs": [],
   "source": [
    "from PIL import Image\n",
    "import os\n",
    "from glob import glob\n",
    "\n",
    "input_folder = \"../data/train/cloudimages\"\n",
    "output_folder = \"../data/train/cloudimages_tiff\"\n",
    "os.makedirs(output_folder, exist_ok=True)\n",
    "\n",
    "# Convert all JPGs to TIFFs\n",
    "jpg_paths = glob(os.path.join(input_folder, \"*.jpg\"))\n",
    "\n",
    "for path in jpg_paths:\n",
    "    img = Image.open(path).convert(\"RGB\")  # Ensure 3-channel\n",
    "    filename = os.path.basename(path).replace(\".jpg\", \".tif\")\n",
    "    output_path = os.path.join(output_folder, filename)\n",
    "    img.save(output_path, format=\"TIFF\")\n",
    "    print(f\"Saved: {output_path}\")\n"
   ]
  },
  {
   "cell_type": "code",
   "execution_count": 8,
   "id": "b4614515-3d73-4e55-8f27-6bdfdef8bdff",
   "metadata": {},
   "outputs": [
    {
     "name": "stdout",
     "output_type": "stream",
     "text": [
      "🔍 Reading metadata from: ../data/train/cloud/BH_RAF16SEP2024040353009000054SSANSTUC00GTDA/BAND_META.txt\n",
      "✅ Sun Elevation: 60.786925\n",
      "✅ Band2 Lmin/Lmax: 0.0 / 52.0\n",
      "✅ Band3 Lmin/Lmax: 0.0 / 47.0\n",
      "✅ Band4 Lmin/Lmax: 0.0 / 31.5\n",
      "🔍 Reading metadata from: ../data/train/cloud/BH_RAF08MAY2024038491010700053SSANSTUC00GTDA/BAND_META.txt\n",
      "✅ Sun Elevation: 70.708525\n",
      "✅ Band2 Lmin/Lmax: 0.0 / 52.0\n",
      "✅ Band3 Lmin/Lmax: 0.0 / 47.0\n",
      "✅ Band4 Lmin/Lmax: 0.0 / 31.5\n",
      "🔍 Reading metadata from: ../data/train/cloud/BH_R2F15JUN2024068272009300044SSANSTUC00GTDD/BAND_META.txt\n",
      "✅ Sun Elevation: 65.32242\n",
      "✅ Band2 Lmin/Lmax: 0.0 / 52.0\n",
      "✅ Band3 Lmin/Lmax: 0.0 / 47.0\n",
      "✅ Band4 Lmin/Lmax: 0.0 / 31.5\n",
      "🔍 Reading metadata from: ../data/train/cloud/R2F02FEB2025071568010100068SSANSTUC00GTDB/BAND_META.txt\n",
      "✅ Sun Elevation: 46.170577\n",
      "✅ Band2 Lmin/Lmax: 0.0 / 52.0\n",
      "✅ Band3 Lmin/Lmax: 0.0 / 47.0\n",
      "✅ Band4 Lmin/Lmax: 0.0 / 31.5\n",
      "🔍 Reading metadata from: ../data/train/cloud/RAF13NOV2024041177009200044SSANSTUC00GTDC/BAND_META.txt\n",
      "✅ Sun Elevation: 33.591415\n",
      "✅ Band2 Lmin/Lmax: 0.0 / 52.0\n",
      "✅ Band3 Lmin/Lmax: 0.0 / 47.0\n",
      "✅ Band4 Lmin/Lmax: 0.0 / 31.5\n",
      "🔍 Reading metadata from: ../data/train/cloud/R2F01JAN2025071113010900054SSANSTUC00GTDD/BAND_META.txt\n",
      "✅ Sun Elevation: 33.944899\n",
      "✅ Band2 Lmin/Lmax: 0.0 / 52.0\n",
      "✅ Band3 Lmin/Lmax: 0.0 / 47.0\n",
      "✅ Band4 Lmin/Lmax: 0.0 / 31.5\n",
      "🔍 Reading metadata from: ../data/train/cloud/R2F01JAN2025071113010900054SSANSTUC00GTDD 2/BAND_META.txt\n",
      "✅ Sun Elevation: 33.944899\n",
      "✅ Band2 Lmin/Lmax: 0.0 / 52.0\n",
      "✅ Band3 Lmin/Lmax: 0.0 / 47.0\n",
      "✅ Band4 Lmin/Lmax: 0.0 / 31.5\n",
      "🔍 Reading metadata from: ../data/train/cloud/BH_R2F30APR2024067624010300067SSANSTUC00GTDB/BAND_META.txt\n",
      "✅ Sun Elevation: 62.315206\n",
      "✅ Band2 Lmin/Lmax: 0.0 / 52.0\n",
      "✅ Band3 Lmin/Lmax: 0.0 / 47.0\n",
      "✅ Band4 Lmin/Lmax: 0.0 / 31.5\n",
      "🔍 Reading metadata from: ../data/train/cloud/BH_R2F05AUG2024068996010800054SSANSTUC00GTDD/BAND_META.txt\n",
      "✅ Sun Elevation: 62.034208\n",
      "✅ Band2 Lmin/Lmax: 0.0 / 52.0\n",
      "✅ Band3 Lmin/Lmax: 0.0 / 47.0\n",
      "✅ Band4 Lmin/Lmax: 0.0 / 31.5\n",
      "🔍 Reading metadata from: ../data/train/cloud/BH_RAF22JUN2024039131009200052SSANSTUC00GTDA/BAND_META.txt\n",
      "✅ Sun Elevation: 71.795867\n",
      "✅ Band2 Lmin/Lmax: 0.0 / 52.0\n",
      "✅ Band3 Lmin/Lmax: 0.0 / 47.0\n",
      "✅ Band4 Lmin/Lmax: 0.0 / 31.5\n",
      "🔍 Reading metadata from: ../data/train/cloud/RAF18MAY2025043819011000054SSANSTUC00GTDC/BAND_META.txt\n",
      "✅ Sun Elevation: 69.542931\n",
      "✅ Band2 Lmin/Lmax: 0.0 / 52.0\n",
      "✅ Band3 Lmin/Lmax: 0.0 / 47.0\n",
      "✅ Band4 Lmin/Lmax: 0.0 / 31.5\n",
      "🔍 Reading metadata from: ../data/train/cloud/BH_RAF10SEP2024040267010800054SSANSTUC00GTDC/BAND_META.txt\n",
      "✅ Sun Elevation: 62.659743\n",
      "✅ Band2 Lmin/Lmax: 0.0 / 52.0\n",
      "✅ Band3 Lmin/Lmax: 0.0 / 47.0\n",
      "✅ Band4 Lmin/Lmax: 0.0 / 31.5\n",
      "🔍 Reading metadata from: ../data/train/cloud/BH_R2F27AUG2024069309009800054SSANSTUC00GTDA/BAND_META.txt\n",
      "✅ Sun Elevation: 58.855629\n",
      "✅ Band2 Lmin/Lmax: 0.0 / 52.0\n",
      "✅ Band3 Lmin/Lmax: 0.0 / 47.0\n",
      "✅ Band4 Lmin/Lmax: 0.0 / 31.5\n",
      "🔍 Reading metadata from: ../data/train/cloud/BH_R2F01SEP2024069380009900053SSANSTUC00GTDC/BAND_META.txt\n",
      "✅ Sun Elevation: 57.877902\n",
      "✅ Band2 Lmin/Lmax: 0.0 / 52.0\n",
      "✅ Band3 Lmin/Lmax: 0.0 / 47.0\n",
      "✅ Band4 Lmin/Lmax: 0.0 / 31.5\n",
      "🔍 Reading metadata from: ../data/train/cloud/BH_RAF19JUL2024039514010700054SSANSTUC00GTDD/BAND_META.txt\n",
      "✅ Sun Elevation: 70.500431\n",
      "✅ Band2 Lmin/Lmax: 0.0 / 52.0\n",
      "✅ Band3 Lmin/Lmax: 0.0 / 47.0\n",
      "✅ Band4 Lmin/Lmax: 0.0 / 31.5\n",
      "🔍 Reading metadata from: ../data/train/cloud/R2F02FEB2025071568010100068SSANSTUC00GTDB 2/BAND_META.txt\n",
      "✅ Sun Elevation: 46.170577\n",
      "✅ Band2 Lmin/Lmax: 0.0 / 52.0\n",
      "✅ Band3 Lmin/Lmax: 0.0 / 47.0\n",
      "✅ Band4 Lmin/Lmax: 0.0 / 31.5\n",
      "🔍 Reading metadata from: ../data/train/cloud/R2F18JAN2025071363009800054SSANSTUC00GTDA/BAND_META.txt\n",
      "✅ Sun Elevation: 34.051967\n",
      "✅ Band2 Lmin/Lmax: 0.0 / 52.0\n",
      "✅ Band3 Lmin/Lmax: 0.0 / 47.0\n",
      "✅ Band4 Lmin/Lmax: 0.0 / 31.5\n",
      "🔍 Reading metadata from: ../data/train/cloud/BH_RAF18AUG2024039941008900053SSANSTUC00GTDB/BAND_META.txt\n",
      "✅ Sun Elevation: 66.892428\n",
      "✅ Band2 Lmin/Lmax: 0.0 / 52.0\n",
      "✅ Band3 Lmin/Lmax: 0.0 / 47.0\n",
      "✅ Band4 Lmin/Lmax: 0.0 / 31.5\n"
     ]
    }
   ],
   "source": [
    "import os\n",
    "\n",
    "base_path = \"../data/train/cloud/\"\n",
    "scene_folders = [f.path for f in os.scandir(base_path) if f.is_dir()]\n",
    "\n",
    "for scene in scene_folders:\n",
    "    meta_path = os.path.join(scene, \"BAND_META.txt\")\n",
    "    print(f\"🔍 Reading metadata from: {meta_path}\")\n",
    "    \n",
    "    if os.path.exists(meta_path):\n",
    "        with open(meta_path, \"r\") as f:\n",
    "            for line in f:\n",
    "                if \"SunElevationAtCenter\" in line:\n",
    "                    sun_elevation = float(line.split(\"=\")[-1].strip())\n",
    "                elif \"B2_Lmin\" in line:\n",
    "                    B2_Lmin = float(line.split(\"=\")[-1].strip())\n",
    "                elif \"B2_Lmax\" in line:\n",
    "                    B2_Lmax = float(line.split(\"=\")[-1].strip())\n",
    "                elif \"B3_Lmin\" in line:\n",
    "                    B3_Lmin = float(line.split(\"=\")[-1].strip())\n",
    "                elif \"B3_Lmax\" in line:\n",
    "                    B3_Lmax = float(line.split(\"=\")[-1].strip())\n",
    "                elif \"B4_Lmin\" in line:\n",
    "                    B4_Lmin = float(line.split(\"=\")[-1].strip())\n",
    "                elif \"B4_Lmax\" in line:\n",
    "                    B4_Lmax = float(line.split(\"=\")[-1].strip())\n",
    "        \n",
    "        print(f\"✅ Sun Elevation: {sun_elevation}\")\n",
    "        print(f\"✅ Band2 Lmin/Lmax: {B2_Lmin} / {B2_Lmax}\")\n",
    "        print(f\"✅ Band3 Lmin/Lmax: {B3_Lmin} / {B3_Lmax}\")\n",
    "        print(f\"✅ Band4 Lmin/Lmax: {B4_Lmin} / {B4_Lmax}\")\n",
    "    else:\n",
    "        print(\"❌ BAND_META.txt not found.\")"
   ]
  },
  {
   "cell_type": "code",
   "execution_count": 9,
   "id": "cb054e0f-b9d7-4ac9-a2c2-1dcaf3f64dd8",
   "metadata": {},
   "outputs": [],
   "source": [
    "import rasterio\n",
    "import numpy as np\n",
    "import os\n",
    "\n",
    "def read_bands(scene_path):\n",
    "    band_paths = {\n",
    "        \"BAND2\": os.path.join(scene_path, \"BAND2.tif\"),\n",
    "        \"BAND3\": os.path.join(scene_path, \"BAND3.tif\"),\n",
    "        \"BAND4\": os.path.join(scene_path, \"BAND4.tif\")\n",
    "    }\n",
    "\n",
    "    bands = {}\n",
    "    for band_name, path in band_paths.items():\n",
    "        with rasterio.open(path) as src:\n",
    "            bands[band_name] = src.read(1).astype(np.float32)\n",
    "            meta = src.meta  # use BAND2's metadata for writing later\n",
    "\n",
    "    return bands, meta\n",
    "\n"
   ]
  },
  {
   "cell_type": "code",
   "execution_count": 10,
   "id": "098f7650-86e5-4a76-b672-4bea35a9ce50",
   "metadata": {},
   "outputs": [],
   "source": [
    "import rasterio\n",
    "import numpy as np\n",
    "import os\n",
    "\n",
    "def read_bands(scene_path):\n",
    "    band_paths = {\n",
    "        \"BAND2\": os.path.join(scene_path, \"BAND2.tif\"),\n",
    "        \"BAND3\": os.path.join(scene_path, \"BAND3.tif\"),\n",
    "        \"BAND4\": os.path.join(scene_path, \"BAND4.tif\")\n",
    "    }\n",
    "\n",
    "    bands = {}\n",
    "    for band_name, path in band_paths.items():\n",
    "        with rasterio.open(path) as src:\n",
    "            bands[band_name] = src.read(1).astype(np.float32)\n",
    "            meta = src.meta  # use BAND2's metadata for writing later\n",
    "\n",
    "    return bands, meta\n"
   ]
  },
  {
   "cell_type": "code",
   "execution_count": 15,
   "id": "0b2e46c4-f420-4914-b8aa-063fb455e2d9",
   "metadata": {},
   "outputs": [],
   "source": [
    "scene_path = \"../data/train/cloud/BH_RAF16SEP2024040353009000054SSANSTUC00GTDA\"\n"
   ]
  },
  {
   "cell_type": "code",
   "execution_count": 16,
   "id": "2e812166-0388-4ce1-baa2-a27b8fbebe20",
   "metadata": {},
   "outputs": [
    {
     "name": "stdout",
     "output_type": "stream",
     "text": [
      "✅ Bands loaded:\n",
      "BAND2: shape = (16684, 17901), dtype = float32\n",
      "BAND3: shape = (16684, 17901), dtype = float32\n",
      "BAND4: shape = (16684, 17901), dtype = float32\n"
     ]
    }
   ],
   "source": [
    "bands, meta = read_bands(scene_path2)\n",
    "\n",
    "print(\"✅ Bands loaded:\")\n",
    "for k in bands:\n",
    "    print(f\"{k}: shape = {bands[k].shape}, dtype = {bands[k].dtype}\")"
   ]
  },
  {
   "cell_type": "code",
   "execution_count": 17,
   "id": "201fb3f9-dfa2-4dcf-9c01-3a640bc41b95",
   "metadata": {},
   "outputs": [],
   "source": [
    "meta_path = \"../data/train/cloud/BH_RAF16SEP2024040353009000054SSANSTUC00GTDA/BAND_META.txt\""
   ]
  },
  {
   "cell_type": "code",
   "execution_count": 18,
   "id": "7ff86ef6-688c-4443-9039-918cbcf8bd18",
   "metadata": {},
   "outputs": [
    {
     "name": "stdout",
     "output_type": "stream",
     "text": [
      "✅ Sun Elevation: 60.786925\n",
      "✅ Lmin: {'B2': 0.0, 'B3': 0.0, 'B4': 0.0}\n",
      "✅ Lmax: {'B2': 52.0, 'B3': 47.0, 'B4': 31.5}\n"
     ]
    }
   ],
   "source": [
    "def read_metadata(meta_path):\n",
    "    sun_elevation = None\n",
    "    Lmin = {}\n",
    "    Lmax = {}\n",
    "\n",
    "    with open(meta_path, \"r\") as f:\n",
    "        for line in f:\n",
    "            if \"SunElevationAtCenter\" in line:\n",
    "                sun_elevation = float(line.split(\"=\")[-1].strip())\n",
    "            for band in [\"B2\", \"B3\", \"B4\"]:\n",
    "                if f\"{band}_Lmin\" in line:\n",
    "                    Lmin[band] = float(line.split(\"=\")[-1].strip())\n",
    "                elif f\"{band}_Lmax\" in line:\n",
    "                    Lmax[band] = float(line.split(\"=\")[-1].strip())\n",
    "                    \n",
    "    return sun_elevation, Lmin, Lmax\n",
    "\n",
    "# Call it\n",
    "meta_path = os.path.join(scene_path, \"BAND_META.txt\")\n",
    "sun_elev, Lmin, Lmax = read_metadata(meta_path)\n",
    "\n",
    "print(\"✅ Sun Elevation:\", sun_elev)\n",
    "print(\"✅ Lmin:\", Lmin)\n",
    "print(\"✅ Lmax:\", Lmax)\n"
   ]
  },
  {
   "cell_type": "code",
   "execution_count": 19,
   "id": "7ad9b418-ba16-47db-841d-98e337e2de5d",
   "metadata": {},
   "outputs": [
    {
     "name": "stdout",
     "output_type": "stream",
     "text": [
      "✅ Sun Elevation: 60.786925\n",
      "✅ Lmin: {'B2': 0.0, 'B3': 0.0, 'B4': 0.0}\n",
      "✅ Lmax: {'B2': 52.0, 'B3': 47.0, 'B4': 31.5}\n"
     ]
    }
   ],
   "source": [
    "def read_metadata(meta_path):\n",
    "    sun_elevation = None\n",
    "    Lmin = {}\n",
    "    Lmax = {}\n",
    "\n",
    "    with open(meta_path, \"r\") as f:\n",
    "        for line in f:\n",
    "            if \"SunElevationAtCenter\" in line:\n",
    "                sun_elevation = float(line.split(\"=\")[-1].strip())\n",
    "            for band in [\"B2\", \"B3\", \"B4\"]:\n",
    "                if f\"{band}_Lmin\" in line:\n",
    "                    Lmin[band] = float(line.split(\"=\")[-1].strip())\n",
    "                elif f\"{band}_Lmax\" in line:\n",
    "                    Lmax[band] = float(line.split(\"=\")[-1].strip())\n",
    "                    \n",
    "    return sun_elevation, Lmin, Lmax\n",
    "\n",
    "# Call it\n",
    "meta_path = os.path.join(scene_path, \"BAND_META.txt\")\n",
    "sun_elev, Lmin, Lmax = read_metadata(meta_path)\n",
    "\n",
    "print(\"✅ Sun Elevation:\", sun_elev)\n",
    "print(\"✅ Lmin:\", Lmin)\n",
    "print(\"✅ Lmax:\", Lmax)\n"
   ]
  },
  {
   "cell_type": "code",
   "execution_count": 20,
   "id": "ab7532f9-4bc7-482d-b225-04ad9084a970",
   "metadata": {},
   "outputs": [
    {
     "name": "stdout",
     "output_type": "stream",
     "text": [
      "✅ Reflectance computed.\n",
      "BAND2: min=0.000, max=1.000\n",
      "BAND3: min=0.000, max=1.000\n",
      "BAND4: min=0.000, max=1.000\n"
     ]
    }
   ],
   "source": [
    "from math import pi, radians, cos\n",
    "\n",
    "def dn_to_radiance(dn, lmin, lmax):\n",
    "    return lmin + (dn / 255.0) * (lmax - lmin)\n",
    "\n",
    "def radiance_to_reflectance(L, Esun, d, theta_rad):\n",
    "    return (pi * L * d**2) / (Esun * cos(theta_rad))\n",
    "\n",
    "def convert_to_reflectance(bands, sun_elevation, Lmin, Lmax):\n",
    "    Esun = {\n",
    "        \"BAND2\": 185.347,\n",
    "        \"BAND3\": 158.262,\n",
    "        \"BAND4\": 110.81\n",
    "    }\n",
    "    d = 1.0  # Earth-Sun distance (can be taken from CSV later)\n",
    "    theta_rad = radians(90 - sun_elevation)\n",
    "\n",
    "    reflectance = {}\n",
    "    for band in bands:\n",
    "        band_key = band.replace(\"BAND\", \"B\")  # e.g., BAND2 → B2\n",
    "        L = dn_to_radiance(bands[band], Lmin[band_key], Lmax[band_key])\n",
    "        reflectance[band] = np.clip(\n",
    "            radiance_to_reflectance(L, Esun[band], d, theta_rad),\n",
    "            0, 1\n",
    "        )\n",
    "\n",
    "    return reflectance\n",
    "\n",
    "# Call it\n",
    "reflectance = convert_to_reflectance(bands, sun_elev, Lmin, Lmax)\n",
    "\n",
    "print(\"✅ Reflectance computed.\")\n",
    "for k in reflectance:\n",
    "    print(f\"{k}: min={reflectance[k].min():.3f}, max={reflectance[k].max():.3f}\")"
   ]
  },
  {
   "cell_type": "code",
   "execution_count": 21,
   "id": "0a8e59d8-20ca-41dd-91a4-02eec950be1f",
   "metadata": {},
   "outputs": [],
   "source": [
    "def classify_pixels_temp(reflectance):\n",
    "    b2 = reflectance[\"BAND2\"]\n",
    "    b3 = reflectance[\"BAND3\"]\n",
    "    b4 = reflectance[\"BAND4\"]\n",
    "\n",
    "    mask = np.zeros_like(b2, dtype=np.uint8)\n",
    "\n",
    "    # Optional: ignore zero-value pixels (probably nodata)\n",
    "    valid = (b2 > 0) & (b3 > 0) & (b4 > 0)\n",
    "\n",
    "    # 🌥️ CLOUD: very bright in all visible bands\n",
    "    cloud = (b2 > 0.35) & (b3 > 0.23) & (b4 > 0.22)\n",
    "\n",
    "    # 🌑 SHADOW: very dark in all bands + valid NDVI filtering\n",
    "   \n",
    "    ndvi = (b4 - b3) / (b4 + b3 + 1e-6)\n",
    "    shadow = (\n",
    "    (b2 < 0.1) & (b3 < 0.1) & (b4 < 0.12) & \n",
    "    (ndvi < 0.15)\n",
    "    )\n",
    "\n",
    "\n",
    "\n",
    "    mask[cloud] = 1\n",
    "    mask[shadow] = 2\n",
    "\n",
    "    return mask"
   ]
  },
  {
   "cell_type": "code",
   "execution_count": 22,
   "id": "274c2724-b41f-4b18-b838-87820903bf22",
   "metadata": {},
   "outputs": [],
   "source": [
    "mask = classify_pixels_temp(reflectance)"
   ]
  },
  {
   "cell_type": "code",
   "execution_count": 23,
   "id": "c34910b0-6184-4f6d-9a2c-ad7f202a3b94",
   "metadata": {},
   "outputs": [],
   "source": [
    "import matplotlib.pyplot as plt\n",
    "import numpy as np\n",
    "\n",
    "def analyze_reflectance_by_class(reflectance, mask):\n",
    "    classes = {\n",
    "        0: \"NOCLOUD\",\n",
    "        1: \"CLOUD\",\n",
    "        2: \"SHADOW\"\n",
    "    }\n",
    "\n",
    "    bands = [\"BAND2\", \"BAND3\", \"BAND4\"]\n",
    "    colors = {0: \"gray\", 1: \"red\", 2: \"blue\"}\n",
    "\n",
    "    plt.figure(figsize=(18, 4))\n",
    "\n",
    "    for i, band in enumerate(bands):\n",
    "        band_data = reflectance[band].flatten()\n",
    "        band_mask = mask.flatten()\n",
    "\n",
    "        plt.subplot(1, 3, i + 1)\n",
    "        for cls in [0, 1, 2]:\n",
    "            class_vals = band_data[band_mask == cls]\n",
    "            if len(class_vals) > 0:\n",
    "                plt.hist(class_vals, bins=100, alpha=0.6,\n",
    "                         label=f\"{classes[cls]}\", color=colors[cls])\n",
    "        \n",
    "        plt.title(f\"{band} Reflectance Histogram\")\n",
    "        plt.xlabel(\"Reflectance\")\n",
    "        plt.ylabel(\"Pixel Count\")\n",
    "        plt.legend()\n",
    "\n",
    "    plt.tight_layout()\n",
    "    plt.show()\n",
    "\n",
    "    print(\"📊 Class-wise Reflectance Statistics:\")\n",
    "    for cls in [0, 1, 2]:\n",
    "        print(f\"\\n--- {classes[cls]} ---\")\n",
    "        for band in bands:\n",
    "            vals = reflectance[band][mask == cls]\n",
    "            if len(vals) == 0:\n",
    "                print(f\"{band}: [no pixels]\")\n",
    "            else:\n",
    "                print(f\"{band}: min={vals.min():.3f}, mean={vals.mean():.3f}, max={vals.max():.3f}\")"
   ]
  },
  {
   "cell_type": "code",
   "execution_count": 24,
   "id": "82a95946-f4cb-4e4b-80d3-241f9fb66598",
   "metadata": {},
   "outputs": [
    {
     "name": "stdout",
     "output_type": "stream",
     "text": [
      "Mask class counts: {np.uint8(1): np.int64(236152451), np.uint8(2): np.int64(62507833)}\n"
     ]
    }
   ],
   "source": [
    "unique, counts = np.unique(mask, return_counts=True)\n",
    "print(\"Mask class counts:\", dict(zip(unique, counts)))\n"
   ]
  },
  {
   "cell_type": "code",
   "execution_count": 25,
   "id": "b9c68476-3033-4b78-9bc2-9d0a96945aff",
   "metadata": {},
   "outputs": [
    {
     "data": {
      "image/png": "[encoded data removed]",
      "text/plain": [
       "<Figure size 1800x400 with 3 Axes>"
      ]
     },
     "metadata": {},
     "output_type": "display_data"
    },
    {
     "name": "stdout",
     "output_type": "stream",
     "text": [
      "📊 Class-wise Reflectance Statistics:\n",
      "\n",
      "--- NOCLOUD ---\n",
      "BAND2: [no pixels]\n",
      "BAND3: [no pixels]\n",
      "BAND4: [no pixels]\n",
      "\n",
      "--- CLOUD ---\n",
      "BAND2: min=0.428, mean=0.848, max=1.000\n",
      "BAND3: min=0.340, mean=0.835, max=1.000\n",
      "BAND4: min=0.381, mean=0.978, max=1.000\n",
      "\n",
      "--- SHADOW ---\n",
      "BAND2: min=0.000, mean=0.000, max=0.000\n",
      "BAND3: min=0.000, mean=0.000, max=0.000\n",
      "BAND4: min=0.000, mean=0.000, max=0.000\n"
     ]
    }
   ],
   "source": [
    "analyze_reflectance_by_class(reflectance, mask)"
   ]
  },
  {
   "cell_type": "code",
   "execution_count": 26,
   "id": "5c994bc7-4061-4c59-b43d-d8e99a320058",
   "metadata": {},
   "outputs": [
    {
     "name": "stdout",
     "output_type": "stream",
     "text": [
      "✅ Mask Class Distribution:\n",
      "CLOUD (1): 236152451 pixels\n",
      "SHADOW (2): 62507833 pixels\n"
     ]
    }
   ],
   "source": [
    "mask = classify_pixels_temp(reflectance)\n",
    "\n",
    "unique, counts = np.unique(mask, return_counts=True)\n",
    "label_map = {0: \"NOCLOUD\", 1: \"CLOUD\", 2: \"SHADOW\"}\n",
    "print(\"✅ Mask Class Distribution:\")\n",
    "for u, c in zip(unique, counts):\n",
    "    print(f\"{label_map[u]} ({u}): {c} pixels\")\n"
   ]
  },
  {
   "cell_type": "code",
   "execution_count": 27,
   "id": "b35ecc7b-7dbf-4b63-87b1-7f4e5686febf",
   "metadata": {},
   "outputs": [],
   "source": [
    "import os\n",
    "\n",
    "def save_mask(mask, meta, scene_path, output_root=\"../outputs/masks\"):\n",
    "    \"\"\"\n",
    "    Save a georeferenced mask with scene name in the output folder.\n",
    "    - mask: numpy array (HxW)\n",
    "    - meta: rasterio metadata\n",
    "    - scene_path: full path to the scene folder\n",
    "    - output_root: folder where masks will be stored\n",
    "    \"\"\"\n",
    "\n",
    "    # Ensure output folder exists\n",
    "    os.makedirs(output_root, exist_ok=True)\n",
    "\n",
    "    # Extract scene name and set output path\n",
    "    scene_name = os.path.basename(scene_path.rstrip(\"/\"))\n",
    "    output_path = os.path.join(output_root, f\"{scene_name}_mask.tif\")\n",
    "\n",
    "    # Update metadata and write\n",
    "    meta.update({\n",
    "        \"count\": 1,\n",
    "        \"dtype\": \"uint8\"\n",
    "    })\n",
    "\n",
    "    with rasterio.open(output_path, \"w\", **meta) as dst:\n",
    "        dst.write(mask, 1)\n",
    "\n",
    "    print(f\"✅ Saved georeferenced mask: {output_path}\")\n"
   ]
  },
  {
   "cell_type": "code",
   "execution_count": 28,
   "id": "d8427c85-5fc2-4b46-b46b-c50dadd2b705",
   "metadata": {},
   "outputs": [
    {
     "name": "stdout",
     "output_type": "stream",
     "text": [
      "✅ Saved georeferenced mask: ../outputs/masks/BH_RAF16SEP2024040353009000054SSANSTUC00GTDA_mask.tif\n"
     ]
    }
   ],
   "source": [
    "save_mask(mask, meta, scene_path, output_root=\"../outputs/masks\")"
   ]
  },
  {
   "cell_type": "code",
   "execution_count": 29,
   "id": "76925087-81c3-4ee5-9643-a6024cc07aa4",
   "metadata": {},
   "outputs": [],
   "source": [
    " # We'll use BAND3 (Red), BAND2 (Green), BAND4 (NIR) to simulate RGB\n",
    "r = reflectance[\"BAND3\"]\n",
    "g = reflectance[\"BAND2\"]\n",
    "b = reflectance[\"BAND4\"]\n",
    "\n",
    "# Stack into RGB and clip to [0,1] for display\n",
    "rgb = np.stack([r, g, b], axis=-1)\n",
    "rgb = np.clip(rgb, 0, 1)\n"
   ]
  },
  {
   "cell_type": "code",
   "execution_count": 31,
   "id": "18eb8253-4991-4786-b434-388b9f6e8976",
   "metadata": {},
   "outputs": [],
   "source": [
    "import rasterio\n",
    "mask_path = \"../outputs/masks/BH_RAF16SEP2024040353009000054SSANSTUC00GTDA_mask.tif\"\n",
    "\n",
    "with rasterio.open(mask_path) as src:\n",
    "    mask = src.read(1)\n"
   ]
  },
  {
   "cell_type": "code",
   "execution_count": 32,
   "id": "111747a5-e0cc-469b-8c05-3be148698b99",
   "metadata": {},
   "outputs": [],
   "source": [
    "import os\n",
    "import matplotlib.pyplot as plt\n",
    "from skimage.transform import resize\n",
    "\n",
    "def save_mask_overlay_png(rgb, mask, scene_name, output_dir=\"../outputs/previews\", crop=None, scale=None):\n",
    "    \"\"\"\n",
    "    Saves a PNG of the reflectance RGB image with cloud/shadow mask overlay.\n",
    "    \n",
    "    Parameters:\n",
    "    - rgb: np.array (HxWx3) reflectance image\n",
    "    - mask: np.array (HxW) mask with values {0: NOCLOUD, 1: CLOUD, 2: SHADOW}\n",
    "    - scene_name: name of the scene (used in filename)\n",
    "    - output_dir: where to save the PNG\n",
    "    - crop: tuple of slices (rows, cols) to crop region\n",
    "    - scale: int factor to downsample full image\n",
    "    \"\"\"\n",
    "    \n",
    "    print(\"🎬 Starting PNG save for:\", scene_name)\n",
    "    os.makedirs(output_dir, exist_ok=True)\n",
    "\n",
    "    if crop:\n",
    "        rgb = rgb[crop]\n",
    "        mask = mask[crop]\n",
    "        suffix = \"crop\"\n",
    "    elif scale:\n",
    "        new_shape = (rgb.shape[0] // scale, rgb.shape[1] // scale)\n",
    "        rgb = resize(rgb, new_shape, anti_aliasing=True)\n",
    "        mask = resize(mask, new_shape, order=0, preserve_range=True).astype(np.uint8)\n",
    "        suffix = f\"scale{scale}\"\n",
    "    else:\n",
    "        raise ValueError(\"❌ You must provide either `crop` or `scale` argument.\")\n",
    "\n",
    "    # Plot and save PNG\n",
    "    plt.figure(figsize=(8, 8))\n",
    "    plt.imshow(rgb, alpha=0.7)\n",
    "    plt.imshow(mask, cmap=\"coolwarm\", alpha=0.3)\n",
    "    plt.axis(\"off\")\n",
    "    plt.title(f\"Mask Overlay - {scene_name} ({suffix})\")\n",
    "\n",
    "    save_path = os.path.join(output_dir, f\"{scene_name}_{suffix}.png\")\n",
    "    plt.savefig(save_path, bbox_inches=\"tight\", dpi=150)\n",
    "    plt.close()\n",
    "\n",
    "    print(f\"✅ Preview saved at: {save_path}\")\n"
   ]
  },
  {
   "cell_type": "code",
   "execution_count": 35,
   "id": "e894a0ac-e3d6-4494-a52c-7749e773237f",
   "metadata": {},
   "outputs": [
    {
     "name": "stdout",
     "output_type": "stream",
     "text": [
      "🎬 Starting PNG save for: BH_RAF16SEP2024\n",
      "✅ Preview saved at: ../outputs/previews/BH_RAF16SEP2024_scale10.png\n"
     ]
    }
   ],
   "source": [
    "save_mask_overlay_png(rgb, mask, scene_name=\"BH_RAF16SEP2024\", scale=10)\n"
   ]
  },
  {
   "cell_type": "code",
   "execution_count": 36,
   "id": "f0aae02f-9ffe-47d0-a22c-d0ffbcb122ab",
   "metadata": {},
   "outputs": [
    {
     "name": "stdout",
     "output_type": "stream",
     "text": [
      "CRS: EPSG:32642\n",
      "Transform: | 5.00, 0.00, 538098.94|\n",
      "| 0.00,-5.00, 2851177.50|\n",
      "| 0.00, 0.00, 1.00|\n"
     ]
    }
   ],
   "source": [
    "import rasterio\n",
    "\n",
    "with rasterio.open(\"../outputs/masks/BH_RAF16SEP2024040353009000054SSANSTUC00GTDA_mask.tif\") as src:\n",
    "    print(\"CRS:\", src.crs)\n",
    "    print(\"Transform:\", src.transform)\n"
   ]
  },
  {
   "cell_type": "code",
   "execution_count": null,
   "id": "94befa4f-d31d-45ad-9457-f3cb88c75fc6",
   "metadata": {},
   "outputs": [],
   "source": []
  }
 ],
 "metadata": {
  "kernelspec": {
   "display_name": "Python (cloudvenv)",
   "language": "python",
   "name": "cloudvenv"
  },
  "language_info": {
   "codemirror_mode": {
    "name": "ipython",
    "version": 3
   },
   "file_extension": ".py",
   "mimetype": "text/x-python",
   "name": "python",
   "nbconvert_exporter": "python",
   "pygments_lexer": "ipython3",
   "version": "3.13.4"
  }
 },
 "nbformat": 4,
 "nbformat_minor": 5
}
