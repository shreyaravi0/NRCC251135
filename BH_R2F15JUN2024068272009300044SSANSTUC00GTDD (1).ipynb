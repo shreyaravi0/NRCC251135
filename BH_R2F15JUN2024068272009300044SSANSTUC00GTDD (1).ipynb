{
 "cells": [
  {
   "cell_type": "code",
   "execution_count": 2,
   "id": "e561b319-f3af-4e95-b45d-1bb9076efba6",
   "metadata": {},
   "outputs": [],
   "source": [
    "scene_path = \"../data/train/cloud/BH_R2F15JUN2024068272009300044SSANSTUC00GTDD\""
   ]
  },
  {
   "cell_type": "code",
   "execution_count": 3,
   "id": "b73e2ee1-3f30-4b75-a757-1b86bfecfc84",
   "metadata": {},
   "outputs": [
    {
     "name": "stdout",
     "output_type": "stream",
     "text": [
      "yes\n"
     ]
    }
   ],
   "source": [
    "import os\n",
    "import numpy as np\n",
    "import rasterio\n",
    "import matplotlib.pyplot as plt\n",
    "from glob import glob\n",
    "print(\"yes\")\n"
   ]
  },
  {
   "cell_type": "code",
   "execution_count": 4,
   "id": "e03b2299-f6b0-40a9-9d4d-66ae444667c1",
   "metadata": {},
   "outputs": [
    {
     "name": "stdout",
     "output_type": "stream",
     "text": [
      "yes\n"
     ]
    }
   ],
   "source": [
    "# === Metadata Constants ===\n",
    "sun_elevation = 69.011613\n",
    "sun_zenith_angle = 90 - sun_elevation\n",
    "theta_rad = np.deg2rad(sun_zenith_angle)\n",
    "d = 0.983  # Earth–Sun distance (AU)\n",
    "\n",
    "# Lmin, Lmax for RS-2A LISS-4 (Green, Red, NIR)\n",
    "Lmin = [0.0, 0.0, 0.0]\n",
    "Lmax = [52.0, 47.0, 31.5]\n",
    "\n",
    "# Esun values for RS-2A (Green, Red, NIR)\n",
    "Esun = [185.347, 158.262, 110.81]\n",
    "print(\"yes\")"
   ]
  },
  {
   "cell_type": "code",
   "execution_count": 5,
   "id": "da7d4c68-80b3-410c-95d1-f81806f50363",
   "metadata": {},
   "outputs": [],
   "source": [
    "def dn_to_radiance(dn_band, lmin, lmax):\n",
    "    return lmin + (dn_band / 255.0) * (lmax - lmin)\n",
    "\n",
    "def radiance_to_reflectance(L, esun, d, theta_rad):\n",
    "    return (np.pi * L * d**2) / (esun * np.cos(theta_rad))\n"
   ]
  },
  {
   "cell_type": "code",
   "execution_count": 6,
   "id": "183b4b3f-b5d6-4df9-9625-a0eed58d9bca",
   "metadata": {},
   "outputs": [],
   "source": [
    "from PIL import Image\n",
    "import os\n",
    "from glob import glob\n",
    "\n",
    "input_folder = \"../data/train/cloudimages\"\n",
    "output_folder = \"../data/train/cloudimages_tiff\"\n",
    "os.makedirs(output_folder, exist_ok=True)\n",
    "\n",
    "# Convert all JPGs to TIFFs\n",
    "jpg_paths = glob(os.path.join(input_folder, \"*.jpg\"))\n",
    "\n",
    "for path in jpg_paths:\n",
    "    img = Image.open(path).convert(\"RGB\")  # Ensure 3-channel\n",
    "    filename = os.path.basename(path).replace(\".jpg\", \".tif\")\n",
    "    output_path = os.path.join(output_folder, filename)\n",
    "    img.save(output_path, format=\"TIFF\")\n",
    "    print(f\"Saved: {output_path}\")"
   ]
  },
  {
   "cell_type": "code",
   "execution_count": 7,
   "id": "646607ad-97c2-496d-b712-0305c680ca3d",
   "metadata": {},
   "outputs": [],
   "source": [
    "import rasterio\n",
    "import numpy as np\n",
    "import os\n",
    "\n",
    "def read_bands(scene_path):\n",
    "    band_paths = {\n",
    "        \"BAND2\": os.path.join(scene_path, \"BAND2.tif\"),\n",
    "        \"BAND3\": os.path.join(scene_path, \"BAND3.tif\"),\n",
    "        \"BAND4\": os.path.join(scene_path, \"BAND4.tif\")\n",
    "    }\n",
    "\n",
    "    bands = {}\n",
    "    for band_name, path in band_paths.items():\n",
    "        with rasterio.open(path) as src:\n",
    "            bands[band_name] = src.read(1).astype(np.float32)\n",
    "            meta = src.meta  # use BAND2's metadata for writing later\n",
    "\n",
    "    return bands, meta\n",
    "\n"
   ]
  },
  {
   "cell_type": "code",
   "execution_count": 8,
   "id": "d02be184-c241-4821-a9e5-6b69b8532791",
   "metadata": {},
   "outputs": [
    {
     "name": "stdout",
     "output_type": "stream",
     "text": [
      "✅ Bands loaded:\n",
      "BAND2: shape = (17191, 18209), dtype = float32\n",
      "BAND3: shape = (17191, 18209), dtype = float32\n",
      "BAND4: shape = (17191, 18209), dtype = float32\n"
     ]
    }
   ],
   "source": [
    "bands, meta = read_bands(scene_path)\n",
    "\n",
    "print(\"✅ Bands loaded:\")\n",
    "for k in bands:\n",
    "    print(f\"{k}: shape = {bands[k].shape}, dtype = {bands[k].dtype}\")"
   ]
  },
  {
   "cell_type": "code",
   "execution_count": 9,
   "id": "d6d3264b-0edf-40d1-b705-3621ca5c1877",
   "metadata": {},
   "outputs": [],
   "source": [
    "meta_path = \"../data/train/cloud/BH_R2F15JUN2024068272009300044SSANSTUC00GTDD/BAND_META.txt\""
   ]
  },
  {
   "cell_type": "code",
   "execution_count": 10,
   "id": "9b3a6623-93cf-4355-9f8a-f87484be7c37",
   "metadata": {},
   "outputs": [
    {
     "name": "stdout",
     "output_type": "stream",
     "text": [
      "✅ Sun Elevation: 65.32242\n",
      "✅ Lmin: {'B2': 0.0, 'B3': 0.0, 'B4': 0.0}\n",
      "✅ Lmax: {'B2': 52.0, 'B3': 47.0, 'B4': 31.5}\n"
     ]
    }
   ],
   "source": [
    "def read_metadata(meta_path):\n",
    "    sun_elevation = None\n",
    "    Lmin = {}\n",
    "    Lmax = {}\n",
    "\n",
    "    with open(meta_path, \"r\") as f:\n",
    "        for line in f:\n",
    "            if \"SunElevationAtCenter\" in line:\n",
    "                sun_elevation = float(line.split(\"=\")[-1].strip())\n",
    "            for band in [\"B2\", \"B3\", \"B4\"]:\n",
    "                if f\"{band}_Lmin\" in line:\n",
    "                    Lmin[band] = float(line.split(\"=\")[-1].strip())\n",
    "                elif f\"{band}_Lmax\" in line:\n",
    "                    Lmax[band] = float(line.split(\"=\")[-1].strip())\n",
    "                    \n",
    "    return sun_elevation, Lmin, Lmax\n",
    "\n",
    "# Call it\n",
    "meta_path = os.path.join(scene_path, \"BAND_META.txt\")\n",
    "sun_elev, Lmin, Lmax = read_metadata(meta_path)\n",
    "\n",
    "print(\"✅ Sun Elevation:\", sun_elev)\n",
    "print(\"✅ Lmin:\", Lmin)\n",
    "print(\"✅ Lmax:\", Lmax)\n"
   ]
  },
  {
   "cell_type": "code",
   "execution_count": 11,
   "id": "eee980dd-b22c-4855-9fb1-b906ceab8df0",
   "metadata": {},
   "outputs": [
    {
     "name": "stdout",
     "output_type": "stream",
     "text": [
      "✅ Reflectance computed.\n",
      "BAND2: min=0.000, max=1.000\n",
      "BAND3: min=0.000, max=1.000\n",
      "BAND4: min=0.000, max=1.000\n"
     ]
    }
   ],
   "source": [
    "from math import pi, radians, cos\n",
    "\n",
    "def dn_to_radiance(dn, lmin, lmax):\n",
    "    return lmin + (dn / 255.0) * (lmax - lmin)\n",
    "\n",
    "def radiance_to_reflectance(L, Esun, d, theta_rad):\n",
    "    return (pi * L * d**2) / (Esun * cos(theta_rad))\n",
    "\n",
    "def convert_to_reflectance(bands, sun_elevation, Lmin, Lmax):\n",
    "    Esun = {\n",
    "        \"BAND2\": 185.347,\n",
    "        \"BAND3\": 158.262,\n",
    "        \"BAND4\": 110.81\n",
    "    }\n",
    "    d = 1.0  # Earth-Sun distance (can be taken from CSV later)\n",
    "    theta_rad = radians(90 - sun_elevation)\n",
    "\n",
    "    reflectance = {}\n",
    "    for band in bands:\n",
    "        band_key = band.replace(\"BAND\", \"B\")  # e.g., BAND2 → B2\n",
    "        L = dn_to_radiance(bands[band], Lmin[band_key], Lmax[band_key])\n",
    "        reflectance[band] = np.clip(\n",
    "            radiance_to_reflectance(L, Esun[band], d, theta_rad),\n",
    "            0, 1\n",
    "        )\n",
    "\n",
    "    return reflectance\n",
    "\n",
    "# Call it\n",
    "reflectance = convert_to_reflectance(bands, sun_elev, Lmin, Lmax)\n",
    "\n",
    "print(\"✅ Reflectance computed.\")\n",
    "for k in reflectance:\n",
    "    print(f\"{k}: min={reflectance[k].min():.3f}, max={reflectance[k].max():.3f}\")"
   ]
  },
  {
   "cell_type": "code",
   "execution_count": 12,
   "id": "78199e2a-ea56-4636-99cf-9d5c7a1455a8",
   "metadata": {},
   "outputs": [],
   "source": [
    "def classify_pixels_temp(reflectance):\n",
    "    b2 = reflectance[\"BAND2\"]\n",
    "    b3 = reflectance[\"BAND3\"]\n",
    "    b4 = reflectance[\"BAND4\"]\n",
    "\n",
    "    mask = np.zeros_like(b2, dtype=np.uint8)\n",
    "\n",
    "    # Optional: ignore zero-value pixels (probably nodata)\n",
    "    valid = (b2 > 0) & (b3 > 0) & (b4 > 0)\n",
    "\n",
    "    # 🌥️ CLOUD: very bright in all visible bands\n",
    "    cloud = (b2 > 0.35) & (b3 > 0.23) & (b4 > 0.22)\n",
    "\n",
    "    # 🌑 SHADOW: very dark in all bands + valid NDVI filtering\n",
    "   \n",
    "    ndvi = (b4 - b3) / (b4 + b3 + 1e-6)\n",
    "    shadow = (\n",
    "    (b2 < 0.1) & (b3 < 0.1) & (b4 < 0.12) & \n",
    "    (ndvi < 0.15)\n",
    "    )\n",
    "\n",
    "\n",
    "\n",
    "    mask[cloud] = 1\n",
    "    mask[shadow] = 2\n",
    "\n",
    "    return mask"
   ]
  },
  {
   "cell_type": "code",
   "execution_count": 13,
   "id": "aaa0b7cf-b3b8-4b85-b468-9cea97ef1c90",
   "metadata": {},
   "outputs": [],
   "source": [
    "mask = classify_pixels_temp(reflectance)"
   ]
  },
  {
   "cell_type": "code",
   "execution_count": 14,
   "id": "afe80689-f03e-494a-a528-e92e1baee4b1",
   "metadata": {},
   "outputs": [],
   "source": [
    "import matplotlib.pyplot as plt\n",
    "import numpy as np\n",
    "\n",
    "def analyze_reflectance_by_class(reflectance, mask):\n",
    "    classes = {\n",
    "        0: \"NOCLOUD\",\n",
    "        1: \"CLOUD\",\n",
    "        2: \"SHADOW\"\n",
    "    }\n",
    "\n",
    "    bands = [\"BAND2\", \"BAND3\", \"BAND4\"]\n",
    "    colors = {0: \"gray\", 1: \"red\", 2: \"blue\"}\n",
    "\n",
    "    plt.figure(figsize=(18, 4))\n",
    "\n",
    "    for i, band in enumerate(bands):\n",
    "        band_data = reflectance[band].flatten()\n",
    "        band_mask = mask.flatten()\n",
    "\n",
    "        plt.subplot(1, 3, i + 1)\n",
    "        for cls in [0, 1, 2]:\n",
    "            class_vals = band_data[band_mask == cls]\n",
    "            if len(class_vals) > 0:\n",
    "                plt.hist(class_vals, bins=100, alpha=0.6,\n",
    "                         label=f\"{classes[cls]}\", color=colors[cls])\n",
    "        \n",
    "        plt.title(f\"{band} Reflectance Histogram\")\n",
    "        plt.xlabel(\"Reflectance\")\n",
    "        plt.ylabel(\"Pixel Count\")\n",
    "        plt.legend()\n",
    "\n",
    "    plt.tight_layout()\n",
    "    plt.show()\n",
    "\n",
    "    print(\"📊 Class-wise Reflectance Statistics:\")\n",
    "    for cls in [0, 1, 2]:\n",
    "        print(f\"\\n--- {classes[cls]} ---\")\n",
    "        for band in bands:\n",
    "            vals = reflectance[band][mask == cls]\n",
    "            if len(vals) == 0:\n",
    "                print(f\"{band}: [no pixels]\")\n",
    "            else:\n",
    "                print(f\"{band}: min={vals.min():.3f}, mean={vals.mean():.3f}, max={vals.max():.3f}\")"
   ]
  },
  {
   "cell_type": "code",
   "execution_count": 15,
   "id": "3a6419ff-970b-4ab6-b4b1-1345dfaa0718",
   "metadata": {},
   "outputs": [
    {
     "name": "stdout",
     "output_type": "stream",
     "text": [
      "Mask class counts: {np.uint8(0): np.int64(2517899), np.uint8(1): np.int64(241149817), np.uint8(2): np.int64(69363203)}\n"
     ]
    }
   ],
   "source": [
    "unique, counts = np.unique(mask, return_counts=True)\n",
    "print(\"Mask class counts:\", dict(zip(unique, counts)))"
   ]
  },
  {
   "cell_type": "code",
   "execution_count": 16,
   "id": "9ae414cb-460e-40a1-8476-fbe802911e0e",
   "metadata": {},
   "outputs": [
    {
     "data": {
      "image/png": "[encoded data removed]",
      "text/plain": [
       "<Figure size 1800x400 with 3 Axes>"
      ]
     },
     "metadata": {},
     "output_type": "display_data"
    },
    {
     "name": "stdout",
     "output_type": "stream",
     "text": [
      "📊 Class-wise Reflectance Statistics:\n",
      "\n",
      "--- NOCLOUD ---\n",
      "BAND2: min=0.221, mean=0.310, max=0.886\n",
      "BAND3: min=0.000, mean=0.298, max=1.000\n",
      "BAND4: min=0.000, mean=0.345, max=1.000\n",
      "\n",
      "--- CLOUD ---\n",
      "BAND2: min=0.354, mean=0.861, max=1.000\n",
      "BAND3: min=0.234, mean=0.878, max=1.000\n",
      "BAND4: min=0.227, mean=0.909, max=1.000\n",
      "\n",
      "--- SHADOW ---\n",
      "BAND2: min=0.000, mean=0.000, max=0.000\n",
      "BAND3: min=0.000, mean=0.000, max=0.000\n",
      "BAND4: min=0.000, mean=0.000, max=0.000\n"
     ]
    }
   ],
   "source": [
    "analyze_reflectance_by_class(reflectance, mask)"
   ]
  },
  {
   "cell_type": "code",
   "execution_count": 17,
   "id": "30eb99dd-3df3-44dd-9ccb-34e8ad82cf5f",
   "metadata": {},
   "outputs": [
    {
     "name": "stdout",
     "output_type": "stream",
     "text": [
      "✅ Mask Class Distribution:\n",
      "NOCLOUD (0): 2517899 pixels\n",
      "CLOUD (1): 241149817 pixels\n",
      "SHADOW (2): 69363203 pixels\n"
     ]
    }
   ],
   "source": [
    "mask = classify_pixels_temp(reflectance)\n",
    "\n",
    "unique, counts = np.unique(mask, return_counts=True)\n",
    "label_map = {0: \"NOCLOUD\", 1: \"CLOUD\", 2: \"SHADOW\"}\n",
    "print(\"✅ Mask Class Distribution:\")\n",
    "for u, c in zip(unique, counts):\n",
    "    print(f\"{label_map[u]} ({u}): {c} pixels\")\n"
   ]
  },
  {
   "cell_type": "code",
   "execution_count": 18,
   "id": "6c9dfdad-03e1-4249-ba83-fceeb809f46a",
   "metadata": {},
   "outputs": [],
   "source": [
    "import os\n",
    "\n",
    "def save_mask(mask, meta, scene_path, output_root=\"../outputs/masks\"):\n",
    "    \"\"\"\n",
    "    Save a georeferenced mask with scene name in the output folder.\n",
    "    - mask: numpy array (HxW)\n",
    "    - meta: rasterio metadata\n",
    "    - scene_path: full path to the scene folder\n",
    "    - output_root: folder where masks will be stored\n",
    "    \"\"\"\n",
    "\n",
    "    # Ensure output folder exists\n",
    "    os.makedirs(output_root, exist_ok=True)\n",
    "\n",
    "    # Extract scene name and set output path\n",
    "    scene_name = os.path.basename(scene_path.rstrip(\"/\"))\n",
    "    output_path = os.path.join(output_root, f\"{scene_name}_mask.tif\")\n",
    "\n",
    "    # Update metadata and write\n",
    "    meta.update({\n",
    "        \"count\": 1,\n",
    "        \"dtype\": \"uint8\"\n",
    "    })\n",
    "\n",
    "    with rasterio.open(output_path, \"w\", **meta) as dst:\n",
    "        dst.write(mask, 1)\n",
    "\n",
    "    print(f\"✅ Saved georeferenced mask: {output_path}\")\n"
   ]
  },
  {
   "cell_type": "code",
   "execution_count": 19,
   "id": "12c66cb2-68ba-4b5c-b567-2ec3ed287a7f",
   "metadata": {},
   "outputs": [
    {
     "name": "stdout",
     "output_type": "stream",
     "text": [
      "✅ Saved georeferenced mask: ../outputs/masks/BH_R2F15JUN2024068272009300044SSANSTUC00GTDD_mask.tif\n"
     ]
    }
   ],
   "source": [
    "save_mask(mask, meta, scene_path, output_root=\"../outputs/masks\")"
   ]
  },
  {
   "cell_type": "code",
   "execution_count": 20,
   "id": "e1c2116d-ad88-4045-bf89-8bc8720e726e",
   "metadata": {},
   "outputs": [],
   "source": [
    " # We'll use BAND3 (Red), BAND2 (Green), BAND4 (NIR) to simulate RGB\n",
    "r = reflectance[\"BAND3\"]\n",
    "g = reflectance[\"BAND2\"]\n",
    "b = reflectance[\"BAND4\"]\n",
    "\n",
    "# Stack into RGB and clip to [0,1] for display\n",
    "rgb = np.stack([r, g, b], axis=-1)\n",
    "rgb = np.clip(rgb, 0, 1)\n"
   ]
  },
  {
   "cell_type": "code",
   "execution_count": 21,
   "id": "b5a9e217-038d-453e-b45d-b8c10a33b3f6",
   "metadata": {},
   "outputs": [],
   "source": [
    "import os\n",
    "import matplotlib.pyplot as plt\n",
    "from skimage.transform import resize\n",
    "\n",
    "def save_mask_overlay_png(rgb, mask, scene_name, output_dir=\"../outputs/previews\", crop=None, scale=None):\n",
    "    \"\"\"\n",
    "    Saves a PNG of the reflectance RGB image with cloud/shadow mask overlay.\n",
    "    \n",
    "    Parameters:\n",
    "    - rgb: np.array (HxWx3) reflectance image\n",
    "    - mask: np.array (HxW) mask with values {0: NOCLOUD, 1: CLOUD, 2: SHADOW}\n",
    "    - scene_name: name of the scene (used in filename)\n",
    "    - output_dir: where to save the PNG\n",
    "    - crop: tuple of slices (rows, cols) to crop region\n",
    "    - scale: int factor to downsample full image\n",
    "    \"\"\"\n",
    "    \n",
    "    print(\"🎬 Starting PNG save for:\", scene_name)\n",
    "    os.makedirs(output_dir, exist_ok=True)\n",
    "\n",
    "    if crop:\n",
    "        rgb = rgb[crop]\n",
    "        mask = mask[crop]\n",
    "        suffix = \"crop\"\n",
    "    elif scale:\n",
    "        new_shape = (rgb.shape[0] // scale, rgb.shape[1] // scale)\n",
    "        rgb = resize(rgb, new_shape, anti_aliasing=True)\n",
    "        mask = resize(mask, new_shape, order=0, preserve_range=True).astype(np.uint8)\n",
    "        suffix = f\"scale{scale}\"\n",
    "    else:\n",
    "        raise ValueError(\"❌ You must provide either `crop` or `scale` argument.\")\n",
    "\n",
    "    # Plot and save PNG\n",
    "    plt.figure(figsize=(8, 8))\n",
    "    plt.imshow(rgb, alpha=0.7)\n",
    "    plt.imshow(mask, cmap=\"coolwarm\", alpha=0.3)\n",
    "    plt.axis(\"off\")\n",
    "    plt.title(f\"Mask Overlay - {scene_name} ({suffix})\")\n",
    "\n",
    "    save_path = os.path.join(output_dir, f\"{scene_name}_{suffix}.png\")\n",
    "    plt.savefig(save_path, bbox_inches=\"tight\", dpi=150)\n",
    "    plt.close()\n",
    "\n",
    "    print(f\"✅ Preview saved at: {save_path}\")\n"
   ]
  },
  {
   "cell_type": "code",
   "execution_count": 24,
   "id": "fedc60c0-9c5a-4d0b-a7f8-ed012ec37b15",
   "metadata": {},
   "outputs": [
    {
     "name": "stdout",
     "output_type": "stream",
     "text": [
      "🎬 Starting PNG save for: BH_RAF15FEB2024\n",
      "✅ Preview saved at: ../outputs/previews/BH_RAF15FEB2024_scale10.png\n"
     ]
    }
   ],
   "source": [
    "save_mask_overlay_png(rgb, mask, scene_name=\"BH_RAF15FEB2024\", scale=10)"
   ]
  },
  {
   "cell_type": "code",
   "execution_count": 23,
   "id": "1e0837ed-b620-4939-a2f0-ac445f339020",
   "metadata": {},
   "outputs": [
    {
     "name": "stdout",
     "output_type": "stream",
     "text": [
      "CRS: EPSG:32642\n",
      "Transform: | 5.00, 0.00, 538098.94|\n",
      "| 0.00,-5.00, 2851177.50|\n",
      "| 0.00, 0.00, 1.00|\n"
     ]
    }
   ],
   "source": [
    "import rasterio\n",
    "\n",
    "with rasterio.open(\"../outputs/masks/BH_RAF16SEP2024040353009000054SSANSTUC00GTDA_mask.tif\") as src:\n",
    "    print(\"CRS:\", src.crs)\n",
    "    print(\"Transform:\", src.transform)\n"
   ]
  },
  {
   "cell_type": "code",
   "execution_count": null,
   "id": "7246a640-33e9-4bf8-80a6-f4d7a931a2b3",
   "metadata": {},
   "outputs": [],
   "source": []
  }
 ],
 "metadata": {
  "kernelspec": {
   "display_name": "Python (cloudvenv)",
   "language": "python",
   "name": "cloudvenv"
  },
  "language_info": {
   "codemirror_mode": {
    "name": "ipython",
    "version": 3
   },
   "file_extension": ".py",
   "mimetype": "text/x-python",
   "name": "python",
   "nbconvert_exporter": "python",
   "pygments_lexer": "ipython3",
   "version": "3.13.4"
  }
 },
 "nbformat": 4,
 "nbformat_minor": 5
}
